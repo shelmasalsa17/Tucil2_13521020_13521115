{
 "cells": [
  {
   "cell_type": "code",
   "execution_count": null,
   "metadata": {},
   "outputs": [],
   "source": [
    "import pandas as pd \n",
    "from IPython.display import display, Markdown\n",
    "import matplotlib.pyplot as plt  \n",
    "from scipy.stats import kurtosis\n",
    "from tabulate import tabulate\n",
    "\n",
    "df = pd.read_csv(\"../data/data_train.csv\")\n",
    "\n"
   ]
  }
 ],
 "metadata": {
  "language_info": {
   "name": "python"
  }
 },
 "nbformat": 4,
 "nbformat_minor": 2
}
