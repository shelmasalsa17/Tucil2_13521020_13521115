{
 "cells": [
  {
   "cell_type": "code",
   "execution_count": 1,
   "id": "74080226",
   "metadata": {},
   "outputs": [
    {
     "name": "stdout",
     "output_type": "stream",
     "text": [
      "      battery_power  blue  clock_speed  dual_sim  fc  four_g  int_memory   \n",
      "0               804     1          0.8         1  12       1          41  \\\n",
      "1              1042     0          2.2         0  15       1          11   \n",
      "2              1481     1          2.0         1   0       0          35   \n",
      "3              1104     0          1.7         0   1       1          60   \n",
      "4               652     0          0.5         1   1       0          58   \n",
      "...             ...   ...          ...       ...  ..     ...         ...   \n",
      "1395            536     1          1.4         0   0       1          53   \n",
      "1396           1097     0          0.8         0  10       1          21   \n",
      "1397           1179     1          0.5         0   7       1          32   \n",
      "1398            719     1          0.5         1   0       1          23   \n",
      "1399           1439     0          0.9         0  12       1          20   \n",
      "\n",
      "      m_dep  mobile_wt  n_cores  ...  px_height  px_width   ram  sc_h  sc_w   \n",
      "0       0.9         89        1  ...        709       818  2027    11     5  \\\n",
      "1       0.6        139        5  ...         68      1018  2826    18     0   \n",
      "2       0.5        105        3  ...        249       522  2635    17    16   \n",
      "3       0.4        199        2  ...        653      1413  1229     6     0   \n",
      "4       0.6        142        3  ...        464       781   565    18    12   \n",
      "...     ...        ...      ...  ...        ...       ...   ...   ...   ...   \n",
      "1395    0.7        135        3  ...        547       705  1211    15    10   \n",
      "1396    0.1        160        7  ...       1277      1352  2219    15     6   \n",
      "1397    0.3        182        2  ...         85      1451   340    16     5   \n",
      "1398    0.4        113        6  ...        431      1727  3990    14     9   \n",
      "1399    0.8        147        1  ...        626       932  1790    19    12   \n",
      "\n",
      "      talk_time  three_g  touch_screen  wifi  price_range  \n",
      "0            11        1             0     0            1  \n",
      "1             2        1             0     0            2  \n",
      "2             4        1             0     1            2  \n",
      "3             3        1             1     1            0  \n",
      "4             9        0             0     1            0  \n",
      "...         ...      ...           ...   ...          ...  \n",
      "1395          7        1             0     1            0  \n",
      "1396         12        1             0     1            2  \n",
      "1397         16        1             0     0            0  \n",
      "1398         12        1             1     1            3  \n",
      "1399         15        1             0     1            1  \n",
      "\n",
      "[1400 rows x 21 columns]\n"
     ]
    }
   ],
   "source": [
    "#Baca Data \n",
    "import pandas as pd \n",
    "df = pd.read_csv(\"../data/data_train.csv\")\n",
    "print(df)"
   ]
  },
  {
   "cell_type": "code",
   "execution_count": null,
   "id": "0d00e169",
   "metadata": {},
   "outputs": [],
   "source": []
  }
 ],
 "metadata": {
  "kernelspec": {
   "display_name": "Python 3 (ipykernel)",
   "language": "python",
   "name": "python3"
  },
  "language_info": {
   "codemirror_mode": {
    "name": "ipython",
    "version": 3
   },
   "file_extension": ".py",
   "mimetype": "text/x-python",
   "name": "python",
   "nbconvert_exporter": "python",
   "pygments_lexer": "ipython3",
   "version": "3.10.11"
  }
 },
 "nbformat": 4,
 "nbformat_minor": 5
}
