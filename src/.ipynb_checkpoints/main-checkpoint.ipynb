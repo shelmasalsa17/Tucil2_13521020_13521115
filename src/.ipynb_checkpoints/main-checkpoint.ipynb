{
 "cells": [
  {
   "cell_type": "code",
   "execution_count": 24,
   "id": "74080226",
   "metadata": {},
   "outputs": [],
   "source": [
    "import pandas as pd \n",
    "from IPython.display import display, Markdown\n",
    "import matplotlib.pyplot as plt  \n",
    "from scipy.stats import kurtosis\n",
    "from tabulate import tabulate\n",
    "\n",
    "df = pd.read_csv(\"../data/data_train.csv\")\n",
    "#Merubah tipe data yang terdiri dari 1 dan 0 menjadi tipe data boolean\n",
    "\n",
    "kolom_boolean = ['blue', 'dual_sim', 'four_g', 'three_g', 'touch_screen', 'wifi']\n",
    "for kolom in kolom_boolean:\n",
    "    df[kolom] = df[kolom].astype(bool)\n",
    "# Fungsi untuk statistika dasar\n",
    "def statistikaDasar(kolom, df):\n",
    "    return df[kolom].describe()\n",
    "\n",
    "# Fungsi untuk mencari duplicate value\n",
    "def duplicateValue(kolom, df):\n",
    "    duplicate_counts = df[kolom].duplicated(keep=False)\n",
    "    duplicate_values = df[kolom][duplicate_counts]\n",
    "    counts = duplicate_values.value_counts()\n",
    "    if not counts.empty:\n",
    "        return counts\n",
    "    else:\n",
    "        return \"Tidak ada data yang merupakan duplikat.\"\n",
    "\n",
    "# Fungsi untuk mencari missing value\n",
    "def missingValue(kolom, df):\n",
    "    missing_indices = df.index[df[kolom].isna()].tolist()\n",
    "    missing_count = len(missing_indices)\n",
    "    return missing_indices, missing_count\n",
    "\n",
    "# Fungsi untuk mencari outlier\n",
    "def findOutlier(kolom, df):\n",
    "    if df[kolom].dtype == 'int64' or df[kolom].dtype == 'float64':\n",
    "        Q1 = df[kolom].quantile(0.25)\n",
    "        Q3 = df[kolom].quantile(0.75)\n",
    "        IQR = Q3 - Q1\n",
    "        lower_bound = Q1 - 1.5 * IQR\n",
    "        upper_bound = Q3 + 1.5 * IQR\n",
    "        outliers = df[(df[kolom] < lower_bound) | (df[kolom] > upper_bound)]\n",
    "        if outliers.empty:\n",
    "            return \"Tidak ada outlier\"\n",
    "        else:\n",
    "            return outliers\n",
    "    else:\n",
    "        return \"Tidak ada outlier\"\n",
    "# Fungsi untuk menggambar grafik\n",
    "def drawGraphic(kolom, df):\n",
    "    if df[kolom].dtype == 'int64' or df[kolom].dtype == 'float64':\n",
    "        # Kolom numerik\n",
    "        plt.figure(figsize=(8, 4))\n",
    "        plt.subplot(1, 2, 1)\n",
    "        df[kolom].plot(kind='hist', bins=10)\n",
    "        plt.title(f'Distribusi Data - {kolom}')\n",
    "        kurt = kurtosis(df[kolom])\n",
    "        print(\"Nilai Kurtosis\")\n",
    "        print(kurt)\n",
    "    else:\n",
    "        # Kolom non numerik\n",
    "        plt.figure(figsize=(6, 4))\n",
    "        df[kolom].value_counts().plot(kind='bar')\n",
    "        plt.title(f'Histogram - {kolom}') \n",
    "    plt.show()\n",
    "# Fungsi untuk mencari kolerasi\n",
    "def calculationWithColumnTarget(kolom, df):\n",
    "    correlation = df[kolom].corr(df['price_range'])\n",
    "    return correlation\n",
    "#Fungsi Untuk Mengeluarkan semua hasil \n",
    "def finalValue(kolom, df):\n",
    "    result = statistikaDasar(kolom, df)\n",
    "    table = tabulate(result.to_frame(), headers=[\"Statistik Dasar\"], tablefmt=\"pipe\")\n",
    "    display(Markdown(f\"**Statistika Dasar {kolom}**\"))\n",
    "    display(Markdown(table))\n",
    "    display(Markdown(f\"**Duplicate Value {kolom} Data Train**\"))\n",
    "    result1 = duplicateValue(kolom, df)\n",
    "    table1 = tabulate(result1.to_frame(), headers=[\"Duplicate Value\"], tablefmt=\"pipe\")\n",
    "    display(Markdown(table1))\n",
    "    display(Markdown(f\"**Missing Value {kolom} Data Train**\"))\n",
    "    missing_value, missing_count = missingValue(kolom, df)\n",
    "    if(missing_count == 0):\n",
    "        display(\"Tidak ada missing value\")\n",
    "    else:\n",
    "        print(\"Jumlah mising value adalah\", end=\" \")\n",
    "        print(missing_count)\n",
    "        result2 = missing_value\n",
    "        table2 = tabulate(result2.to_frame(), headers=[\"Missing Value\"], tablefmt=\"pipe\")\n",
    "        display(Markdown(f\"**Missing value {kolom}**\"))\n",
    "        display(Markdown(table2))\n",
    "    display(Markdown(f\"**Outlier {kolom} Data Train**\"))\n",
    "    result3 = findOutlier(kolom, df)\n",
    "    if isinstance(result3, pd.Series):\n",
    "        table3 = tabulate(result3.to_frame(), headers=[\"Outlier\"], tablefmt=\"pipe\")\n",
    "        display(Markdown(f\"**Outlier {kolom}**\"))\n",
    "        display(Markdown(table3))\n",
    "    else:\n",
    "        display(Markdown(\"Tidak ada outlier\"))\n",
    "    display(Markdown(\"**Distribusi data**\"))\n",
    "    drawGraphic(kolom, df)\n",
    "    display(Markdown(\"**Kolerasi dengan kolom 'price_range'**\"))\n",
    "    print(calculationWithColumnTarget(kolom, df))"
   ]
  },
  {
   "cell_type": "code",
   "execution_count": 25,
   "id": "0d00e169",
   "metadata": {
    "scrolled": false
   },
   "outputs": [
    {
     "data": {
      "text/markdown": [
       "**Statistika Dasar px_height**"
      ],
      "text/plain": [
       "<IPython.core.display.Markdown object>"
      ]
     },
     "metadata": {},
     "output_type": "display_data"
    },
    {
     "data": {
      "text/markdown": [
       "|       |   Statistik Dasar |\n",
       "|:------|------------------:|\n",
       "| count |          1400     |\n",
       "| mean  |           643.178 |\n",
       "| std   |           444.629 |\n",
       "| min   |             0     |\n",
       "| 25%   |           273.75  |\n",
       "| 50%   |           561     |\n",
       "| 75%   |           950.25  |\n",
       "| max   |          1960     |"
      ],
      "text/plain": [
       "<IPython.core.display.Markdown object>"
      ]
     },
     "metadata": {},
     "output_type": "display_data"
    },
    {
     "data": {
      "text/markdown": [
       "**Duplicate Value px_height Data Train**"
      ],
      "text/plain": [
       "<IPython.core.display.Markdown object>"
      ]
     },
     "metadata": {},
     "output_type": "display_data"
    },
    {
     "data": {
      "text/markdown": [
       "|      |   Duplicate Value |\n",
       "|-----:|------------------:|\n",
       "|  347 |                 5 |\n",
       "|   88 |                 5 |\n",
       "|  526 |                 5 |\n",
       "|  730 |                 4 |\n",
       "|  140 |                 4 |\n",
       "|  217 |                 4 |\n",
       "|  447 |                 4 |\n",
       "|  831 |                 4 |\n",
       "|  632 |                 4 |\n",
       "|  322 |                 4 |\n",
       "|  416 |                 4 |\n",
       "|  273 |                 4 |\n",
       "|  919 |                 4 |\n",
       "|  275 |                 4 |\n",
       "|  229 |                 4 |\n",
       "|  410 |                 4 |\n",
       "|  179 |                 4 |\n",
       "|  293 |                 4 |\n",
       "| 1111 |                 3 |\n",
       "|  168 |                 3 |\n",
       "|  300 |                 3 |\n",
       "|  211 |                 3 |\n",
       "|  327 |                 3 |\n",
       "|   96 |                 3 |\n",
       "|  622 |                 3 |\n",
       "|  207 |                 3 |\n",
       "|  356 |                 3 |\n",
       "|  329 |                 3 |\n",
       "|  690 |                 3 |\n",
       "|  268 |                 3 |\n",
       "|  881 |                 3 |\n",
       "|  935 |                 3 |\n",
       "|  713 |                 3 |\n",
       "|  154 |                 3 |\n",
       "|  371 |                 3 |\n",
       "|  629 |                 3 |\n",
       "|  150 |                 3 |\n",
       "|  320 |                 3 |\n",
       "|  547 |                 3 |\n",
       "|   90 |                 3 |\n",
       "|  119 |                 3 |\n",
       "|  253 |                 3 |\n",
       "|   59 |                 3 |\n",
       "|  398 |                 3 |\n",
       "|  186 |                 3 |\n",
       "| 1055 |                 3 |\n",
       "|  335 |                 3 |\n",
       "|  358 |                 3 |\n",
       "|  798 |                 3 |\n",
       "|   58 |                 3 |\n",
       "|  271 |                 3 |\n",
       "|  204 |                 3 |\n",
       "|  262 |                 3 |\n",
       "|  518 |                 3 |\n",
       "|  431 |                 3 |\n",
       "|  651 |                 3 |\n",
       "|  419 |                 3 |\n",
       "|  584 |                 3 |\n",
       "|  380 |                 3 |\n",
       "|  395 |                 3 |\n",
       "|  332 |                 3 |\n",
       "|  344 |                 3 |\n",
       "| 1109 |                 3 |\n",
       "|  214 |                 3 |\n",
       "|  291 |                 3 |\n",
       "|  163 |                 3 |\n",
       "|  961 |                 3 |\n",
       "| 1064 |                 3 |\n",
       "|  311 |                 3 |\n",
       "|  655 |                 3 |\n",
       "|  533 |                 3 |\n",
       "|  381 |                 3 |\n",
       "|  777 |                 3 |\n",
       "|   56 |                 3 |\n",
       "| 1028 |                 3 |\n",
       "|   79 |                 3 |\n",
       "|  781 |                 3 |\n",
       "|  674 |                 3 |\n",
       "|  404 |                 3 |\n",
       "|  667 |                 3 |\n",
       "|  199 |                 3 |\n",
       "|  159 |                 3 |\n",
       "|  670 |                 3 |\n",
       "|   46 |                 3 |\n",
       "|  942 |                 3 |\n",
       "|  333 |                 3 |\n",
       "|  286 |                 3 |\n",
       "|  236 |                 3 |\n",
       "|  564 |                 3 |\n",
       "|  160 |                 3 |\n",
       "|  251 |                 3 |\n",
       "|  306 |                 3 |\n",
       "| 1331 |                 3 |\n",
       "| 1314 |                 3 |\n",
       "|   85 |                 3 |\n",
       "|   83 |                 3 |\n",
       "|  125 |                 2 |\n",
       "|  743 |                 2 |\n",
       "|  189 |                 2 |\n",
       "| 1571 |                 2 |\n",
       "|  793 |                 2 |\n",
       "|  161 |                 2 |\n",
       "|  148 |                 2 |\n",
       "|  838 |                 2 |\n",
       "|  511 |                 2 |\n",
       "|  212 |                 2 |\n",
       "|  818 |                 2 |\n",
       "|   64 |                 2 |\n",
       "|   42 |                 2 |\n",
       "|  225 |                 2 |\n",
       "|   81 |                 2 |\n",
       "| 1399 |                 2 |\n",
       "|  581 |                 2 |\n",
       "|  227 |                 2 |\n",
       "|  190 |                 2 |\n",
       "|  346 |                 2 |\n",
       "|  308 |                 2 |\n",
       "|  117 |                 2 |\n",
       "|  839 |                 2 |\n",
       "|  717 |                 2 |\n",
       "|  649 |                 2 |\n",
       "|  683 |                 2 |\n",
       "|  205 |                 2 |\n",
       "|   86 |                 2 |\n",
       "|  382 |                 2 |\n",
       "|  553 |                 2 |\n",
       "|  570 |                 2 |\n",
       "|  859 |                 2 |\n",
       "|  379 |                 2 |\n",
       "| 1054 |                 2 |\n",
       "| 1092 |                 2 |\n",
       "|  409 |                 2 |\n",
       "|  905 |                 2 |\n",
       "| 1222 |                 2 |\n",
       "|   68 |                 2 |\n",
       "|  747 |                 2 |\n",
       "|  519 |                 2 |\n",
       "|  527 |                 2 |\n",
       "|  206 |                 2 |\n",
       "|  471 |                 2 |\n",
       "| 1179 |                 2 |\n",
       "| 1172 |                 2 |\n",
       "|  741 |                 2 |\n",
       "|  681 |                 2 |\n",
       "|  386 |                 2 |\n",
       "|  223 |                 2 |\n",
       "|  181 |                 2 |\n",
       "|  954 |                 2 |\n",
       "|  754 |                 2 |\n",
       "|  338 |                 2 |\n",
       "|  757 |                 2 |\n",
       "|  202 |                 2 |\n",
       "|  299 |                 2 |\n",
       "|  599 |                 2 |\n",
       "|  433 |                 2 |\n",
       "|  233 |                 2 |\n",
       "| 1482 |                 2 |\n",
       "|  473 |                 2 |\n",
       "|  759 |                 2 |\n",
       "|  297 |                 2 |\n",
       "|  167 |                 2 |\n",
       "|   39 |                 2 |\n",
       "|  385 |                 2 |\n",
       "|  258 |                 2 |\n",
       "|  647 |                 2 |\n",
       "|  776 |                 2 |\n",
       "|   71 |                 2 |\n",
       "|  442 |                 2 |\n",
       "|  532 |                 2 |\n",
       "|  561 |                 2 |\n",
       "|  364 |                 2 |\n",
       "|  331 |                 2 |\n",
       "| 1168 |                 2 |\n",
       "|  504 |                 2 |\n",
       "|  912 |                 2 |\n",
       "|  837 |                 2 |\n",
       "|  758 |                 2 |\n",
       "|  484 |                 2 |\n",
       "|  417 |                 2 |\n",
       "|  323 |                 2 |\n",
       "|   19 |                 2 |\n",
       "|  466 |                 2 |\n",
       "|  963 |                 2 |\n",
       "|  574 |                 2 |\n",
       "| 1091 |                 2 |\n",
       "| 1194 |                 2 |\n",
       "| 1325 |                 2 |\n",
       "| 1208 |                 2 |\n",
       "|  127 |                 2 |\n",
       "|  403 |                 2 |\n",
       "| 1563 |                 2 |\n",
       "| 1187 |                 2 |\n",
       "|  902 |                 2 |\n",
       "| 1012 |                 2 |\n",
       "|  118 |                 2 |\n",
       "|   35 |                 2 |\n",
       "|  478 |                 2 |\n",
       "|   52 |                 2 |\n",
       "|  176 |                 2 |\n",
       "| 1100 |                 2 |\n",
       "|  543 |                 2 |\n",
       "|  499 |                 2 |\n",
       "|  295 |                 2 |\n",
       "|  436 |                 2 |\n",
       "|  361 |                 2 |\n",
       "|  480 |                 2 |\n",
       "| 1171 |                 2 |\n",
       "| 1052 |                 2 |\n",
       "|  313 |                 2 |\n",
       "|  126 |                 2 |\n",
       "|  290 |                 2 |\n",
       "|  492 |                 2 |\n",
       "|  699 |                 2 |\n",
       "|  209 |                 2 |\n",
       "|  767 |                 2 |\n",
       "| 1107 |                 2 |\n",
       "| 1177 |                 2 |\n",
       "|  192 |                 2 |\n",
       "|  762 |                 2 |\n",
       "|  169 |                 2 |\n",
       "| 1191 |                 2 |\n",
       "|   48 |                 2 |\n",
       "| 1086 |                 2 |\n",
       "|  522 |                 2 |\n",
       "|  366 |                 2 |\n",
       "|  861 |                 2 |\n",
       "|  284 |                 2 |\n",
       "|  885 |                 2 |\n",
       "|  937 |                 2 |\n",
       "| 1013 |                 2 |\n",
       "|  142 |                 2 |\n",
       "|  590 |                 2 |\n",
       "|  591 |                 2 |\n",
       "|  336 |                 2 |\n",
       "|  115 |                 2 |\n",
       "| 1003 |                 2 |\n",
       "|  724 |                 2 |\n",
       "| 1134 |                 2 |\n",
       "|  191 |                 2 |\n",
       "|  938 |                 2 |\n",
       "|  600 |                 2 |\n",
       "|  951 |                 2 |\n",
       "|  785 |                 2 |\n",
       "|  114 |                 2 |\n",
       "|  531 |                 2 |\n",
       "|  287 |                 2 |\n",
       "|  706 |                 2 |\n",
       "|  948 |                 2 |\n",
       "|   43 |                 2 |\n",
       "|  788 |                 2 |\n",
       "|  725 |                 2 |\n",
       "|  867 |                 2 |\n",
       "| 1058 |                 2 |\n",
       "|  897 |                 2 |\n",
       "|  468 |                 2 |\n",
       "|  773 |                 2 |\n",
       "|  263 |                 2 |\n",
       "| 1362 |                 2 |\n",
       "|  267 |                 2 |\n",
       "|  111 |                 2 |\n",
       "|  607 |                 2 |\n",
       "|  173 |                 2 |\n",
       "|  461 |                 2 |\n",
       "| 1226 |                 2 |\n",
       "| 1419 |                 2 |\n",
       "|  412 |                 2 |\n",
       "|  765 |                 2 |\n",
       "| 1230 |                 2 |\n",
       "|  405 |                 2 |\n",
       "|  982 |                 2 |\n",
       "|  105 |                 2 |\n",
       "|  491 |                 2 |\n",
       "|  486 |                 2 |\n",
       "|  430 |                 2 |\n",
       "|  281 |                 2 |\n",
       "|  782 |                 2 |\n",
       "| 1209 |                 2 |\n",
       "| 1233 |                 2 |\n",
       "| 1392 |                 2 |\n",
       "|  983 |                 2 |\n",
       "|  231 |                 2 |\n",
       "|  494 |                 2 |\n",
       "|  742 |                 2 |\n",
       "|  174 |                 2 |\n",
       "|  485 |                 2 |\n",
       "|  560 |                 2 |\n",
       "| 1116 |                 2 |\n",
       "|  920 |                 2 |\n",
       "|  193 |                 2 |\n",
       "|  606 |                 2 |\n",
       "|  626 |                 2 |\n",
       "|   77 |                 2 |\n",
       "|  623 |                 2 |\n",
       "|  249 |                 2 |\n",
       "|  165 |                 2 |\n",
       "|  312 |                 2 |\n",
       "|  157 |                 2 |\n",
       "|  103 |                 2 |\n",
       "|  875 |                 2 |\n",
       "|  314 |                 2 |\n",
       "|  901 |                 2 |\n",
       "| 1698 |                 2 |\n",
       "|  710 |                 2 |\n",
       "|  819 |                 2 |\n",
       "| 1081 |                 2 |\n",
       "|  854 |                 2 |\n",
       "|   91 |                 2 |\n",
       "|  238 |                 2 |\n",
       "|  120 |                 2 |\n",
       "|  512 |                 2 |\n",
       "| 1001 |                 2 |\n",
       "|  925 |                 2 |\n",
       "|  541 |                 2 |\n",
       "| 1125 |                 2 |\n",
       "|    8 |                 2 |\n",
       "|  129 |                 2 |\n",
       "|  712 |                 2 |\n",
       "| 1175 |                 2 |\n",
       "|  276 |                 2 |\n",
       "|  985 |                 2 |\n",
       "| 1025 |                 2 |\n",
       "|  774 |                 2 |\n",
       "| 1495 |                 2 |\n",
       "|  614 |                 2 |\n",
       "|  650 |                 2 |\n",
       "|  177 |                 2 |\n",
       "|  394 |                 2 |\n",
       "|  187 |                 2 |\n",
       "|  146 |                 2 |\n",
       "|  274 |                 2 |\n",
       "|  235 |                 2 |\n",
       "|  605 |                 2 |\n",
       "|  800 |                 2 |\n",
       "|  501 |                 2 |\n",
       "|  449 |                 2 |\n",
       "|  833 |                 2 |\n",
       "|  138 |                 2 |\n",
       "|  178 |                 2 |\n",
       "| 1024 |                 2 |\n",
       "|   98 |                 2 |\n",
       "|   65 |                 2 |\n",
       "|  550 |                 2 |\n",
       "|  687 |                 2 |\n",
       "| 1010 |                 2 |\n",
       "|  454 |                 2 |\n",
       "|   55 |                 2 |\n",
       "|  707 |                 2 |\n",
       "|  134 |                 2 |"
      ],
      "text/plain": [
       "<IPython.core.display.Markdown object>"
      ]
     },
     "metadata": {},
     "output_type": "display_data"
    },
    {
     "data": {
      "text/markdown": [
       "**Missing Value px_height Data Train**"
      ],
      "text/plain": [
       "<IPython.core.display.Markdown object>"
      ]
     },
     "metadata": {},
     "output_type": "display_data"
    },
    {
     "data": {
      "text/plain": [
       "'Tidak ada missing value'"
      ]
     },
     "metadata": {},
     "output_type": "display_data"
    },
    {
     "data": {
      "text/markdown": [
       "**Outlier px_height Data Train**"
      ],
      "text/plain": [
       "<IPython.core.display.Markdown object>"
      ]
     },
     "metadata": {},
     "output_type": "display_data"
    },
    {
     "data": {
      "text/markdown": [
       "Tidak ada outlier"
      ],
      "text/plain": [
       "<IPython.core.display.Markdown object>"
      ]
     },
     "metadata": {},
     "output_type": "display_data"
    },
    {
     "data": {
      "text/markdown": [
       "**Distribusi data**"
      ],
      "text/plain": [
       "<IPython.core.display.Markdown object>"
      ]
     },
     "metadata": {},
     "output_type": "display_data"
    },
    {
     "name": "stdout",
     "output_type": "stream",
     "text": [
      "Nilai Kurtosis\n",
      "-0.31938304471706\n"
     ]
    },
    {
     "data": {
      "image/png": "[encoded data removed]",
      "text/plain": [
       "<Figure size 800x400 with 1 Axes>"
      ]
     },
     "metadata": {},
     "output_type": "display_data"
    },
    {
     "data": {
      "text/markdown": [
       "**Kolerasi dengan kolom 'price_range'**"
      ],
      "text/plain": [
       "<IPython.core.display.Markdown object>"
      ]
     },
     "metadata": {},
     "output_type": "display_data"
    },
    {
     "name": "stdout",
     "output_type": "stream",
     "text": [
      "0.15883273548307963\n"
     ]
    }
   ],
   "source": [
    "#Nomor 12 Kolom px_height\n",
    "finalValue('px_height',df)\n",
    "#Hasil Analisis"
   ]
  },
  {
   "cell_type": "code",
   "execution_count": 26,
   "id": "75e681ba",
   "metadata": {},
   "outputs": [
    {
     "data": {
      "text/markdown": [
       "**Statistika Dasar px_width**"
      ],
      "text/plain": [
       "<IPython.core.display.Markdown object>"
      ]
     },
     "metadata": {},
     "output_type": "display_data"
    },
    {
     "data": {
      "text/markdown": [
       "|       |   Statistik Dasar |\n",
       "|:------|------------------:|\n",
       "| count |          1400     |\n",
       "| mean  |          1251.72  |\n",
       "| std   |           428.983 |\n",
       "| min   |           500     |\n",
       "| 25%   |           876.5   |\n",
       "| 50%   |          1247     |\n",
       "| 75%   |          1627.5   |\n",
       "| max   |          1998     |"
      ],
      "text/plain": [
       "<IPython.core.display.Markdown object>"
      ]
     },
     "metadata": {},
     "output_type": "display_data"
    },
    {
     "data": {
      "text/markdown": [
       "**Duplicate Value px_width Data Train**"
      ],
      "text/plain": [
       "<IPython.core.display.Markdown object>"
      ]
     },
     "metadata": {},
     "output_type": "display_data"
    },
    {
     "data": {
      "text/markdown": [
       "|      |   Duplicate Value |\n",
       "|-----:|------------------:|\n",
       "| 1247 |                 6 |\n",
       "| 1463 |                 5 |\n",
       "| 1234 |                 5 |\n",
       "| 1923 |                 5 |\n",
       "|  882 |                 4 |\n",
       "| 1759 |                 4 |\n",
       "| 1670 |                 4 |\n",
       "| 1011 |                 4 |\n",
       "| 1564 |                 4 |\n",
       "|  891 |                 4 |\n",
       "| 1767 |                 4 |\n",
       "|  831 |                 4 |\n",
       "| 1079 |                 4 |\n",
       "| 1353 |                 4 |\n",
       "| 1418 |                 4 |\n",
       "| 1393 |                 4 |\n",
       "| 1299 |                 4 |\n",
       "| 1026 |                 4 |\n",
       "| 1203 |                 4 |\n",
       "| 1226 |                 4 |\n",
       "| 1469 |                 4 |\n",
       "|  822 |                 4 |\n",
       "|  874 |                 4 |\n",
       "| 1666 |                 4 |\n",
       "| 1383 |                 4 |\n",
       "|  642 |                 3 |\n",
       "|  816 |                 3 |\n",
       "| 1988 |                 3 |\n",
       "|  817 |                 3 |\n",
       "| 1435 |                 3 |\n",
       "| 1726 |                 3 |\n",
       "| 1055 |                 3 |\n",
       "| 1849 |                 3 |\n",
       "| 1596 |                 3 |\n",
       "| 1118 |                 3 |\n",
       "| 1304 |                 3 |\n",
       "| 1545 |                 3 |\n",
       "| 1182 |                 3 |\n",
       "| 1264 |                 3 |\n",
       "| 1162 |                 3 |\n",
       "|  823 |                 3 |\n",
       "| 1910 |                 3 |\n",
       "| 1933 |                 3 |\n",
       "| 1262 |                 3 |\n",
       "|  583 |                 3 |\n",
       "|  510 |                 3 |\n",
       "|  676 |                 3 |\n",
       "| 1152 |                 3 |\n",
       "|  915 |                 3 |\n",
       "| 1330 |                 3 |\n",
       "| 1504 |                 3 |\n",
       "| 1786 |                 3 |\n",
       "| 1046 |                 3 |\n",
       "| 1208 |                 3 |\n",
       "| 1713 |                 3 |\n",
       "| 1018 |                 3 |\n",
       "|  736 |                 3 |\n",
       "| 1813 |                 3 |\n",
       "|  559 |                 3 |\n",
       "| 1554 |                 3 |\n",
       "| 1814 |                 3 |\n",
       "|  989 |                 3 |\n",
       "|  963 |                 3 |\n",
       "| 1717 |                 3 |\n",
       "| 1595 |                 3 |\n",
       "| 1724 |                 3 |\n",
       "| 1089 |                 3 |\n",
       "| 1029 |                 3 |\n",
       "|  804 |                 3 |\n",
       "| 1224 |                 3 |\n",
       "| 1663 |                 3 |\n",
       "| 1742 |                 3 |\n",
       "| 1931 |                 3 |\n",
       "|  563 |                 3 |\n",
       "| 1212 |                 3 |\n",
       "| 1873 |                 3 |\n",
       "| 1477 |                 3 |\n",
       "|  679 |                 3 |\n",
       "|  818 |                 3 |\n",
       "|  970 |                 3 |\n",
       "| 1836 |                 3 |\n",
       "|  627 |                 3 |\n",
       "| 1178 |                 3 |\n",
       "| 1441 |                 3 |\n",
       "| 1744 |                 3 |\n",
       "| 1179 |                 3 |\n",
       "| 1317 |                 3 |\n",
       "| 1345 |                 3 |\n",
       "| 1411 |                 3 |\n",
       "|  881 |                 3 |\n",
       "| 1429 |                 3 |\n",
       "|  952 |                 3 |\n",
       "|  682 |                 3 |\n",
       "| 1854 |                 3 |\n",
       "| 1009 |                 3 |\n",
       "|  654 |                 3 |\n",
       "|  522 |                 3 |\n",
       "|  519 |                 3 |\n",
       "| 1723 |                 2 |\n",
       "| 1897 |                 2 |\n",
       "| 1967 |                 2 |\n",
       "| 1704 |                 2 |\n",
       "| 1578 |                 2 |\n",
       "| 1929 |                 2 |\n",
       "| 1235 |                 2 |\n",
       "| 1294 |                 2 |\n",
       "|  932 |                 2 |\n",
       "| 1963 |                 2 |\n",
       "|  603 |                 2 |\n",
       "| 1377 |                 2 |\n",
       "|  956 |                 2 |\n",
       "| 1076 |                 2 |\n",
       "|  727 |                 2 |\n",
       "| 1805 |                 2 |\n",
       "| 1876 |                 2 |\n",
       "| 1629 |                 2 |\n",
       "|  670 |                 2 |\n",
       "| 1004 |                 2 |\n",
       "|  527 |                 2 |\n",
       "| 1073 |                 2 |\n",
       "| 1316 |                 2 |\n",
       "| 1641 |                 2 |\n",
       "|  564 |                 2 |\n",
       "| 1532 |                 2 |\n",
       "| 1974 |                 2 |\n",
       "|  616 |                 2 |\n",
       "|  663 |                 2 |\n",
       "| 1292 |                 2 |\n",
       "| 1947 |                 2 |\n",
       "|  728 |                 2 |\n",
       "| 1019 |                 2 |\n",
       "| 1796 |                 2 |\n",
       "| 1727 |                 2 |\n",
       "|  836 |                 2 |\n",
       "|  899 |                 2 |\n",
       "| 1398 |                 2 |\n",
       "|  759 |                 2 |\n",
       "| 1143 |                 2 |\n",
       "| 1905 |                 2 |\n",
       "|  557 |                 2 |\n",
       "| 1968 |                 2 |\n",
       "|  884 |                 2 |\n",
       "|  599 |                 2 |\n",
       "| 1656 |                 2 |\n",
       "|  747 |                 2 |\n",
       "|  967 |                 2 |\n",
       "| 1702 |                 2 |\n",
       "| 1206 |                 2 |\n",
       "| 1491 |                 2 |\n",
       "| 1291 |                 2 |\n",
       "| 1127 |                 2 |\n",
       "|  710 |                 2 |\n",
       "| 1728 |                 2 |\n",
       "| 1643 |                 2 |\n",
       "|  675 |                 2 |\n",
       "| 1155 |                 2 |\n",
       "| 1658 |                 2 |\n",
       "| 1623 |                 2 |\n",
       "| 1040 |                 2 |\n",
       "| 1309 |                 2 |\n",
       "| 1331 |                 2 |\n",
       "|  999 |                 2 |\n",
       "| 1311 |                 2 |\n",
       "| 1777 |                 2 |\n",
       "|  539 |                 2 |\n",
       "| 1517 |                 2 |\n",
       "| 1205 |                 2 |\n",
       "| 1382 |                 2 |\n",
       "| 1613 |                 2 |\n",
       "| 1648 |                 2 |\n",
       "| 1758 |                 2 |\n",
       "| 1032 |                 2 |\n",
       "|  507 |                 2 |\n",
       "| 1165 |                 2 |\n",
       "| 1989 |                 2 |\n",
       "| 1673 |                 2 |\n",
       "|  938 |                 2 |\n",
       "|  681 |                 2 |\n",
       "| 1781 |                 2 |\n",
       "|  873 |                 2 |\n",
       "| 1078 |                 2 |\n",
       "| 1958 |                 2 |\n",
       "| 1677 |                 2 |\n",
       "|  819 |                 2 |\n",
       "|  893 |                 2 |\n",
       "| 1497 |                 2 |\n",
       "|  969 |                 2 |\n",
       "| 1416 |                 2 |\n",
       "| 1084 |                 2 |\n",
       "| 1951 |                 2 |\n",
       "| 1942 |                 2 |\n",
       "| 1005 |                 2 |\n",
       "| 1437 |                 2 |\n",
       "|  623 |                 2 |\n",
       "| 1917 |                 2 |\n",
       "| 1975 |                 2 |\n",
       "| 1832 |                 2 |\n",
       "|  877 |                 2 |\n",
       "|  990 |                 2 |\n",
       "|  513 |                 2 |\n",
       "|  590 |                 2 |\n",
       "|  800 |                 2 |\n",
       "| 1539 |                 2 |\n",
       "|  683 |                 2 |\n",
       "| 1471 |                 2 |\n",
       "| 1090 |                 2 |\n",
       "| 1062 |                 2 |\n",
       "| 1190 |                 2 |\n",
       "| 1551 |                 2 |\n",
       "| 1985 |                 2 |\n",
       "|  775 |                 2 |\n",
       "| 1604 |                 2 |\n",
       "| 1769 |                 2 |\n",
       "| 1352 |                 2 |\n",
       "| 1163 |                 2 |\n",
       "| 1238 |                 2 |\n",
       "|  530 |                 2 |\n",
       "| 1492 |                 2 |\n",
       "| 1698 |                 2 |\n",
       "|  687 |                 2 |\n",
       "| 1445 |                 2 |\n",
       "| 1259 |                 2 |\n",
       "|  550 |                 2 |\n",
       "| 1448 |                 2 |\n",
       "| 1229 |                 2 |\n",
       "|  740 |                 2 |\n",
       "|  644 |                 2 |\n",
       "| 1256 |                 2 |\n",
       "|  709 |                 2 |\n",
       "| 1882 |                 2 |\n",
       "|  832 |                 2 |\n",
       "|  751 |                 2 |\n",
       "| 1916 |                 2 |\n",
       "| 1809 |                 2 |\n",
       "| 1442 |                 2 |\n",
       "|  855 |                 2 |\n",
       "|  870 |                 2 |\n",
       "| 1983 |                 2 |\n",
       "|  724 |                 2 |\n",
       "|  794 |                 2 |\n",
       "| 1838 |                 2 |\n",
       "| 1827 |                 2 |\n",
       "|  565 |                 2 |\n",
       "| 1579 |                 2 |\n",
       "| 1739 |                 2 |\n",
       "| 1499 |                 2 |\n",
       "|  774 |                 2 |\n",
       "| 1482 |                 2 |\n",
       "|  974 |                 2 |\n",
       "|  997 |                 2 |\n",
       "|  684 |                 2 |\n",
       "|  922 |                 2 |\n",
       "| 1452 |                 2 |\n",
       "| 1803 |                 2 |\n",
       "| 1039 |                 2 |\n",
       "| 1456 |                 2 |\n",
       "| 1811 |                 2 |\n",
       "|  643 |                 2 |\n",
       "| 1389 |                 2 |\n",
       "| 1638 |                 2 |\n",
       "| 1219 |                 2 |\n",
       "| 1651 |                 2 |\n",
       "| 1167 |                 2 |\n",
       "| 1682 |                 2 |\n",
       "| 1615 |                 2 |\n",
       "| 1293 |                 2 |\n",
       "| 1308 |                 2 |\n",
       "|  898 |                 2 |\n",
       "|  613 |                 2 |\n",
       "| 1007 |                 2 |\n",
       "| 1195 |                 2 |\n",
       "| 1413 |                 2 |\n",
       "| 1263 |                 2 |\n",
       "|  742 |                 2 |\n",
       "| 1099 |                 2 |\n",
       "|  697 |                 2 |\n",
       "| 1191 |                 2 |\n",
       "|  614 |                 2 |\n",
       "|  721 |                 2 |\n",
       "|  714 |                 2 |\n",
       "| 1088 |                 2 |\n",
       "| 1686 |                 2 |\n",
       "|  660 |                 2 |\n",
       "| 1506 |                 2 |\n",
       "| 1484 |                 2 |\n",
       "|  793 |                 2 |\n",
       "| 1970 |                 2 |\n",
       "| 1434 |                 2 |\n",
       "| 1500 |                 2 |\n",
       "| 1553 |                 2 |\n",
       "| 1249 |                 2 |\n",
       "| 1433 |                 2 |\n",
       "| 1948 |                 2 |\n",
       "| 1334 |                 2 |\n",
       "|  821 |                 2 |\n",
       "| 1376 |                 2 |\n",
       "| 1652 |                 2 |\n",
       "| 1654 |                 2 |\n",
       "| 1520 |                 2 |\n",
       "| 1350 |                 2 |\n",
       "|  705 |                 2 |\n",
       "|  730 |                 2 |\n",
       "| 1123 |                 2 |\n",
       "|  986 |                 2 |\n",
       "| 1924 |                 2 |\n",
       "| 1177 |                 2 |\n",
       "| 1850 |                 2 |\n",
       "| 1261 |                 2 |\n",
       "| 1025 |                 2 |\n",
       "| 1583 |                 2 |\n",
       "| 1633 |                 2 |\n",
       "| 1793 |                 2 |\n",
       "| 1131 |                 2 |\n",
       "| 1248 |                 2 |\n",
       "| 1244 |                 2 |\n",
       "| 1791 |                 2 |\n",
       "| 1606 |                 2 |\n",
       "| 1364 |                 2 |\n",
       "| 1465 |                 2 |\n",
       "| 1746 |                 2 |\n",
       "|  516 |                 2 |\n",
       "|  807 |                 2 |\n",
       "| 1782 |                 2 |\n",
       "| 1688 |                 2 |\n",
       "| 1529 |                 2 |\n",
       "| 1710 |                 2 |\n",
       "| 1552 |                 2 |\n",
       "| 1543 |                 2 |\n",
       "| 1738 |                 2 |\n",
       "| 1199 |                 2 |\n",
       "| 1151 |                 2 |\n",
       "|  849 |                 2 |\n",
       "| 1284 |                 2 |\n",
       "| 1617 |                 2 |\n",
       "|  939 |                 2 |\n",
       "| 1420 |                 2 |\n",
       "|  741 |                 2 |\n",
       "| 1858 |                 2 |\n",
       "|  517 |                 2 |\n",
       "| 1591 |                 2 |\n",
       "|  512 |                 2 |\n",
       "|  501 |                 2 |\n",
       "| 1230 |                 2 |\n",
       "|  860 |                 2 |\n",
       "|  621 |                 2 |\n",
       "|  745 |                 2 |\n",
       "| 1614 |                 2 |\n",
       "| 1976 |                 2 |\n",
       "| 1159 |                 2 |\n",
       "| 1020 |                 2 |\n",
       "| 1385 |                 2 |\n",
       "|  790 |                 2 |\n",
       "| 1175 |                 2 |\n",
       "|  655 |                 2 |\n",
       "|  734 |                 2 |\n",
       "| 1409 |                 2 |\n",
       "|  912 |                 2 |\n",
       "| 1472 |                 2 |\n",
       "| 1919 |                 2 |\n",
       "|  806 |                 2 |\n",
       "| 1747 |                 2 |\n",
       "| 1473 |                 2 |\n",
       "|  906 |                 2 |\n",
       "|  764 |                 2 |"
      ],
      "text/plain": [
       "<IPython.core.display.Markdown object>"
      ]
     },
     "metadata": {},
     "output_type": "display_data"
    },
    {
     "data": {
      "text/markdown": [
       "**Missing Value px_width Data Train**"
      ],
      "text/plain": [
       "<IPython.core.display.Markdown object>"
      ]
     },
     "metadata": {},
     "output_type": "display_data"
    },
    {
     "data": {
      "text/plain": [
       "'Tidak ada missing value'"
      ]
     },
     "metadata": {},
     "output_type": "display_data"
    },
    {
     "data": {
      "text/markdown": [
       "**Outlier px_width Data Train**"
      ],
      "text/plain": [
       "<IPython.core.display.Markdown object>"
      ]
     },
     "metadata": {},
     "output_type": "display_data"
    },
    {
     "data": {
      "text/markdown": [
       "Tidak ada outlier"
      ],
      "text/plain": [
       "<IPython.core.display.Markdown object>"
      ]
     },
     "metadata": {},
     "output_type": "display_data"
    },
    {
     "data": {
      "text/markdown": [
       "**Distribusi data**"
      ],
      "text/plain": [
       "<IPython.core.display.Markdown object>"
      ]
     },
     "metadata": {},
     "output_type": "display_data"
    },
    {
     "name": "stdout",
     "output_type": "stream",
     "text": [
      "Nilai Kurtosis\n",
      "-1.1761112837507963\n"
     ]
    },
    {
     "data": {
      "image/png": "[encoded data removed]",
      "text/plain": [
       "<Figure size 800x400 with 1 Axes>"
      ]
     },
     "metadata": {},
     "output_type": "display_data"
    },
    {
     "data": {
      "text/markdown": [
       "**Kolerasi dengan kolom 'price_range'**"
      ],
      "text/plain": [
       "<IPython.core.display.Markdown object>"
      ]
     },
     "metadata": {},
     "output_type": "display_data"
    },
    {
     "name": "stdout",
     "output_type": "stream",
     "text": [
      "0.1787126901102656\n"
     ]
    }
   ],
   "source": [
    "#Nomor 13 Kolom px_width\n",
    "finalValue('px_width',df)\n",
    "#Hasil Analisis"
   ]
  },
  {
   "cell_type": "code",
   "execution_count": 27,
   "id": "d800efcd",
   "metadata": {},
   "outputs": [
    {
     "data": {
      "text/markdown": [
       "**Statistika Dasar ram**"
      ],
      "text/plain": [
       "<IPython.core.display.Markdown object>"
      ]
     },
     "metadata": {},
     "output_type": "display_data"
    },
    {
     "data": {
      "text/markdown": [
       "|       |   Statistik Dasar |\n",
       "|:------|------------------:|\n",
       "| count |           1400    |\n",
       "| mean  |           2106.73 |\n",
       "| std   |           1078.35 |\n",
       "| min   |            256    |\n",
       "| 25%   |           1201    |\n",
       "| 50%   |           2102    |\n",
       "| 75%   |           3035.75 |\n",
       "| max   |           3998    |"
      ],
      "text/plain": [
       "<IPython.core.display.Markdown object>"
      ]
     },
     "metadata": {},
     "output_type": "display_data"
    },
    {
     "data": {
      "text/markdown": [
       "**Duplicate Value ram Data Train**"
      ],
      "text/plain": [
       "<IPython.core.display.Markdown object>"
      ]
     },
     "metadata": {},
     "output_type": "display_data"
    },
    {
     "data": {
      "text/markdown": [
       "|      |   Duplicate Value |\n",
       "|-----:|------------------:|\n",
       "| 1229 |                 4 |\n",
       "| 3142 |                 4 |\n",
       "|  595 |                 3 |\n",
       "| 2190 |                 3 |\n",
       "| 2107 |                 3 |\n",
       "| 2678 |                 3 |\n",
       "| 3865 |                 3 |\n",
       "| 1303 |                 3 |\n",
       "| 1974 |                 3 |\n",
       "| 3488 |                 3 |\n",
       "| 1457 |                 3 |\n",
       "| 2973 |                 3 |\n",
       "| 1869 |                 3 |\n",
       "|  606 |                 3 |\n",
       "| 2598 |                 3 |\n",
       "|  315 |                 3 |\n",
       "| 3206 |                 3 |\n",
       "| 1037 |                 3 |\n",
       "| 1998 |                 3 |\n",
       "| 2563 |                 3 |\n",
       "| 1300 |                 3 |\n",
       "| 3117 |                 3 |\n",
       "| 2488 |                 3 |\n",
       "| 1713 |                 3 |\n",
       "| 2700 |                 3 |\n",
       "| 3210 |                 3 |\n",
       "| 1663 |                 2 |\n",
       "|  398 |                 2 |\n",
       "| 1482 |                 2 |\n",
       "| 2885 |                 2 |\n",
       "| 3038 |                 2 |\n",
       "| 1069 |                 2 |\n",
       "|  696 |                 2 |\n",
       "| 3256 |                 2 |\n",
       "| 3796 |                 2 |\n",
       "|  690 |                 2 |\n",
       "| 3927 |                 2 |\n",
       "| 2020 |                 2 |\n",
       "| 1543 |                 2 |\n",
       "| 2457 |                 2 |\n",
       "|  820 |                 2 |\n",
       "|  545 |                 2 |\n",
       "| 1464 |                 2 |\n",
       "| 3755 |                 2 |\n",
       "| 1944 |                 2 |\n",
       "|  751 |                 2 |\n",
       "| 2651 |                 2 |\n",
       "|  869 |                 2 |\n",
       "| 3799 |                 2 |\n",
       "| 1201 |                 2 |\n",
       "| 2940 |                 2 |\n",
       "| 1214 |                 2 |\n",
       "| 1687 |                 2 |\n",
       "| 2419 |                 2 |\n",
       "| 1853 |                 2 |\n",
       "| 1947 |                 2 |\n",
       "| 1704 |                 2 |\n",
       "| 1973 |                 2 |\n",
       "| 3242 |                 2 |\n",
       "| 3104 |                 2 |\n",
       "| 1816 |                 2 |\n",
       "| 3685 |                 2 |\n",
       "| 2385 |                 2 |\n",
       "| 3358 |                 2 |\n",
       "| 1799 |                 2 |\n",
       "| 3836 |                 2 |\n",
       "|  643 |                 2 |\n",
       "| 3701 |                 2 |\n",
       "| 2050 |                 2 |\n",
       "|  905 |                 2 |\n",
       "|  854 |                 2 |\n",
       "|  582 |                 2 |\n",
       "|  575 |                 2 |\n",
       "| 2454 |                 2 |\n",
       "| 2268 |                 2 |\n",
       "|  728 |                 2 |\n",
       "|  604 |                 2 |\n",
       "| 1675 |                 2 |\n",
       "| 2003 |                 2 |\n",
       "| 2855 |                 2 |\n",
       "| 2614 |                 2 |\n",
       "| 2727 |                 2 |\n",
       "|  714 |                 2 |\n",
       "| 1308 |                 2 |\n",
       "| 3278 |                 2 |\n",
       "| 3902 |                 2 |\n",
       "| 3872 |                 2 |\n",
       "| 2192 |                 2 |\n",
       "|  392 |                 2 |\n",
       "| 2338 |                 2 |\n",
       "| 2736 |                 2 |\n",
       "| 1052 |                 2 |\n",
       "| 1724 |                 2 |\n",
       "| 1324 |                 2 |\n",
       "| 1906 |                 2 |\n",
       "| 2052 |                 2 |\n",
       "| 2775 |                 2 |\n",
       "|  590 |                 2 |\n",
       "| 1882 |                 2 |\n",
       "|  278 |                 2 |\n",
       "| 1655 |                 2 |\n",
       "| 3771 |                 2 |\n",
       "| 3703 |                 2 |\n",
       "| 2674 |                 2 |\n",
       "| 2016 |                 2 |\n",
       "| 3587 |                 2 |\n",
       "|  619 |                 2 |\n",
       "| 3764 |                 2 |\n",
       "| 2376 |                 2 |\n",
       "|  707 |                 2 |\n",
       "| 1354 |                 2 |\n",
       "| 2039 |                 2 |\n",
       "| 3941 |                 2 |\n",
       "| 2248 |                 2 |\n",
       "| 3271 |                 2 |\n",
       "| 2908 |                 2 |\n",
       "| 1591 |                 2 |\n",
       "|  941 |                 2 |\n",
       "|  770 |                 2 |\n",
       "| 3914 |                 2 |\n",
       "| 3204 |                 2 |\n",
       "| 1424 |                 2 |\n",
       "| 3366 |                 2 |\n",
       "| 1326 |                 2 |\n",
       "| 2981 |                 2 |\n",
       "| 3132 |                 2 |\n",
       "| 2337 |                 2 |\n",
       "| 2977 |                 2 |\n",
       "| 3518 |                 2 |\n",
       "| 1851 |                 2 |\n",
       "|  841 |                 2 |\n",
       "| 3397 |                 2 |\n",
       "|  663 |                 2 |\n",
       "|  587 |                 2 |\n",
       "|  629 |                 2 |\n",
       "| 3707 |                 2 |\n",
       "|  461 |                 2 |\n",
       "| 1733 |                 2 |\n",
       "| 1519 |                 2 |\n",
       "| 2870 |                 2 |\n",
       "| 3646 |                 2 |\n",
       "| 1181 |                 2 |\n",
       "| 3078 |                 2 |\n",
       "| 2782 |                 2 |\n",
       "| 2438 |                 2 |\n",
       "| 1637 |                 2 |\n",
       "| 2343 |                 2 |\n",
       "|  819 |                 2 |\n",
       "| 3472 |                 2 |\n",
       "| 2819 |                 2 |\n",
       "| 1414 |                 2 |\n",
       "| 1155 |                 2 |\n",
       "| 3139 |                 2 |\n",
       "| 3451 |                 2 |\n",
       "| 3153 |                 2 |\n",
       "| 1234 |                 2 |\n",
       "| 2227 |                 2 |\n",
       "| 2378 |                 2 |\n",
       "| 2844 |                 2 |\n",
       "| 2965 |                 2 |\n",
       "| 1571 |                 2 |\n",
       "| 3917 |                 2 |\n",
       "| 2156 |                 2 |\n",
       "|  624 |                 2 |\n",
       "| 3458 |                 2 |\n",
       "|  462 |                 2 |\n",
       "| 2466 |                 2 |\n",
       "| 2711 |                 2 |\n",
       "| 1653 |                 2 |\n",
       "| 1017 |                 2 |\n",
       "| 2096 |                 2 |\n",
       "|  980 |                 2 |\n",
       "| 3654 |                 2 |\n",
       "|  348 |                 2 |\n",
       "| 2495 |                 2 |\n",
       "| 2073 |                 2 |\n",
       "| 2610 |                 2 |\n",
       "| 2219 |                 2 |\n",
       "| 3566 |                 2 |\n",
       "| 2456 |                 2 |\n",
       "|  666 |                 2 |\n",
       "|  725 |                 2 |\n",
       "| 1152 |                 2 |\n",
       "| 2437 |                 2 |\n",
       "| 1641 |                 2 |\n",
       "| 3684 |                 2 |\n",
       "| 1440 |                 2 |\n",
       "| 3355 |                 2 |\n",
       "| 2278 |                 2 |\n",
       "| 3169 |                 2 |\n",
       "| 2948 |                 2 |\n",
       "|  417 |                 2 |\n",
       "|  990 |                 2 |\n",
       "| 2253 |                 2 |\n",
       "| 2944 |                 2 |\n",
       "| 3534 |                 2 |\n",
       "| 2066 |                 2 |\n",
       "| 3845 |                 2 |\n",
       "| 3317 |                 2 |\n",
       "|  323 |                 2 |\n",
       "| 1693 |                 2 |\n",
       "| 2528 |                 2 |"
      ],
      "text/plain": [
       "<IPython.core.display.Markdown object>"
      ]
     },
     "metadata": {},
     "output_type": "display_data"
    },
    {
     "data": {
      "text/markdown": [
       "**Missing Value ram Data Train**"
      ],
      "text/plain": [
       "<IPython.core.display.Markdown object>"
      ]
     },
     "metadata": {},
     "output_type": "display_data"
    },
    {
     "data": {
      "text/plain": [
       "'Tidak ada missing value'"
      ]
     },
     "metadata": {},
     "output_type": "display_data"
    },
    {
     "data": {
      "text/markdown": [
       "**Outlier ram Data Train**"
      ],
      "text/plain": [
       "<IPython.core.display.Markdown object>"
      ]
     },
     "metadata": {},
     "output_type": "display_data"
    },
    {
     "data": {
      "text/markdown": [
       "Tidak ada outlier"
      ],
      "text/plain": [
       "<IPython.core.display.Markdown object>"
      ]
     },
     "metadata": {},
     "output_type": "display_data"
    },
    {
     "data": {
      "text/markdown": [
       "**Distribusi data**"
      ],
      "text/plain": [
       "<IPython.core.display.Markdown object>"
      ]
     },
     "metadata": {},
     "output_type": "display_data"
    },
    {
     "name": "stdout",
     "output_type": "stream",
     "text": [
      "Nilai Kurtosis\n",
      "-1.18619191592568\n"
     ]
    },
    {
     "data": {
      "image/png": "[encoded data removed]",
      "text/plain": [
       "<Figure size 800x400 with 1 Axes>"
      ]
     },
     "metadata": {},
     "output_type": "display_data"
    },
    {
     "data": {
      "text/markdown": [
       "**Kolerasi dengan kolom 'price_range'**"
      ],
      "text/plain": [
       "<IPython.core.display.Markdown object>"
      ]
     },
     "metadata": {},
     "output_type": "display_data"
    },
    {
     "name": "stdout",
     "output_type": "stream",
     "text": [
      "0.9183192307843839\n"
     ]
    }
   ],
   "source": [
    "#Nomor 14 Kolom ram\n",
    "finalValue('ram',df)\n",
    "#Hasil Analisis"
   ]
  },
  {
   "cell_type": "code",
   "execution_count": 5,
   "id": "b559fee3",
   "metadata": {},
   "outputs": [],
   "source": [
    "#Nomor 15 kolom sc_h\n",
    "finalValue('sc_h',df)"
   ]
  },
  {
   "cell_type": "code",
   "execution_count": 6,
   "id": "601e0ec6",
   "metadata": {},
   "outputs": [],
   "source": [
    "#Nomor 16 kolom sc_w\n",
    "finalValue('sc_w',df)"
   ]
  },
  {
   "cell_type": "code",
   "execution_count": 7,
   "id": "ef493b77",
   "metadata": {},
   "outputs": [],
   "source": [
    "#Nomor 17 kolom talk_time\n",
    "finalValue('talk_time',df)"
   ]
  },
  {
   "cell_type": "code",
   "execution_count": 8,
   "id": "d393da6e",
   "metadata": {},
   "outputs": [],
   "source": [
    "#Nomor 18 kolom three_g \n",
    "finalValue('three_g',df)"
   ]
  },
  {
   "cell_type": "code",
   "execution_count": 9,
   "id": "fdf03df4",
   "metadata": {},
   "outputs": [],
   "source": [
    "#Nomor 19 kolom touch_screen\n",
    "finalValue('touch_screen',df)"
   ]
  },
  {
   "cell_type": "code",
   "execution_count": 10,
   "id": "67a41f10",
   "metadata": {},
   "outputs": [],
   "source": [
    "#Nomor 20 kolom wifi\n",
    "finalValue('wifi',df)"
   ]
  },
  {
   "cell_type": "code",
   "execution_count": 11,
   "id": "ef3d1710",
   "metadata": {},
   "outputs": [],
   "source": [
    "#Nomor 21 kolom price_range\n",
    "finalValue('price_range',df)"
   ]
  },
  {
   "cell_type": "code",
   "execution_count": null,
   "id": "21450f3a",
   "metadata": {},
   "outputs": [],
   "source": []
  },
  {
   "cell_type": "code",
   "execution_count": null,
   "id": "7391f02b",
   "metadata": {},
   "outputs": [],
   "source": []
  }
 ],
 "metadata": {
  "kernelspec": {
   "display_name": "Python 3 (ipykernel)",
   "language": "python",
   "name": "python3"
  },
  "language_info": {
   "codemirror_mode": {
    "name": "ipython",
    "version": 3
   },
   "file_extension": ".py",
   "mimetype": "text/x-python",
   "name": "python",
   "nbconvert_exporter": "python",
   "pygments_lexer": "ipython3",
   "version": "3.10.11"
  }
 },
 "nbformat": 4,
 "nbformat_minor": 5
}
