{
 "cells": [
  {
   "cell_type": "code",
   "execution_count": 65,
   "id": "74080226",
   "metadata": {},
   "outputs": [],
   "source": [
    "import pandas as pd \n",
    "from IPython.display import display, Markdown, HTML\n",
    "import matplotlib.pyplot as plt  \n",
    "from scipy.stats import kurtosis\n",
    "from tabulate import tabulate\n",
    "\n",
    "df = pd.read_csv(\"../../data/data_train.csv\")\n",
    "#Merubah tipe data yang terdiri dari 1 dan 0 menjadi tipe data boolean\n",
    "kolom_boolean = ['blue', 'dual_sim', 'four_g', 'three_g', 'touch_screen', 'wifi']\n",
    "for kolom in kolom_boolean:\n",
    "    df[kolom] = df[kolom].astype(bool)\n",
    "# Fungsi untuk statistika dasar\n",
    "def statistikaDasar(kolom, df):\n",
    "    return df[kolom].describe()\n",
    "\n",
    "# Fungsi untuk mencari duplicate value\n",
    "def duplicateValue(kolom, df):\n",
    "    duplicate_counts = df[kolom].duplicated(keep=False)\n",
    "    duplicate_values = df[kolom][duplicate_counts]\n",
    "    counts = duplicate_values.value_counts()\n",
    "    if not counts.empty:\n",
    "        return counts\n",
    "    else:\n",
    "        return \"Tidak ada data yang merupakan duplikat.\"\n",
    "\n",
    "# Fungsi untuk mencari missing value\n",
    "def missingValue(kolom, df):\n",
    "    missing_indices = df.index[df[kolom].isna()].tolist()\n",
    "    missing_count = len(missing_indices)\n",
    "    return missing_indices, missing_count\n",
    "\n",
    "# Fungsi untuk mencari outlier\n",
    "def findOutlier(kolom, df):\n",
    "    if df[kolom].dtype == 'int64' or df[kolom].dtype == 'float64':\n",
    "        Q1 = df[kolom].quantile(0.25)\n",
    "        Q3 = df[kolom].quantile(0.75)\n",
    "        IQR = Q3 - Q1\n",
    "        lower_bound = Q1 - 1.5 * IQR\n",
    "        upper_bound = Q3 + 1.5 * IQR\n",
    "        outliers = df[(df[kolom] < lower_bound) | (df[kolom] > upper_bound)]\n",
    "        if outliers.empty:\n",
    "            return \"Tidak ada outlier\"\n",
    "        else:\n",
    "            return outliers\n",
    "    else:\n",
    "        return \"Tidak ada outlier\"\n",
    "# Fungsi untuk menggambar grafik\n",
    "def drawGraphic(kolom, df):\n",
    "    if df[kolom].dtype == 'int64' or df[kolom].dtype == 'float64':\n",
    "        # Kolom numerik\n",
    "        plt.figure(figsize=(8, 4))\n",
    "        plt.subplot(1, 2, 1)\n",
    "        df[kolom].plot(kind='hist', bins=10)\n",
    "        plt.title(f'Distribusi Data - {kolom}')\n",
    "        kurt = kurtosis(df[kolom])\n",
    "        print(\"Nilai Kurtosis\")\n",
    "        print(kurt)\n",
    "    else:\n",
    "        # Kolom non numerik\n",
    "        plt.figure(figsize=(6, 4))\n",
    "        df[kolom].value_counts().plot(kind='bar')\n",
    "        plt.title(f'Histogram - {kolom}') \n",
    "    plt.show()\n",
    "# Fungsi untuk mencari kolerasi\n",
    "def calculationWithColumnTarget(kolom, df):\n",
    "    correlation = df[kolom].corr(df['price_range'])\n",
    "    return correlation\n",
    "#Fungsi Untuk Mengeluarkan semua hasil \n",
    "def finalValue(kolom, df):\n",
    "    result = statistikaDasar(kolom, df)\n",
    "    table = tabulate(result.to_frame(), headers=[\"Statistik Dasar\"], tablefmt=\"pipe\")\n",
    "    display(Markdown(f\"**Statistika Dasar {kolom}**\"))\n",
    "    display(Markdown(table))\n",
    "    display(Markdown(f\"**Duplicate Value {kolom} Data Train**\"))\n",
    "    result1 = duplicateValue(kolom, df)\n",
    "    table1 = tabulate(result1.to_frame(), headers=[\"Duplicate Value\"], tablefmt=\"pipe\")\n",
    "    display(Markdown(table1))\n",
    "    display(Markdown(f\"**Missing Value {kolom} Data Train**\"))\n",
    "    missing_value, missing_count = missingValue(kolom, df)\n",
    "    if(missing_count == 0):\n",
    "        display(\"Tidak ada missing value\")\n",
    "    else:\n",
    "        print(\"Jumlah mising value adalah\", end=\" \")\n",
    "        print(missing_count)\n",
    "        result2 = missing_value\n",
    "        table2 = tabulate(result2.to_frame(), headers=[\"Missing Value\"], tablefmt=\"pipe\")\n",
    "        display(Markdown(f\"**Missing value {kolom}**\"))\n",
    "        display(Markdown(table2))\n",
    "    display(Markdown(f\"**Outlier {kolom} Data Train**\"))\n",
    "    result3 = findOutlier(kolom, df)\n",
    "    if isinstance(result3, pd.Series):\n",
    "        table3 = tabulate(result3.to_frame(), headers=[\"Outlier\"], tablefmt=\"pipe\")\n",
    "        display(Markdown(f\"**Outlier {kolom}**\"))\n",
    "        display(Markdown(table3))\n",
    "    else:\n",
    "        display(Markdown(\"Tidak ada outlier\"))\n",
    "    display(Markdown(\"**Distribusi data**\"))\n",
    "    drawGraphic(kolom, df)\n",
    "    display(Markdown(\"**Kolerasi dengan kolom 'price_range'**\"))\n",
    "    print(calculationWithColumnTarget(kolom, df))\n",
    "\n",
    "\n",
    "def create_table(strings, font_size=14):\n",
    "    table = []\n",
    "    for i, string in enumerate(strings, start=1):\n",
    "        table.append([i, string])\n",
    "\n",
    "    table_str = tabulate(table, headers=[\"Nomor\", \"Hasil Analisis\"], tablefmt=\"pipe\", stralign=\"left\")\n",
    "\n",
    "    # Creating a Markdown table with a specified font size\n",
    "    table_with_font_size = f\"**Hasil Analisis**\\n\\n{table_str}\"\n",
    "\n",
    "    display(Markdown(table_with_font_size))\n",
    "\n",
    "def analisis(string1, string2, string3, string4, string5, string6):\n",
    "    display(Markdown(\"Hasil Analisis\"))\n",
    "    strings = [string1, string2, string3, string4, string5, string6]\n",
    "    create_table(strings, 16)"
   ]
  },
  {
   "cell_type": "code",
   "execution_count": 66,
   "metadata": {},
   "outputs": [
    {
     "data": {
      "text/markdown": [
       "**Statistika Dasar battery_power**"
      ],
      "text/plain": [
       "<IPython.core.display.Markdown object>"
      ]
     },
     "metadata": {},
     "output_type": "display_data"
    },
    {
     "data": {
      "text/markdown": [
       "|       |   Statistik Dasar |\n",
       "|:------|------------------:|\n",
       "| count |          1400     |\n",
       "| mean  |          1237.15  |\n",
       "| std   |           430.052 |\n",
       "| min   |           501     |\n",
       "| 25%   |           864.75  |\n",
       "| 50%   |          1219     |\n",
       "| 75%   |          1602     |\n",
       "| max   |          1998     |"
      ],
      "text/plain": [
       "<IPython.core.display.Markdown object>"
      ]
     },
     "metadata": {},
     "output_type": "display_data"
    },
    {
     "data": {
      "text/markdown": [
       "**Duplicate Value battery_power Data Train**"
      ],
      "text/plain": [
       "<IPython.core.display.Markdown object>"
      ]
     },
     "metadata": {},
     "output_type": "display_data"
    },
    {
     "data": {
      "text/markdown": [
       "|      |   Duplicate Value |\n",
       "|-----:|------------------:|\n",
       "| 1068 |                 5 |\n",
       "| 1330 |                 5 |\n",
       "| 1949 |                 5 |\n",
       "|  772 |                 5 |\n",
       "| 1872 |                 5 |\n",
       "|  987 |                 4 |\n",
       "|  586 |                 4 |\n",
       "| 1807 |                 4 |\n",
       "|  880 |                 4 |\n",
       "|  832 |                 4 |\n",
       "| 1310 |                 4 |\n",
       "| 1413 |                 4 |\n",
       "| 1702 |                 4 |\n",
       "| 1589 |                 4 |\n",
       "| 1083 |                 4 |\n",
       "| 1715 |                 4 |\n",
       "| 1002 |                 4 |\n",
       "| 1154 |                 4 |\n",
       "|  712 |                 4 |\n",
       "| 1379 |                 4 |\n",
       "|  659 |                 4 |\n",
       "| 1035 |                 4 |\n",
       "| 1414 |                 4 |\n",
       "|  600 |                 4 |\n",
       "| 1811 |                 4 |\n",
       "|  864 |                 4 |\n",
       "| 1617 |                 4 |\n",
       "|  930 |                 4 |\n",
       "| 1195 |                 3 |\n",
       "|  999 |                 3 |\n",
       "| 1067 |                 3 |\n",
       "| 1358 |                 3 |\n",
       "| 1166 |                 3 |\n",
       "| 1348 |                 3 |\n",
       "| 1876 |                 3 |\n",
       "|  912 |                 3 |\n",
       "|  959 |                 3 |\n",
       "| 1512 |                 3 |\n",
       "| 1225 |                 3 |\n",
       "| 1549 |                 3 |\n",
       "|  576 |                 3 |\n",
       "|  618 |                 3 |\n",
       "|  771 |                 3 |\n",
       "| 1266 |                 3 |\n",
       "| 1656 |                 3 |\n",
       "|  601 |                 3 |\n",
       "| 1595 |                 3 |\n",
       "|  511 |                 3 |\n",
       "| 1063 |                 3 |\n",
       "| 1602 |                 3 |\n",
       "|  730 |                 3 |\n",
       "|  615 |                 3 |\n",
       "|  635 |                 3 |\n",
       "|  915 |                 3 |\n",
       "| 1900 |                 3 |\n",
       "| 1469 |                 3 |\n",
       "|  667 |                 3 |\n",
       "| 1347 |                 3 |\n",
       "| 1660 |                 3 |\n",
       "| 1163 |                 3 |\n",
       "|  603 |                 3 |\n",
       "| 1510 |                 3 |\n",
       "|  946 |                 3 |\n",
       "| 1097 |                 3 |\n",
       "|  825 |                 3 |\n",
       "|  504 |                 3 |\n",
       "| 1191 |                 3 |\n",
       "| 1944 |                 3 |\n",
       "| 1117 |                 3 |\n",
       "| 1312 |                 3 |\n",
       "| 1786 |                 3 |\n",
       "| 1821 |                 3 |\n",
       "| 1830 |                 3 |\n",
       "|  728 |                 3 |\n",
       "| 1224 |                 3 |\n",
       "| 1278 |                 3 |\n",
       "|  936 |                 3 |\n",
       "|  914 |                 3 |\n",
       "|  840 |                 3 |\n",
       "|  826 |                 3 |\n",
       "| 1142 |                 3 |\n",
       "| 1271 |                 3 |\n",
       "| 1524 |                 3 |\n",
       "| 1562 |                 3 |\n",
       "| 1991 |                 3 |\n",
       "|  508 |                 3 |\n",
       "|  972 |                 3 |\n",
       "|  685 |                 3 |\n",
       "| 1778 |                 3 |\n",
       "|  965 |                 3 |\n",
       "| 1445 |                 3 |\n",
       "|  668 |                 3 |\n",
       "|  612 |                 3 |\n",
       "| 1175 |                 3 |\n",
       "|  775 |                 2 |\n",
       "| 1027 |                 2 |\n",
       "| 1177 |                 2 |\n",
       "| 1720 |                 2 |\n",
       "|  673 |                 2 |\n",
       "| 1164 |                 2 |\n",
       "| 1349 |                 2 |\n",
       "|  831 |                 2 |\n",
       "|  605 |                 2 |\n",
       "| 1853 |                 2 |\n",
       "| 1048 |                 2 |\n",
       "| 1776 |                 2 |\n",
       "| 1424 |                 2 |\n",
       "| 1444 |                 2 |\n",
       "|  686 |                 2 |\n",
       "| 1851 |                 2 |\n",
       "| 1122 |                 2 |\n",
       "| 1615 |                 2 |\n",
       "|  891 |                 2 |\n",
       "| 1708 |                 2 |\n",
       "| 1902 |                 2 |\n",
       "| 1742 |                 2 |\n",
       "|  848 |                 2 |\n",
       "| 1670 |                 2 |\n",
       "| 1220 |                 2 |\n",
       "| 1571 |                 2 |\n",
       "| 1234 |                 2 |\n",
       "| 1062 |                 2 |\n",
       "|  627 |                 2 |\n",
       "| 1880 |                 2 |\n",
       "| 1454 |                 2 |\n",
       "|  539 |                 2 |\n",
       "| 1090 |                 2 |\n",
       "| 1497 |                 2 |\n",
       "|  616 |                 2 |\n",
       "| 1339 |                 2 |\n",
       "|  541 |                 2 |\n",
       "| 1254 |                 2 |\n",
       "| 1438 |                 2 |\n",
       "|  672 |                 2 |\n",
       "| 1588 |                 2 |\n",
       "| 1994 |                 2 |\n",
       "| 1989 |                 2 |\n",
       "| 1748 |                 2 |\n",
       "| 1945 |                 2 |\n",
       "| 1237 |                 2 |\n",
       "| 1753 |                 2 |\n",
       "| 1476 |                 2 |\n",
       "| 1802 |                 2 |\n",
       "| 1230 |                 2 |\n",
       "| 1426 |                 2 |\n",
       "| 1197 |                 2 |\n",
       "| 1606 |                 2 |\n",
       "|  875 |                 2 |\n",
       "| 1659 |                 2 |\n",
       "| 1219 |                 2 |\n",
       "| 1697 |                 2 |\n",
       "| 1829 |                 2 |\n",
       "| 1772 |                 2 |\n",
       "|  732 |                 2 |\n",
       "| 1430 |                 2 |\n",
       "| 1356 |                 2 |\n",
       "| 1924 |                 2 |\n",
       "|  721 |                 2 |\n",
       "|  932 |                 2 |\n",
       "| 1558 |                 2 |\n",
       "| 1436 |                 2 |\n",
       "|  797 |                 2 |\n",
       "|  798 |                 2 |\n",
       "| 1559 |                 2 |\n",
       "|  757 |                 2 |\n",
       "| 1250 |                 2 |\n",
       "| 1270 |                 2 |\n",
       "|  790 |                 2 |\n",
       "|  683 |                 2 |\n",
       "| 1583 |                 2 |\n",
       "| 1948 |                 2 |\n",
       "| 1547 |                 2 |\n",
       "|  862 |                 2 |\n",
       "| 1934 |                 2 |\n",
       "| 1210 |                 2 |\n",
       "| 1425 |                 2 |\n",
       "|  723 |                 2 |\n",
       "|  589 |                 2 |\n",
       "| 1517 |                 2 |\n",
       "|  869 |                 2 |\n",
       "| 1496 |                 2 |\n",
       "| 1866 |                 2 |\n",
       "|  645 |                 2 |\n",
       "|  948 |                 2 |\n",
       "|  994 |                 2 |\n",
       "|  530 |                 2 |\n",
       "|  911 |                 2 |\n",
       "|  709 |                 2 |\n",
       "|  534 |                 2 |\n",
       "| 1576 |                 2 |\n",
       "| 1745 |                 2 |\n",
       "| 1504 |                 2 |\n",
       "|  768 |                 2 |\n",
       "| 1135 |                 2 |\n",
       "| 1232 |                 2 |\n",
       "|  507 |                 2 |\n",
       "|  774 |                 2 |\n",
       "| 1368 |                 2 |\n",
       "| 1864 |                 2 |\n",
       "|  819 |                 2 |\n",
       "| 1648 |                 2 |\n",
       "| 1190 |                 2 |\n",
       "| 1972 |                 2 |\n",
       "| 1489 |                 2 |\n",
       "| 1777 |                 2 |\n",
       "|  856 |                 2 |\n",
       "| 1552 |                 2 |\n",
       "| 1652 |                 2 |\n",
       "|  536 |                 2 |\n",
       "| 1540 |                 2 |\n",
       "| 1077 |                 2 |\n",
       "|  843 |                 2 |\n",
       "| 1987 |                 2 |\n",
       "| 1042 |                 2 |\n",
       "|  854 |                 2 |\n",
       "|  989 |                 2 |\n",
       "| 1554 |                 2 |\n",
       "|  574 |                 2 |\n",
       "|  609 |                 2 |\n",
       "|  516 |                 2 |\n",
       "| 1800 |                 2 |\n",
       "|  581 |                 2 |\n",
       "| 1965 |                 2 |\n",
       "| 1137 |                 2 |\n",
       "| 1082 |                 2 |\n",
       "|  733 |                 2 |\n",
       "| 1996 |                 2 |\n",
       "| 1314 |                 2 |\n",
       "|  748 |                 2 |\n",
       "| 1485 |                 2 |\n",
       "| 1081 |                 2 |\n",
       "| 1066 |                 2 |\n",
       "| 1663 |                 2 |\n",
       "|  713 |                 2 |\n",
       "| 1442 |                 2 |\n",
       "| 1130 |                 2 |\n",
       "| 1129 |                 2 |\n",
       "|  582 |                 2 |\n",
       "| 1836 |                 2 |\n",
       "| 1514 |                 2 |\n",
       "| 1076 |                 2 |\n",
       "|  793 |                 2 |\n",
       "| 1911 |                 2 |\n",
       "| 1253 |                 2 |\n",
       "| 1878 |                 2 |\n",
       "|  571 |                 2 |\n",
       "|  984 |                 2 |\n",
       "| 1483 |                 2 |\n",
       "| 1992 |                 2 |\n",
       "|  720 |                 2 |\n",
       "| 1337 |                 2 |\n",
       "| 1751 |                 2 |\n",
       "| 1498 |                 2 |\n",
       "| 1273 |                 2 |\n",
       "|  899 |                 2 |\n",
       "| 1614 |                 2 |\n",
       "|  503 |                 2 |\n",
       "| 1136 |                 2 |\n",
       "| 1049 |                 2 |\n",
       "| 1172 |                 2 |\n",
       "| 1288 |                 2 |\n",
       "| 1871 |                 2 |\n",
       "| 1092 |                 2 |\n",
       "| 1456 |                 2 |\n",
       "| 1034 |                 2 |\n",
       "|  538 |                 2 |\n",
       "|  580 |                 2 |\n",
       "| 1329 |                 2 |\n",
       "| 1628 |                 2 |\n",
       "|  763 |                 2 |\n",
       "| 1221 |                 2 |\n",
       "| 1044 |                 2 |\n",
       "| 1699 |                 2 |\n",
       "|  626 |                 2 |\n",
       "| 1611 |                 2 |\n",
       "|  961 |                 2 |\n",
       "| 1579 |                 2 |\n",
       "|  680 |                 2 |\n",
       "| 1433 |                 2 |\n",
       "| 1395 |                 2 |\n",
       "| 1205 |                 2 |\n",
       "|  648 |                 2 |\n",
       "| 1265 |                 2 |\n",
       "| 1698 |                 2 |\n",
       "| 1308 |                 2 |\n",
       "|  671 |                 2 |\n",
       "| 1065 |                 2 |\n",
       "| 1694 |                 2 |\n",
       "| 1159 |                 2 |\n",
       "| 1550 |                 2 |\n",
       "|  986 |                 2 |\n",
       "| 1021 |                 2 |\n",
       "| 1201 |                 2 |\n",
       "| 1193 |                 2 |\n",
       "|  623 |                 2 |\n",
       "| 1325 |                 2 |\n",
       "|  802 |                 2 |\n",
       "|  643 |                 2 |\n",
       "|  652 |                 2 |\n",
       "|  794 |                 2 |\n",
       "| 1260 |                 2 |\n",
       "|  934 |                 2 |\n",
       "| 1057 |                 2 |\n",
       "| 1472 |                 2 |\n",
       "| 1600 |                 2 |\n",
       "| 1007 |                 2 |\n",
       "| 1188 |                 2 |\n",
       "| 1783 |                 2 |\n",
       "| 1189 |                 2 |\n",
       "| 1303 |                 2 |\n",
       "| 1546 |                 2 |\n",
       "| 1093 |                 2 |\n",
       "| 1218 |                 2 |\n",
       "| 1162 |                 2 |\n",
       "| 1747 |                 2 |\n",
       "| 1231 |                 2 |\n",
       "|  808 |                 2 |\n",
       "|  983 |                 2 |\n",
       "| 1180 |                 2 |\n",
       "| 1487 |                 2 |\n",
       "|  909 |                 2 |\n",
       "| 1108 |                 2 |\n",
       "|  920 |                 2 |\n",
       "|  717 |                 2 |\n",
       "| 1975 |                 2 |\n",
       "|  852 |                 2 |\n",
       "| 1796 |                 2 |\n",
       "| 1658 |                 2 |\n",
       "|  950 |                 2 |\n",
       "|  664 |                 2 |\n",
       "| 1793 |                 2 |\n",
       "| 1722 |                 2 |\n",
       "| 1520 |                 2 |\n",
       "| 1375 |                 2 |\n",
       "| 1763 |                 2 |\n",
       "| 1979 |                 2 |\n",
       "| 1332 |                 2 |\n",
       "| 1494 |                 2 |\n",
       "| 1709 |                 2 |\n",
       "| 1320 |                 2 |\n",
       "| 1563 |                 2 |\n",
       "| 1827 |                 2 |\n",
       "| 1918 |                 2 |\n",
       "| 1561 |                 2 |\n",
       "|  598 |                 2 |\n",
       "| 1187 |                 2 |\n",
       "| 1396 |                 2 |\n",
       "| 1590 |                 2 |\n",
       "| 1849 |                 2 |\n",
       "| 1110 |                 2 |\n",
       "| 1369 |                 2 |\n",
       "| 1695 |                 2 |\n",
       "|  823 |                 2 |\n",
       "|  640 |                 2 |\n",
       "| 1762 |                 2 |"
      ],
      "text/plain": [
       "<IPython.core.display.Markdown object>"
      ]
     },
     "metadata": {},
     "output_type": "display_data"
    },
    {
     "data": {
      "text/markdown": [
       "**Missing Value battery_power Data Train**"
      ],
      "text/plain": [
       "<IPython.core.display.Markdown object>"
      ]
     },
     "metadata": {},
     "output_type": "display_data"
    },
    {
     "data": {
      "text/plain": [
       "'Tidak ada missing value'"
      ]
     },
     "metadata": {},
     "output_type": "display_data"
    },
    {
     "data": {
      "text/markdown": [
       "**Outlier battery_power Data Train**"
      ],
      "text/plain": [
       "<IPython.core.display.Markdown object>"
      ]
     },
     "metadata": {},
     "output_type": "display_data"
    },
    {
     "data": {
      "text/markdown": [
       "Tidak ada outlier"
      ],
      "text/plain": [
       "<IPython.core.display.Markdown object>"
      ]
     },
     "metadata": {},
     "output_type": "display_data"
    },
    {
     "data": {
      "text/markdown": [
       "**Distribusi data**"
      ],
      "text/plain": [
       "<IPython.core.display.Markdown object>"
      ]
     },
     "metadata": {},
     "output_type": "display_data"
    },
    {
     "name": "stdout",
     "output_type": "stream",
     "text": [
      "Nilai Kurtosis\n",
      "-1.1681835057892338\n"
     ]
    },
    {
     "data": {
      "image/png": "[encoded data removed]",
      "text/plain": [
       "<Figure size 800x400 with 1 Axes>"
      ]
     },
     "metadata": {},
     "output_type": "display_data"
    },
    {
     "data": {
      "text/markdown": [
       "**Kolerasi dengan kolom 'price_range'**"
      ],
      "text/plain": [
       "<IPython.core.display.Markdown object>"
      ]
     },
     "metadata": {},
     "output_type": "display_data"
    },
    {
     "name": "stdout",
     "output_type": "stream",
     "text": [
      "0.18480092449553084\n"
     ]
    },
    {
     "data": {
      "text/markdown": [
       "Hasil Analisis"
      ],
      "text/plain": [
       "<IPython.core.display.Markdown object>"
      ]
     },
     "metadata": {},
     "output_type": "display_data"
    },
    {
     "data": {
      "text/markdown": [
       "**Hasil Analisis**\n",
       "\n",
       "|   Nomor | Hasil Analisis                                                                                                                    |\n",
       "|--------:|:----------------------------------------------------------------------------------------------------------------------------------|\n",
       "|       1 | Di dapat dari statistika dasar bahwa jumlah data ada sebanyak 1400 dengan nilai minimum adalah 501 dan nilai max ada              |\n",
       "|         | lah 1998. Kemudian Q1 adalah 864.75 , Q2 adalah 1219 dan Q3 adalah 1602. Standar deviasi adalah 430.052 dan mean adalah 1237.15.  |\n",
       "|         | Dari sini juga dapat disimpulkan bahwa IQR sebesar 737,25                                                                         |\n",
       "|       2 | Terdapat duplicate value pada tabel ini dengan yang paling banyak adalah angka 1068,1330,1949,772 dengan duplikat sebanyak 5      |\n",
       "|       3 | Tidak ada missing value, Artinya pada kolom ini semua baris mempunyai nilai                                                       |\n",
       "|       4 | Tidak ada outlier hal ini seperti yang diketahui batas bawahnya adalah Q1 - 1.5IQR yakni sebesar -241,125 dan batas atas          |\n",
       "|         | sebesar Q3 + 1.5IQR yakni sebesar 2707.875, nilai terkecil adalah 501 dan nilai terbesar adalah 1998 sehingga tidak ada outlier   |\n",
       "|       5 | Kurtosis bernilai -1.1681835057892338 (negatif) yang artinya menunjukkan distribusi data cenderung rata                           |\n",
       "|       6 | Kolerasinya dengan kolom target sebesar 0.18480092449553084 , nilai kolerasi jauh dari angka 1 sehingga kolerasinya               |\n",
       "|         | dengan kolom target kurang kuat                                                                                                   |"
      ],
      "text/plain": [
       "<IPython.core.display.Markdown object>"
      ]
     },
     "metadata": {},
     "output_type": "display_data"
    }
   ],
   "source": [
    "#Nomor 1 Kolom battery_power\n",
    "finalValue('battery_power',df)\n",
    "#Hasil Analisis\n",
    "string1 = '''Di dapat dari statistika dasar bahwa jumlah data ada sebanyak 1400 dengan nilai minimum adalah 501 dan nilai max ada\n",
    "lah 1998. Kemudian Q1 adalah 864.75 , Q2 adalah 1219 dan Q3 adalah 1602. Standar deviasi adalah 430.052 dan mean adalah 1237.15. \n",
    "Dari sini juga dapat disimpulkan bahwa IQR sebesar 737,25'''\n",
    "string2 = '''Terdapat duplicate value pada tabel ini dengan yang paling banyak adalah angka 1068,1330,1949,772 dengan duplikat sebanyak 5 '''\n",
    "string3 = '''Tidak ada missing value, Artinya pada kolom ini semua baris mempunyai nilai'''\n",
    "string4 = '''Tidak ada outlier hal ini seperti yang diketahui batas bawahnya adalah Q1 - 1.5IQR yakni sebesar -241,125 dan batas atas \n",
    "sebesar Q3 + 1.5IQR yakni sebesar 2707.875, nilai terkecil adalah 501 dan nilai terbesar adalah 1998 sehingga tidak ada outlier'''\n",
    "string5 = '''Kurtosis bernilai -1.1681835057892338 (negatif) yang artinya menunjukkan distribusi data cenderung rata'''\n",
    "string6 = '''Kolerasinya dengan kolom target sebesar 0.18480092449553084 , nilai kolerasi jauh dari angka 1 sehingga kolerasinya\n",
    "dengan kolom target kurang kuat'''\n",
    "analisis(string1, string2, string3, string4, string5, string6)"
   ]
  },
  {
   "cell_type": "code",
   "execution_count": 67,
   "metadata": {},
   "outputs": [
    {
     "data": {
      "text/markdown": [
       "**Statistika Dasar blue**"
      ],
      "text/plain": [
       "<IPython.core.display.Markdown object>"
      ]
     },
     "metadata": {},
     "output_type": "display_data"
    },
    {
     "data": {
      "text/markdown": [
       "|        |   Statistik Dasar |\n",
       "|:-------|------------------:|\n",
       "| count  |              1400 |\n",
       "| unique |                 2 |\n",
       "| top    |                 0 |\n",
       "| freq   |               709 |"
      ],
      "text/plain": [
       "<IPython.core.display.Markdown object>"
      ]
     },
     "metadata": {},
     "output_type": "display_data"
    },
    {
     "data": {
      "text/markdown": [
       "**Duplicate Value blue Data Train**"
      ],
      "text/plain": [
       "<IPython.core.display.Markdown object>"
      ]
     },
     "metadata": {},
     "output_type": "display_data"
    },
    {
     "data": {
      "text/markdown": [
       "|       |   Duplicate Value |\n",
       "|:------|------------------:|\n",
       "| False |               709 |\n",
       "| True  |               691 |"
      ],
      "text/plain": [
       "<IPython.core.display.Markdown object>"
      ]
     },
     "metadata": {},
     "output_type": "display_data"
    },
    {
     "data": {
      "text/markdown": [
       "**Missing Value blue Data Train**"
      ],
      "text/plain": [
       "<IPython.core.display.Markdown object>"
      ]
     },
     "metadata": {},
     "output_type": "display_data"
    },
    {
     "data": {
      "text/plain": [
       "'Tidak ada missing value'"
      ]
     },
     "metadata": {},
     "output_type": "display_data"
    },
    {
     "data": {
      "text/markdown": [
       "**Outlier blue Data Train**"
      ],
      "text/plain": [
       "<IPython.core.display.Markdown object>"
      ]
     },
     "metadata": {},
     "output_type": "display_data"
    },
    {
     "data": {
      "text/markdown": [
       "Tidak ada outlier"
      ],
      "text/plain": [
       "<IPython.core.display.Markdown object>"
      ]
     },
     "metadata": {},
     "output_type": "display_data"
    },
    {
     "data": {
      "text/markdown": [
       "**Distribusi data**"
      ],
      "text/plain": [
       "<IPython.core.display.Markdown object>"
      ]
     },
     "metadata": {},
     "output_type": "display_data"
    },
    {
     "data": {
      "image/png": "[encoded data removed]",
      "text/plain": [
       "<Figure size 600x400 with 1 Axes>"
      ]
     },
     "metadata": {},
     "output_type": "display_data"
    },
    {
     "data": {
      "text/markdown": [
       "**Kolerasi dengan kolom 'price_range'**"
      ],
      "text/plain": [
       "<IPython.core.display.Markdown object>"
      ]
     },
     "metadata": {},
     "output_type": "display_data"
    },
    {
     "name": "stdout",
     "output_type": "stream",
     "text": [
      "0.041946888607414363\n"
     ]
    },
    {
     "data": {
      "text/markdown": [
       "Hasil Analisis"
      ],
      "text/plain": [
       "<IPython.core.display.Markdown object>"
      ]
     },
     "metadata": {},
     "output_type": "display_data"
    },
    {
     "data": {
      "text/markdown": [
       "**Hasil Analisis**\n",
       "\n",
       "|   Nomor | Hasil Analisis                                                                                                                               |\n",
       "|--------:|:---------------------------------------------------------------------------------------------------------------------------------------------|\n",
       "|       1 | Tipe data kolom ini adalah boolean sehingga statistika dasar yang didapat adalah sebagai berikut jumlah data ada sebanyak 1400               |\n",
       "|         | dengan nilai unique sebanyak 2 yang artinya hanya ada kemungkinan dua nilai dan nilai yang paling sering muncul adalah 0(False) sebanyak 709 |\n",
       "|       2 | Karena hanya terdiri dari dua kategori pasti ada duplicate value yakni 1(True) sebanyak 609 dan 0(False) sebanyak 709                        |\n",
       "|       3 | Tidak ada missing value, Artinya pada kolom ini semuanya mempunyai nilai                                                                     |\n",
       "|       4 | Tidak ada outlier karena semua data nilainya kalo tidak 1(True) dia akan 0(False) tidak ada yang di luar itu                                 |\n",
       "|       5 | Tidak memiliki nilai kurtosis karena tipe data bukan numerik                                                                                 |\n",
       "|       6 | Kolerasinya dengan kolom target sebesar 0.041946888607414363, nilai kolerasi jauh dari angka 1, mendekati angka 0                            |\n",
       "|         | sehingga kolerasinya tidak kuat                                                                                                              |"
      ],
      "text/plain": [
       "<IPython.core.display.Markdown object>"
      ]
     },
     "metadata": {},
     "output_type": "display_data"
    }
   ],
   "source": [
    "#Nomor 2 kolom blue \n",
    "finalValue('blue',df)\n",
    "#Hasil Analisis\n",
    "string1 = '''Tipe data kolom ini adalah boolean sehingga statistika dasar yang didapat adalah sebagai berikut jumlah data ada sebanyak 1400 \n",
    "dengan nilai unique sebanyak 2 yang artinya hanya ada kemungkinan dua nilai dan nilai yang paling sering muncul adalah 0(False) sebanyak 709'''\n",
    "string2 = '''Karena hanya terdiri dari dua kategori pasti ada duplicate value yakni 1(True) sebanyak 609 dan 0(False) sebanyak 709'''\n",
    "string3 = '''Tidak ada missing value, Artinya pada kolom ini semuanya mempunyai nilai'''\n",
    "string4 = '''Tidak ada outlier karena semua data nilainya kalo tidak 1(True) dia akan 0(False) tidak ada yang di luar itu'''\n",
    "string5 = '''Tidak memiliki nilai kurtosis karena tipe data bukan numerik'''\n",
    "string6 = '''Kolerasinya dengan kolom target sebesar 0.041946888607414363, nilai kolerasi jauh dari angka 1, mendekati angka 0\n",
    "sehingga kolerasinya tidak kuat'''\n",
    "analisis(string1, string2, string3, string4, string5, string6)"
   ]
  },
  {
   "cell_type": "code",
   "execution_count": 68,
   "metadata": {},
   "outputs": [
    {
     "data": {
      "text/markdown": [
       "**Statistika Dasar clock_speed**"
      ],
      "text/plain": [
       "<IPython.core.display.Markdown object>"
      ]
     },
     "metadata": {},
     "output_type": "display_data"
    },
    {
     "data": {
      "text/markdown": [
       "|       |   Statistik Dasar |\n",
       "|:------|------------------:|\n",
       "| count |       1400        |\n",
       "| mean  |          1.52171  |\n",
       "| std   |          0.814723 |\n",
       "| min   |          0.5      |\n",
       "| 25%   |          0.7      |\n",
       "| 50%   |          1.5      |\n",
       "| 75%   |          2.2      |\n",
       "| max   |          3        |"
      ],
      "text/plain": [
       "<IPython.core.display.Markdown object>"
      ]
     },
     "metadata": {},
     "output_type": "display_data"
    },
    {
     "data": {
      "text/markdown": [
       "**Duplicate Value clock_speed Data Train**"
      ],
      "text/plain": [
       "<IPython.core.display.Markdown object>"
      ]
     },
     "metadata": {},
     "output_type": "display_data"
    },
    {
     "data": {
      "text/markdown": [
       "|     |   Duplicate Value |\n",
       "|----:|------------------:|\n",
       "| 0.5 |               287 |\n",
       "| 0.6 |                61 |\n",
       "| 2.3 |                57 |\n",
       "| 2.8 |                57 |\n",
       "| 2.1 |                54 |\n",
       "| 1.6 |                53 |\n",
       "| 2   |                51 |\n",
       "| 1.4 |                49 |\n",
       "| 1.3 |                48 |\n",
       "| 2.5 |                48 |\n",
       "| 2.2 |                45 |\n",
       "| 1.8 |                45 |\n",
       "| 1.5 |                44 |\n",
       "| 0.7 |                44 |\n",
       "| 1.7 |                44 |\n",
       "| 2.6 |                43 |\n",
       "| 1.9 |                43 |\n",
       "| 0.9 |                43 |\n",
       "| 1   |                42 |\n",
       "| 2.9 |                42 |\n",
       "| 2.4 |                40 |\n",
       "| 1.2 |                37 |\n",
       "| 2.7 |                37 |\n",
       "| 0.8 |                34 |\n",
       "| 1.1 |                33 |\n",
       "| 3   |                19 |"
      ],
      "text/plain": [
       "<IPython.core.display.Markdown object>"
      ]
     },
     "metadata": {},
     "output_type": "display_data"
    },
    {
     "data": {
      "text/markdown": [
       "**Missing Value clock_speed Data Train**"
      ],
      "text/plain": [
       "<IPython.core.display.Markdown object>"
      ]
     },
     "metadata": {},
     "output_type": "display_data"
    },
    {
     "data": {
      "text/plain": [
       "'Tidak ada missing value'"
      ]
     },
     "metadata": {},
     "output_type": "display_data"
    },
    {
     "data": {
      "text/markdown": [
       "**Outlier clock_speed Data Train**"
      ],
      "text/plain": [
       "<IPython.core.display.Markdown object>"
      ]
     },
     "metadata": {},
     "output_type": "display_data"
    },
    {
     "data": {
      "text/markdown": [
       "Tidak ada outlier"
      ],
      "text/plain": [
       "<IPython.core.display.Markdown object>"
      ]
     },
     "metadata": {},
     "output_type": "display_data"
    },
    {
     "data": {
      "text/markdown": [
       "**Distribusi data**"
      ],
      "text/plain": [
       "<IPython.core.display.Markdown object>"
      ]
     },
     "metadata": {},
     "output_type": "display_data"
    },
    {
     "name": "stdout",
     "output_type": "stream",
     "text": [
      "Nilai Kurtosis\n",
      "-1.3290622936694017\n"
     ]
    },
    {
     "data": {
      "image/png": "[encoded data removed]",
      "text/plain": [
       "<Figure size 800x400 with 1 Axes>"
      ]
     },
     "metadata": {},
     "output_type": "display_data"
    },
    {
     "data": {
      "text/markdown": [
       "**Kolerasi dengan kolom 'price_range'**"
      ],
      "text/plain": [
       "<IPython.core.display.Markdown object>"
      ]
     },
     "metadata": {},
     "output_type": "display_data"
    },
    {
     "name": "stdout",
     "output_type": "stream",
     "text": [
      "0.014031254818008083\n"
     ]
    },
    {
     "data": {
      "text/markdown": [
       "Hasil Analisis"
      ],
      "text/plain": [
       "<IPython.core.display.Markdown object>"
      ]
     },
     "metadata": {},
     "output_type": "display_data"
    },
    {
     "data": {
      "text/markdown": [
       "**Hasil Analisis**\n",
       "\n",
       "|   Nomor | Hasil Analisis                                                                                                                                                                                                                           |\n",
       "|--------:|:-----------------------------------------------------------------------------------------------------------------------------------------------------------------------------------------------------------------------------------------|\n",
       "|       1 | Di dapat dari statistika dasar bahwa jumlah data ada sebanyak 1400 dengan nilai minimun adalah 0.5 dan nilai max adalah 3. Nilai Q1 adalah 0.7, Q2 adalah 1.5, dan Q3 adalah 2.2. Standar deviasi adalah 0.814723. Mean bernilai 1.52171 |\n",
       "|         | Nilai IQR sebesar 1.5                                                                                                                                                                                                                    |\n",
       "|       2 | Ada beberapa duplicate value pada tabel ini dengan yang paling banyak adalah angka 0.5 dengan duplikat sebanyak 287                                                                                                                      |\n",
       "|       3 | Tidak ada missing value, Artinya pada kolom ini semuanya mempunyai nilai                                                                                                                                                                 |\n",
       "|       4 | Tidak ada outlier hal ini seperti yang diketahui batas bawahnya adalah Q1 - 1.5IQR yakni sebesar -1.75 dan batas atas                                                                                                                    |\n",
       "|         | sebesar Q3 + 1.5IQR yakni sebesar 4.45. Nilai terkecil adalah 0.5 dan nilai terbesar adalah 3 sehingga tidak ada outlier                                                                                                                 |\n",
       "|       5 | Kurtosis bernilai -1.3290622936694017 (negatif) yang artinya menunjukkan distribusi data cenderung rata                                                                                                                                  |\n",
       "|       6 | Kolerasinya dengan kolom target sebesar 0.014031254818008083 , nilai kolerasi jauh dari angka 1 sehingga kolerasinya                                                                                                                     |\n",
       "|         | dengan kolom target kurang kuat                                                                                                                                                                                                          |"
      ],
      "text/plain": [
       "<IPython.core.display.Markdown object>"
      ]
     },
     "metadata": {},
     "output_type": "display_data"
    }
   ],
   "source": [
    "#Nomor 3 Kolom lock_speed\n",
    "finalValue('clock_speed',df)\n",
    "#Hasil Analisis\n",
    "string1 = '''Di dapat dari statistika dasar bahwa jumlah data ada sebanyak 1400 dengan nilai minimun adalah 0.5 dan nilai max adalah 3. Nilai Q1 adalah 0.7, Q2 adalah 1.5, dan Q3 adalah 2.2. Standar deviasi adalah 0.814723. Mean bernilai 1.52171\n",
    "Nilai IQR sebesar 1.5'''\n",
    "string2 = '''Ada beberapa duplicate value pada tabel ini dengan yang paling banyak adalah angka 0.5 dengan duplikat sebanyak 287 '''\n",
    "string3 = '''Tidak ada missing value, Artinya pada kolom ini semuanya mempunyai nilai'''\n",
    "string4 = '''Tidak ada outlier hal ini seperti yang diketahui batas bawahnya adalah Q1 - 1.5IQR yakni sebesar -1.75 dan batas atas\n",
    "sebesar Q3 + 1.5IQR yakni sebesar 4.45. Nilai terkecil adalah 0.5 dan nilai terbesar adalah 3 sehingga tidak ada outlier'''\n",
    "string5 = '''Kurtosis bernilai -1.3290622936694017 (negatif) yang artinya menunjukkan distribusi data cenderung rata'''\n",
    "string6 = '''Kolerasinya dengan kolom target sebesar 0.014031254818008083 , nilai kolerasi jauh dari angka 1 sehingga kolerasinya\n",
    "dengan kolom target kurang kuat'''\n",
    "analisis(string1, string2, string3, string4, string5, string6)"
   ]
  },
  {
   "cell_type": "code",
   "execution_count": 69,
   "metadata": {},
   "outputs": [
    {
     "data": {
      "text/markdown": [
       "**Statistika Dasar dual_sim**"
      ],
      "text/plain": [
       "<IPython.core.display.Markdown object>"
      ]
     },
     "metadata": {},
     "output_type": "display_data"
    },
    {
     "data": {
      "text/markdown": [
       "|        |   Statistik Dasar |\n",
       "|:-------|------------------:|\n",
       "| count  |              1400 |\n",
       "| unique |                 2 |\n",
       "| top    |                 1 |\n",
       "| freq   |               704 |"
      ],
      "text/plain": [
       "<IPython.core.display.Markdown object>"
      ]
     },
     "metadata": {},
     "output_type": "display_data"
    },
    {
     "data": {
      "text/markdown": [
       "**Duplicate Value dual_sim Data Train**"
      ],
      "text/plain": [
       "<IPython.core.display.Markdown object>"
      ]
     },
     "metadata": {},
     "output_type": "display_data"
    },
    {
     "data": {
      "text/markdown": [
       "|       |   Duplicate Value |\n",
       "|:------|------------------:|\n",
       "| True  |               704 |\n",
       "| False |               696 |"
      ],
      "text/plain": [
       "<IPython.core.display.Markdown object>"
      ]
     },
     "metadata": {},
     "output_type": "display_data"
    },
    {
     "data": {
      "text/markdown": [
       "**Missing Value dual_sim Data Train**"
      ],
      "text/plain": [
       "<IPython.core.display.Markdown object>"
      ]
     },
     "metadata": {},
     "output_type": "display_data"
    },
    {
     "data": {
      "text/plain": [
       "'Tidak ada missing value'"
      ]
     },
     "metadata": {},
     "output_type": "display_data"
    },
    {
     "data": {
      "text/markdown": [
       "**Outlier dual_sim Data Train**"
      ],
      "text/plain": [
       "<IPython.core.display.Markdown object>"
      ]
     },
     "metadata": {},
     "output_type": "display_data"
    },
    {
     "data": {
      "text/markdown": [
       "Tidak ada outlier"
      ],
      "text/plain": [
       "<IPython.core.display.Markdown object>"
      ]
     },
     "metadata": {},
     "output_type": "display_data"
    },
    {
     "data": {
      "text/markdown": [
       "**Distribusi data**"
      ],
      "text/plain": [
       "<IPython.core.display.Markdown object>"
      ]
     },
     "metadata": {},
     "output_type": "display_data"
    },
    {
     "data": {
      "image/png": "[encoded data removed]",
      "text/plain": [
       "<Figure size 600x400 with 1 Axes>"
      ]
     },
     "metadata": {},
     "output_type": "display_data"
    },
    {
     "data": {
      "text/markdown": [
       "**Kolerasi dengan kolom 'price_range'**"
      ],
      "text/plain": [
       "<IPython.core.display.Markdown object>"
      ]
     },
     "metadata": {},
     "output_type": "display_data"
    },
    {
     "name": "stdout",
     "output_type": "stream",
     "text": [
      "-0.01075616373764109\n"
     ]
    },
    {
     "data": {
      "text/markdown": [
       "Hasil Analisis"
      ],
      "text/plain": [
       "<IPython.core.display.Markdown object>"
      ]
     },
     "metadata": {},
     "output_type": "display_data"
    },
    {
     "data": {
      "text/markdown": [
       "**Hasil Analisis**\n",
       "\n",
       "|   Nomor | Hasil Analisis                                                                                                                              |\n",
       "|--------:|:--------------------------------------------------------------------------------------------------------------------------------------------|\n",
       "|       1 | Tipe data kolom ini adalah boolean sehingga statistika dasar yang didapat adalah sebagai berikut jumlah data ada sebanyak 1400              |\n",
       "|         | dengan nilai unique sebanyak 2 yang artinya hanya ada kemungkinan dua nilai dan nilai yang paling sering muncul adalah 1(True) sebanyak 704 |\n",
       "|       2 | Karena hanya terdiri dari dua kategori pasti ada duplicate value yakni 1(True) sebanyak 704 dan 0(False) sebanyak 696                       |\n",
       "|       3 | Tidak ada missing value, Artinya pada kolom ini semuanya mempunyai nilai                                                                    |\n",
       "|       4 | Tidak ada outlier karena semua data nilainya kalo tidak 1(True) dia akan 0(False) tidak ada yang di luar itu                                |\n",
       "|       5 | Tidak memiliki nilai kurtosis karena tipe data bukan numerik                                                                                |\n",
       "|       6 | Kolerasinya dengan kolom target sebesar -0.01075616373764109, nilai kolerasi jauh dari angka 1, mendekati angka 0                           |\n",
       "|         | sehingga kolerasinya tidak kuat                                                                                                             |"
      ],
      "text/plain": [
       "<IPython.core.display.Markdown object>"
      ]
     },
     "metadata": {},
     "output_type": "display_data"
    }
   ],
   "source": [
    "#Nomor 4 kolom dual_sim \n",
    "finalValue('dual_sim',df)\n",
    "#Hasil Analisis\n",
    "string1 = '''Tipe data kolom ini adalah boolean sehingga statistika dasar yang didapat adalah sebagai berikut jumlah data ada sebanyak 1400 \n",
    "dengan nilai unique sebanyak 2 yang artinya hanya ada kemungkinan dua nilai dan nilai yang paling sering muncul adalah 1(True) sebanyak 704'''\n",
    "string2 = '''Karena hanya terdiri dari dua kategori pasti ada duplicate value yakni 1(True) sebanyak 704 dan 0(False) sebanyak 696'''\n",
    "string3 = '''Tidak ada missing value, Artinya pada kolom ini semuanya mempunyai nilai'''\n",
    "string4 = '''Tidak ada outlier karena semua data nilainya kalo tidak 1(True) dia akan 0(False) tidak ada yang di luar itu'''\n",
    "string5 = '''Tidak memiliki nilai kurtosis karena tipe data bukan numerik'''\n",
    "string6 = '''Kolerasinya dengan kolom target sebesar -0.01075616373764109, nilai kolerasi jauh dari angka 1, mendekati angka 0\n",
    "sehingga kolerasinya tidak kuat'''\n",
    "analisis(string1, string2, string3, string4, string5,string6)"
   ]
  },
  {
   "cell_type": "code",
   "execution_count": 70,
   "metadata": {},
   "outputs": [
    {
     "data": {
      "text/markdown": [
       "**Statistika Dasar fc**"
      ],
      "text/plain": [
       "<IPython.core.display.Markdown object>"
      ]
     },
     "metadata": {},
     "output_type": "display_data"
    },
    {
     "data": {
      "text/markdown": [
       "|       |   Statistik Dasar |\n",
       "|:------|------------------:|\n",
       "| count |        1400       |\n",
       "| mean  |           4.275   |\n",
       "| std   |           4.32417 |\n",
       "| min   |           0       |\n",
       "| 25%   |           1       |\n",
       "| 50%   |           3       |\n",
       "| 75%   |           7       |\n",
       "| max   |          19       |"
      ],
      "text/plain": [
       "<IPython.core.display.Markdown object>"
      ]
     },
     "metadata": {},
     "output_type": "display_data"
    },
    {
     "data": {
      "text/markdown": [
       "**Duplicate Value fc Data Train**"
      ],
      "text/plain": [
       "<IPython.core.display.Markdown object>"
      ]
     },
     "metadata": {},
     "output_type": "display_data"
    },
    {
     "data": {
      "text/markdown": [
       "|    |   Duplicate Value |\n",
       "|---:|------------------:|\n",
       "|  0 |               338 |\n",
       "|  1 |               172 |\n",
       "|  2 |               133 |\n",
       "|  3 |               117 |\n",
       "|  5 |                98 |\n",
       "|  4 |                87 |\n",
       "|  7 |                75 |\n",
       "|  6 |                73 |\n",
       "|  9 |                60 |\n",
       "|  8 |                59 |\n",
       "| 10 |                40 |\n",
       "| 11 |                33 |\n",
       "| 12 |                29 |\n",
       "| 13 |                26 |\n",
       "| 16 |                18 |\n",
       "| 15 |                16 |\n",
       "| 14 |                15 |\n",
       "| 18 |                 7 |\n",
       "| 17 |                 3 |"
      ],
      "text/plain": [
       "<IPython.core.display.Markdown object>"
      ]
     },
     "metadata": {},
     "output_type": "display_data"
    },
    {
     "data": {
      "text/markdown": [
       "**Missing Value fc Data Train**"
      ],
      "text/plain": [
       "<IPython.core.display.Markdown object>"
      ]
     },
     "metadata": {},
     "output_type": "display_data"
    },
    {
     "data": {
      "text/plain": [
       "'Tidak ada missing value'"
      ]
     },
     "metadata": {},
     "output_type": "display_data"
    },
    {
     "data": {
      "text/markdown": [
       "**Outlier fc Data Train**"
      ],
      "text/plain": [
       "<IPython.core.display.Markdown object>"
      ]
     },
     "metadata": {},
     "output_type": "display_data"
    },
    {
     "data": {
      "text/markdown": [
       "Tidak ada outlier"
      ],
      "text/plain": [
       "<IPython.core.display.Markdown object>"
      ]
     },
     "metadata": {},
     "output_type": "display_data"
    },
    {
     "data": {
      "text/markdown": [
       "**Distribusi data**"
      ],
      "text/plain": [
       "<IPython.core.display.Markdown object>"
      ]
     },
     "metadata": {},
     "output_type": "display_data"
    },
    {
     "name": "stdout",
     "output_type": "stream",
     "text": [
      "Nilai Kurtosis\n",
      "0.28807491164573396\n"
     ]
    },
    {
     "data": {
      "image/png": "[encoded data removed]",
      "text/plain": [
       "<Figure size 800x400 with 1 Axes>"
      ]
     },
     "metadata": {},
     "output_type": "display_data"
    },
    {
     "data": {
      "text/markdown": [
       "**Kolerasi dengan kolom 'price_range'**"
      ],
      "text/plain": [
       "<IPython.core.display.Markdown object>"
      ]
     },
     "metadata": {},
     "output_type": "display_data"
    },
    {
     "name": "stdout",
     "output_type": "stream",
     "text": [
      "-0.003842010298191734\n"
     ]
    },
    {
     "data": {
      "text/markdown": [
       "Hasil Analisis"
      ],
      "text/plain": [
       "<IPython.core.display.Markdown object>"
      ]
     },
     "metadata": {},
     "output_type": "display_data"
    },
    {
     "data": {
      "text/markdown": [
       "**Hasil Analisis**\n",
       "\n",
       "|   Nomor | Hasil Analisis                                                                                                        |\n",
       "|--------:|:----------------------------------------------------------------------------------------------------------------------|\n",
       "|       1 | Di dapat dari statistika dasar bahwa jumlah data ada sebanyak 1400 dengan nilai minimun adalah 0 dan nilai max ada    |\n",
       "|         | lah 19. Q1 adalah 1, Q2 adalah 3 dan Q3 adalah 7. Standar deviasi adalah 4.32417 dan mean 4.275                       |\n",
       "|         | Dari sini juga dapat disimpulkan bahwa IQR sebesar 6                                                                  |\n",
       "|       2 | Ada beberapa duplicate value pada tabel ini dengan yang paling banyak adalah angka 0 duplikat sebanyak 338            |\n",
       "|       3 | Tidak ada missing value, Artinya pada kolom ini semuanya mempunyai nilai                                              |\n",
       "|       4 | Tidak ada outlier hal ini seperti yang diketahui batas bawahnya adalah Q1 - 1.5IQR yakni sebesar -8 dan batas atas    |\n",
       "|         | sebesar Q3 + 1.5IQR yakni sebesar 16 nilai terkecil adalah 0 dan nilai terbesar adalah 19 sehingga tidak ada outlier  |\n",
       "|       5 | Kurtosis bernilai 0.28807491164573396 (negatif) yang artinya menunjukkan distribusi data cenderung rata               |\n",
       "|       6 | Kolerasinya dengan kolom target sebesar -0.003842010298191734 , nilai kolerasi jauh dari angka 1 sehingga kolerasinya |\n",
       "|         | dengan kolom target kurang kuat                                                                                       |"
      ],
      "text/plain": [
       "<IPython.core.display.Markdown object>"
      ]
     },
     "metadata": {},
     "output_type": "display_data"
    }
   ],
   "source": [
    "#Nomor 5 Kolom fc\n",
    "finalValue('fc',df)\n",
    "#Hasil Analisis\n",
    "string1 = '''Di dapat dari statistika dasar bahwa jumlah data ada sebanyak 1400 dengan nilai minimun adalah 0 dan nilai max ada\n",
    "lah 19. Q1 adalah 1, Q2 adalah 3 dan Q3 adalah 7. Standar deviasi adalah 4.32417 dan mean 4.275\n",
    "Dari sini juga dapat disimpulkan bahwa IQR sebesar 6'''\n",
    "string2 = '''Ada beberapa duplicate value pada tabel ini dengan yang paling banyak adalah angka 0 duplikat sebanyak 338 '''\n",
    "string3 = '''Tidak ada missing value, Artinya pada kolom ini semuanya mempunyai nilai'''\n",
    "string4 = '''Tidak ada outlier hal ini seperti yang diketahui batas bawahnya adalah Q1 - 1.5IQR yakni sebesar -8 dan batas atas\n",
    "sebesar Q3 + 1.5IQR yakni sebesar 16 nilai terkecil adalah 0 dan nilai terbesar adalah 19 sehingga tidak ada outlier'''\n",
    "string5 = '''Kurtosis bernilai 0.28807491164573396 (negatif) yang artinya menunjukkan distribusi data cenderung rata'''\n",
    "string6 = '''Kolerasinya dengan kolom target sebesar -0.003842010298191734 , nilai kolerasi jauh dari angka 1 sehingga kolerasinya\n",
    "dengan kolom target kurang kuat'''\n",
    "analisis(string1, string2, string3, string4, string5, string6)"
   ]
  },
  {
   "cell_type": "code",
   "execution_count": 71,
   "metadata": {},
   "outputs": [
    {
     "data": {
      "text/markdown": [
       "**Statistika Dasar four_g**"
      ],
      "text/plain": [
       "<IPython.core.display.Markdown object>"
      ]
     },
     "metadata": {},
     "output_type": "display_data"
    },
    {
     "data": {
      "text/markdown": [
       "|        |   Statistik Dasar |\n",
       "|:-------|------------------:|\n",
       "| count  |              1400 |\n",
       "| unique |                 2 |\n",
       "| top    |                 1 |\n",
       "| freq   |               742 |"
      ],
      "text/plain": [
       "<IPython.core.display.Markdown object>"
      ]
     },
     "metadata": {},
     "output_type": "display_data"
    },
    {
     "data": {
      "text/markdown": [
       "**Duplicate Value four_g Data Train**"
      ],
      "text/plain": [
       "<IPython.core.display.Markdown object>"
      ]
     },
     "metadata": {},
     "output_type": "display_data"
    },
    {
     "data": {
      "text/markdown": [
       "|       |   Duplicate Value |\n",
       "|:------|------------------:|\n",
       "| True  |               742 |\n",
       "| False |               658 |"
      ],
      "text/plain": [
       "<IPython.core.display.Markdown object>"
      ]
     },
     "metadata": {},
     "output_type": "display_data"
    },
    {
     "data": {
      "text/markdown": [
       "**Missing Value four_g Data Train**"
      ],
      "text/plain": [
       "<IPython.core.display.Markdown object>"
      ]
     },
     "metadata": {},
     "output_type": "display_data"
    },
    {
     "data": {
      "text/plain": [
       "'Tidak ada missing value'"
      ]
     },
     "metadata": {},
     "output_type": "display_data"
    },
    {
     "data": {
      "text/markdown": [
       "**Outlier four_g Data Train**"
      ],
      "text/plain": [
       "<IPython.core.display.Markdown object>"
      ]
     },
     "metadata": {},
     "output_type": "display_data"
    },
    {
     "data": {
      "text/markdown": [
       "Tidak ada outlier"
      ],
      "text/plain": [
       "<IPython.core.display.Markdown object>"
      ]
     },
     "metadata": {},
     "output_type": "display_data"
    },
    {
     "data": {
      "text/markdown": [
       "**Distribusi data**"
      ],
      "text/plain": [
       "<IPython.core.display.Markdown object>"
      ]
     },
     "metadata": {},
     "output_type": "display_data"
    },
    {
     "data": {
      "image/png": "[encoded data removed]",
      "text/plain": [
       "<Figure size 600x400 with 1 Axes>"
      ]
     },
     "metadata": {},
     "output_type": "display_data"
    },
    {
     "data": {
      "text/markdown": [
       "**Kolerasi dengan kolom 'price_range'**"
      ],
      "text/plain": [
       "<IPython.core.display.Markdown object>"
      ]
     },
     "metadata": {},
     "output_type": "display_data"
    },
    {
     "name": "stdout",
     "output_type": "stream",
     "text": [
      "0.0005508484718002661\n"
     ]
    },
    {
     "data": {
      "text/markdown": [
       "Hasil Analisis"
      ],
      "text/plain": [
       "<IPython.core.display.Markdown object>"
      ]
     },
     "metadata": {},
     "output_type": "display_data"
    },
    {
     "data": {
      "text/markdown": [
       "**Hasil Analisis**\n",
       "\n",
       "|   Nomor | Hasil Analisis                                                                                                                              |\n",
       "|--------:|:--------------------------------------------------------------------------------------------------------------------------------------------|\n",
       "|       1 | Tipe data kolom ini adalah boolean sehingga statistika dasar yang didapat adalah sebagai berikut jumlah data ada sebanyak 1400              |\n",
       "|         | dengan nilai unique sebanyak 2 yang artinya hanya ada kemungkinan dua nilai dan nilai yang paling sering muncul adalah 1(True) sebanyak 742 |\n",
       "|       2 | Karena hanya terdiri dari dua kategori pasti ada duplicate value yakni 1(True) sebanyak 742 dan 0(False) sebanyak 658                       |\n",
       "|       3 | Tidak ada missing value, Artinya pada kolom ini semuanya mempunyai nilai                                                                    |\n",
       "|       4 | Tidak ada outlier karena semua data nilainya kalo tidak 1(True) dia akan 0(False) tidak ada yang di luar itu                                |\n",
       "|       5 | Tidak memiliki nilai kurtosis karena tipe data bukan numerik                                                                                |\n",
       "|       6 | Kolerasinya dengan kolom target sebesar 0.0005508484718002661, nilai kolerasi jauh dari angka 1, mendekati angka 0                          |\n",
       "|         | sehingga kolerasinya tidak kuat                                                                                                             |"
      ],
      "text/plain": [
       "<IPython.core.display.Markdown object>"
      ]
     },
     "metadata": {},
     "output_type": "display_data"
    }
   ],
   "source": [
    "#Nomor 6 kolom four_g \n",
    "finalValue('four_g',df)\n",
    "#Hasil Analisis\n",
    "string1 = '''Tipe data kolom ini adalah boolean sehingga statistika dasar yang didapat adalah sebagai berikut jumlah data ada sebanyak 1400 \n",
    "dengan nilai unique sebanyak 2 yang artinya hanya ada kemungkinan dua nilai dan nilai yang paling sering muncul adalah 1(True) sebanyak 742'''\n",
    "string2 = '''Karena hanya terdiri dari dua kategori pasti ada duplicate value yakni 1(True) sebanyak 742 dan 0(False) sebanyak 658'''\n",
    "string3 = '''Tidak ada missing value, Artinya pada kolom ini semuanya mempunyai nilai'''\n",
    "string4 = '''Tidak ada outlier karena semua data nilainya kalo tidak 1(True) dia akan 0(False) tidak ada yang di luar itu'''\n",
    "string5 = '''Tidak memiliki nilai kurtosis karena tipe data bukan numerik'''\n",
    "string6 = '''Kolerasinya dengan kolom target sebesar 0.0005508484718002661, nilai kolerasi jauh dari angka 1, mendekati angka 0\n",
    "sehingga kolerasinya tidak kuat'''\n",
    "analisis(string1, string2, string3, string4, string5, string6)"
   ]
  },
  {
   "cell_type": "code",
   "execution_count": 72,
   "metadata": {},
   "outputs": [
    {
     "data": {
      "text/markdown": [
       "**Statistika Dasar int_memory**"
      ],
      "text/plain": [
       "<IPython.core.display.Markdown object>"
      ]
     },
     "metadata": {},
     "output_type": "display_data"
    },
    {
     "data": {
      "text/markdown": [
       "|       |   Statistik Dasar |\n",
       "|:------|------------------:|\n",
       "| count |         1400      |\n",
       "| mean  |           31.9621 |\n",
       "| std   |           18.163  |\n",
       "| min   |            2      |\n",
       "| 25%   |           16      |\n",
       "| 50%   |           32      |\n",
       "| 75%   |           48      |\n",
       "| max   |           64      |"
      ],
      "text/plain": [
       "<IPython.core.display.Markdown object>"
      ]
     },
     "metadata": {},
     "output_type": "display_data"
    },
    {
     "data": {
      "text/markdown": [
       "**Duplicate Value int_memory Data Train**"
      ],
      "text/plain": [
       "<IPython.core.display.Markdown object>"
      ]
     },
     "metadata": {},
     "output_type": "display_data"
    },
    {
     "data": {
      "text/markdown": [
       "|    |   Duplicate Value |\n",
       "|---:|------------------:|\n",
       "| 27 |                36 |\n",
       "| 16 |                30 |\n",
       "| 19 |                29 |\n",
       "|  5 |                29 |\n",
       "| 42 |                28 |\n",
       "| 23 |                28 |\n",
       "| 50 |                28 |\n",
       "|  2 |                28 |\n",
       "| 14 |                28 |\n",
       "| 33 |                28 |\n",
       "| 11 |                27 |\n",
       "| 30 |                27 |\n",
       "| 12 |                27 |\n",
       "| 52 |                27 |\n",
       "|  7 |                26 |\n",
       "|  6 |                26 |\n",
       "|  8 |                26 |\n",
       "| 41 |                26 |\n",
       "| 58 |                26 |\n",
       "|  9 |                25 |\n",
       "| 20 |                25 |\n",
       "| 10 |                25 |\n",
       "| 45 |                25 |\n",
       "| 40 |                25 |\n",
       "| 44 |                24 |\n",
       "| 57 |                24 |\n",
       "| 32 |                23 |\n",
       "| 54 |                23 |\n",
       "| 35 |                22 |\n",
       "| 61 |                22 |\n",
       "| 36 |                22 |\n",
       "| 18 |                21 |\n",
       "| 15 |                21 |\n",
       "| 34 |                21 |\n",
       "| 47 |                21 |\n",
       "| 13 |                21 |\n",
       "| 26 |                21 |\n",
       "| 49 |                21 |\n",
       "| 53 |                21 |\n",
       "| 55 |                20 |\n",
       "| 51 |                20 |\n",
       "| 17 |                20 |\n",
       "| 60 |                20 |\n",
       "| 64 |                20 |\n",
       "| 46 |                20 |\n",
       "| 21 |                20 |\n",
       "| 48 |                19 |\n",
       "| 24 |                19 |\n",
       "| 56 |                18 |\n",
       "| 63 |                17 |\n",
       "| 29 |                17 |\n",
       "| 39 |                17 |\n",
       "| 31 |                17 |\n",
       "|  3 |                17 |\n",
       "| 38 |                16 |\n",
       "| 28 |                16 |\n",
       "| 22 |                16 |\n",
       "| 62 |                16 |\n",
       "| 59 |                15 |\n",
       "| 25 |                15 |\n",
       "| 37 |                15 |\n",
       "|  4 |                14 |\n",
       "| 43 |                13 |"
      ],
      "text/plain": [
       "<IPython.core.display.Markdown object>"
      ]
     },
     "metadata": {},
     "output_type": "display_data"
    },
    {
     "data": {
      "text/markdown": [
       "**Missing Value int_memory Data Train**"
      ],
      "text/plain": [
       "<IPython.core.display.Markdown object>"
      ]
     },
     "metadata": {},
     "output_type": "display_data"
    },
    {
     "data": {
      "text/plain": [
       "'Tidak ada missing value'"
      ]
     },
     "metadata": {},
     "output_type": "display_data"
    },
    {
     "data": {
      "text/markdown": [
       "**Outlier int_memory Data Train**"
      ],
      "text/plain": [
       "<IPython.core.display.Markdown object>"
      ]
     },
     "metadata": {},
     "output_type": "display_data"
    },
    {
     "data": {
      "text/markdown": [
       "Tidak ada outlier"
      ],
      "text/plain": [
       "<IPython.core.display.Markdown object>"
      ]
     },
     "metadata": {},
     "output_type": "display_data"
    },
    {
     "data": {
      "text/markdown": [
       "**Distribusi data**"
      ],
      "text/plain": [
       "<IPython.core.display.Markdown object>"
      ]
     },
     "metadata": {},
     "output_type": "display_data"
    },
    {
     "name": "stdout",
     "output_type": "stream",
     "text": [
      "Nilai Kurtosis\n",
      "-1.2271038904205902\n"
     ]
    },
    {
     "data": {
      "image/png": "[encoded data removed]",
      "text/plain": [
       "<Figure size 800x400 with 1 Axes>"
      ]
     },
     "metadata": {},
     "output_type": "display_data"
    },
    {
     "data": {
      "text/markdown": [
       "**Kolerasi dengan kolom 'price_range'**"
      ],
      "text/plain": [
       "<IPython.core.display.Markdown object>"
      ]
     },
     "metadata": {},
     "output_type": "display_data"
    },
    {
     "name": "stdout",
     "output_type": "stream",
     "text": [
      "0.026175706877841595\n"
     ]
    },
    {
     "data": {
      "text/markdown": [
       "Hasil Analisis"
      ],
      "text/plain": [
       "<IPython.core.display.Markdown object>"
      ]
     },
     "metadata": {},
     "output_type": "display_data"
    },
    {
     "data": {
      "text/markdown": [
       "**Hasil Analisis**\n",
       "\n",
       "|   Nomor | Hasil Analisis                                                                                                       |\n",
       "|--------:|:---------------------------------------------------------------------------------------------------------------------|\n",
       "|       1 | Di dapat dari statistika dasar bahwa jumlah data ada sebanyak 1400 dengan nilai minimun adalah 2 dan nilai max ada   |\n",
       "|         | lah 64. Kemudian Q1 adalah 16, Q2 adalah 32 dan Q3 adalah 48 standar deviasi adalah 18.163 dan mean 31.9621          |\n",
       "|         | Dari sini juga dapat disimpulkan bahwa IQR sebesar 32                                                                |\n",
       "|       2 | Ada beberapa duplicate value pada tabel ini dengan yang paling banyak adalah angka 27, duplicate sebanyak 36         |\n",
       "|       3 | Tidak ada missing value, Artinya pada kolom ini semuanya mempunyai nilai                                             |\n",
       "|       4 | Tidak ada outlier hal ini seperti yang diketahui batas bawahnya adalah Q1 - 1.5IQR yakni sebesar -32 dan batas atas  |\n",
       "|         | sebesar Q3 + 1.5IQR yakni sebesar 96 nilai terkecil adalah 2 dan nilai terbesar adalah 64 sehingga tidak ada outlier |\n",
       "|       5 | Kurtosis bernilai -1.2271038904205902 (negatif) yang artinya menunjukkan distribusi data cenderung rata              |\n",
       "|       6 | Kolerasinya dengan kolom target sebesar 0.026175706877841595                                                         |\n",
       "|         |  , nilai kolerasi jauh dari angka 1 sehingga kolerasinya                                                             |\n",
       "|         | dengan kolom target kurang kuat                                                                                      |"
      ],
      "text/plain": [
       "<IPython.core.display.Markdown object>"
      ]
     },
     "metadata": {},
     "output_type": "display_data"
    }
   ],
   "source": [
    "#Nomor 7 Kolom int_memory\n",
    "finalValue('int_memory',df)\n",
    "#Hasil Analisis\n",
    "string1 = '''Di dapat dari statistika dasar bahwa jumlah data ada sebanyak 1400 dengan nilai minimun adalah 2 dan nilai max ada\n",
    "lah 64. Kemudian Q1 adalah 16, Q2 adalah 32 dan Q3 adalah 48 standar deviasi adalah 18.163 dan mean 31.9621\n",
    "Dari sini juga dapat disimpulkan bahwa IQR sebesar 32'''\n",
    "string2 = '''Ada beberapa duplicate value pada tabel ini dengan yang paling banyak adalah angka 27, duplicate sebanyak 36 '''\n",
    "string3 = '''Tidak ada missing value, Artinya pada kolom ini semuanya mempunyai nilai'''\n",
    "string4 = '''Tidak ada outlier hal ini seperti yang diketahui batas bawahnya adalah Q1 - 1.5IQR yakni sebesar -32 dan batas atas\n",
    "sebesar Q3 + 1.5IQR yakni sebesar 96 nilai terkecil adalah 2 dan nilai terbesar adalah 64 sehingga tidak ada outlier'''\n",
    "string5 = '''Kurtosis bernilai -1.2271038904205902 (negatif) yang artinya menunjukkan distribusi data cenderung rata'''\n",
    "string6 = '''Kolerasinya dengan kolom target sebesar 0.026175706877841595\n",
    " , nilai kolerasi jauh dari angka 1 sehingga kolerasinya\n",
    "dengan kolom target kurang kuat'''\n",
    "analisis(string1, string2, string3, string4, string5, string6)"
   ]
  },
  {
   "cell_type": "code",
   "execution_count": 73,
   "metadata": {},
   "outputs": [
    {
     "data": {
      "text/markdown": [
       "**Statistika Dasar m_dep**"
      ],
      "text/plain": [
       "<IPython.core.display.Markdown object>"
      ]
     },
     "metadata": {},
     "output_type": "display_data"
    },
    {
     "data": {
      "text/markdown": [
       "|       |   Statistik Dasar |\n",
       "|:------|------------------:|\n",
       "| count |       1400        |\n",
       "| mean  |          0.507857 |\n",
       "| std   |          0.288539 |\n",
       "| min   |          0.1      |\n",
       "| 25%   |          0.2      |\n",
       "| 50%   |          0.5      |\n",
       "| 75%   |          0.8      |\n",
       "| max   |          1        |"
      ],
      "text/plain": [
       "<IPython.core.display.Markdown object>"
      ]
     },
     "metadata": {},
     "output_type": "display_data"
    },
    {
     "data": {
      "text/markdown": [
       "**Duplicate Value m_dep Data Train**"
      ],
      "text/plain": [
       "<IPython.core.display.Markdown object>"
      ]
     },
     "metadata": {},
     "output_type": "display_data"
    },
    {
     "data": {
      "text/markdown": [
       "|     |   Duplicate Value |\n",
       "|----:|------------------:|\n",
       "| 0.1 |               223 |\n",
       "| 0.8 |               146 |\n",
       "| 0.3 |               146 |\n",
       "| 0.7 |               144 |\n",
       "| 0.5 |               142 |\n",
       "| 0.9 |               137 |\n",
       "| 0.6 |               137 |\n",
       "| 0.2 |               133 |\n",
       "| 0.4 |               113 |\n",
       "| 1   |                79 |"
      ],
      "text/plain": [
       "<IPython.core.display.Markdown object>"
      ]
     },
     "metadata": {},
     "output_type": "display_data"
    },
    {
     "data": {
      "text/markdown": [
       "**Missing Value m_dep Data Train**"
      ],
      "text/plain": [
       "<IPython.core.display.Markdown object>"
      ]
     },
     "metadata": {},
     "output_type": "display_data"
    },
    {
     "data": {
      "text/plain": [
       "'Tidak ada missing value'"
      ]
     },
     "metadata": {},
     "output_type": "display_data"
    },
    {
     "data": {
      "text/markdown": [
       "**Outlier m_dep Data Train**"
      ],
      "text/plain": [
       "<IPython.core.display.Markdown object>"
      ]
     },
     "metadata": {},
     "output_type": "display_data"
    },
    {
     "data": {
      "text/markdown": [
       "Tidak ada outlier"
      ],
      "text/plain": [
       "<IPython.core.display.Markdown object>"
      ]
     },
     "metadata": {},
     "output_type": "display_data"
    },
    {
     "data": {
      "text/markdown": [
       "**Distribusi data**"
      ],
      "text/plain": [
       "<IPython.core.display.Markdown object>"
      ]
     },
     "metadata": {},
     "output_type": "display_data"
    },
    {
     "name": "stdout",
     "output_type": "stream",
     "text": [
      "Nilai Kurtosis\n",
      "-1.266585482565444\n"
     ]
    },
    {
     "data": {
      "image/png": "[encoded data removed]",
      "text/plain": [
       "<Figure size 800x400 with 1 Axes>"
      ]
     },
     "metadata": {},
     "output_type": "display_data"
    },
    {
     "data": {
      "text/markdown": [
       "**Kolerasi dengan kolom 'price_range'**"
      ],
      "text/plain": [
       "<IPython.core.display.Markdown object>"
      ]
     },
     "metadata": {},
     "output_type": "display_data"
    },
    {
     "name": "stdout",
     "output_type": "stream",
     "text": [
      "0.0012049180209846337\n"
     ]
    },
    {
     "data": {
      "text/markdown": [
       "Hasil Analisis"
      ],
      "text/plain": [
       "<IPython.core.display.Markdown object>"
      ]
     },
     "metadata": {},
     "output_type": "display_data"
    },
    {
     "data": {
      "text/markdown": [
       "**Hasil Analisis**\n",
       "\n",
       "|   Nomor | Hasil Analisis                                                                                                         |\n",
       "|--------:|:-----------------------------------------------------------------------------------------------------------------------|\n",
       "|       1 | Di dapat dari statistika dasar bahwa jumlah data ada sebanyak 1400 dengan nilai minimun adalah 0.1 dan nilai max ada   |\n",
       "|         | lah 1. Kemudian Q1 adalah 0.2, Q2 adalah 0.5 dan Q3 adalah 0.8 standar deviasi adalah 0.288539 dan mean 0.507857       |\n",
       "|         | Dari sini juga dapat disimpulkan bahwa IQR sebesar 0.6                                                                 |\n",
       "|       2 | Ada beberapa duplicate value pada tabel ini dengan yang paling banyak adalah angka 0.1 duplicate sebanyak 223          |\n",
       "|       3 | Tidak ada missing value, Artinya pada kolom ini semuanya mempunyai nilai                                               |\n",
       "|       4 | Tidak ada outlier hal ini seperti yang diketahui batas bawahnya adalah Q1 - 1.5IQR yakni sebesar -0.7 dan batas atas   |\n",
       "|         | sebesar Q3 + 1.5IQR yakni sebesar 1.7 nilai terkecil adalah 0.1 dan nilai terbesar adalah 1 sehingga tidak ada outlier |\n",
       "|       5 | Kurtosis bernilai -1.266585482565444 (negatif) yang artinya menunjukkan distribusi data cenderung rata                 |\n",
       "|       6 | Kolerasinya dengan kolom target sebesar 0.0012049180209846337 , nilai kolerasi jauh dari angka 1 sehingga kolerasinya  |\n",
       "|         | dengan kolom target kurang kuat                                                                                        |"
      ],
      "text/plain": [
       "<IPython.core.display.Markdown object>"
      ]
     },
     "metadata": {},
     "output_type": "display_data"
    }
   ],
   "source": [
    "#Nomor 8 Kolom m_dep\n",
    "finalValue('m_dep',df)\n",
    "#Hasil Analisis\n",
    "string1 = '''Di dapat dari statistika dasar bahwa jumlah data ada sebanyak 1400 dengan nilai minimun adalah 0.1 dan nilai max ada\n",
    "lah 1. Kemudian Q1 adalah 0.2, Q2 adalah 0.5 dan Q3 adalah 0.8 standar deviasi adalah 0.288539 dan mean 0.507857\n",
    "Dari sini juga dapat disimpulkan bahwa IQR sebesar 0.6'''\n",
    "string2 = '''Ada beberapa duplicate value pada tabel ini dengan yang paling banyak adalah angka 0.1 duplicate sebanyak 223 '''\n",
    "string3 = '''Tidak ada missing value, Artinya pada kolom ini semuanya mempunyai nilai'''\n",
    "string4 = '''Tidak ada outlier hal ini seperti yang diketahui batas bawahnya adalah Q1 - 1.5IQR yakni sebesar -0.7 dan batas atas\n",
    "sebesar Q3 + 1.5IQR yakni sebesar 1.7 nilai terkecil adalah 0.1 dan nilai terbesar adalah 1 sehingga tidak ada outlier'''\n",
    "string5 = '''Kurtosis bernilai -1.266585482565444 (negatif) yang artinya menunjukkan distribusi data cenderung rata'''\n",
    "string6 = '''Kolerasinya dengan kolom target sebesar 0.0012049180209846337 , nilai kolerasi jauh dari angka 1 sehingga kolerasinya\n",
    "dengan kolom target kurang kuat'''\n",
    "analisis(string1, string2, string3, string4, string5, string6)"
   ]
  },
  {
   "cell_type": "code",
   "execution_count": 74,
   "metadata": {},
   "outputs": [
    {
     "data": {
      "text/markdown": [
       "**Statistika Dasar mobile_wt**"
      ],
      "text/plain": [
       "<IPython.core.display.Markdown object>"
      ]
     },
     "metadata": {},
     "output_type": "display_data"
    },
    {
     "data": {
      "text/markdown": [
       "|       |   Statistik Dasar |\n",
       "|:------|------------------:|\n",
       "| count |         1400      |\n",
       "| mean  |          139.376  |\n",
       "| std   |           35.4008 |\n",
       "| min   |           80      |\n",
       "| 25%   |          108      |\n",
       "| 50%   |          139      |\n",
       "| 75%   |          169      |\n",
       "| max   |          200      |"
      ],
      "text/plain": [
       "<IPython.core.display.Markdown object>"
      ]
     },
     "metadata": {},
     "output_type": "display_data"
    },
    {
     "data": {
      "text/markdown": [
       "**Duplicate Value mobile_wt Data Train**"
      ],
      "text/plain": [
       "<IPython.core.display.Markdown object>"
      ]
     },
     "metadata": {},
     "output_type": "display_data"
    },
    {
     "data": {
      "text/markdown": [
       "|     |   Duplicate Value |\n",
       "|----:|------------------:|\n",
       "| 182 |                22 |\n",
       "| 105 |                21 |\n",
       "| 101 |                21 |\n",
       "| 198 |                20 |\n",
       "| 185 |                20 |\n",
       "|  89 |                19 |\n",
       "| 104 |                19 |\n",
       "|  80 |                19 |\n",
       "| 131 |                18 |\n",
       "| 111 |                17 |\n",
       "| 114 |                16 |\n",
       "| 157 |                16 |\n",
       "| 169 |                16 |\n",
       "| 199 |                16 |\n",
       "| 146 |                16 |\n",
       "| 138 |                15 |\n",
       "| 145 |                15 |\n",
       "| 123 |                15 |\n",
       "| 159 |                15 |\n",
       "| 124 |                14 |\n",
       "| 100 |                14 |\n",
       "| 150 |                14 |\n",
       "| 162 |                14 |\n",
       "| 160 |                14 |\n",
       "| 103 |                14 |\n",
       "|  86 |                14 |\n",
       "|  88 |                14 |\n",
       "| 134 |                14 |\n",
       "|  82 |                14 |\n",
       "| 113 |                13 |\n",
       "| 158 |                13 |\n",
       "| 130 |                13 |\n",
       "|  83 |                13 |\n",
       "| 181 |                13 |\n",
       "|  91 |                13 |\n",
       "| 155 |                13 |\n",
       "| 107 |                13 |\n",
       "| 156 |                13 |\n",
       "| 109 |                13 |\n",
       "| 132 |                13 |\n",
       "| 148 |                12 |\n",
       "| 163 |                12 |\n",
       "| 193 |                12 |\n",
       "| 139 |                12 |\n",
       "| 135 |                12 |\n",
       "| 178 |                12 |\n",
       "| 161 |                12 |\n",
       "| 164 |                12 |\n",
       "|  85 |                12 |\n",
       "| 177 |                12 |\n",
       "| 151 |                12 |\n",
       "| 186 |                12 |\n",
       "| 196 |                12 |\n",
       "|  84 |                12 |\n",
       "| 147 |                11 |\n",
       "| 144 |                11 |\n",
       "| 200 |                11 |\n",
       "| 115 |                11 |\n",
       "| 191 |                11 |\n",
       "| 122 |                11 |\n",
       "| 194 |                11 |\n",
       "| 184 |                11 |\n",
       "| 128 |                11 |\n",
       "| 136 |                11 |\n",
       "| 174 |                11 |\n",
       "| 117 |                11 |\n",
       "| 118 |                11 |\n",
       "| 129 |                11 |\n",
       "| 180 |                11 |\n",
       "| 172 |                11 |\n",
       "| 133 |                11 |\n",
       "| 102 |                11 |\n",
       "| 197 |                11 |\n",
       "| 187 |                11 |\n",
       "| 168 |                10 |\n",
       "| 142 |                10 |\n",
       "| 166 |                10 |\n",
       "|  99 |                10 |\n",
       "| 126 |                10 |\n",
       "| 112 |                10 |\n",
       "|  94 |                10 |\n",
       "|  87 |                10 |\n",
       "| 119 |                10 |\n",
       "|  90 |                10 |\n",
       "| 154 |                10 |\n",
       "| 106 |                10 |\n",
       "| 153 |                10 |\n",
       "| 190 |                10 |\n",
       "| 183 |                 9 |\n",
       "|  81 |                 9 |\n",
       "| 170 |                 9 |\n",
       "| 110 |                 9 |\n",
       "| 165 |                 9 |\n",
       "| 149 |                 9 |\n",
       "|  95 |                 9 |\n",
       "| 173 |                 9 |\n",
       "| 171 |                 9 |\n",
       "| 141 |                 9 |\n",
       "|  92 |                 9 |\n",
       "| 152 |                 8 |\n",
       "| 121 |                 8 |\n",
       "| 192 |                 8 |\n",
       "| 167 |                 8 |\n",
       "| 195 |                 8 |\n",
       "| 116 |                 8 |\n",
       "| 179 |                 8 |\n",
       "| 176 |                 8 |\n",
       "|  97 |                 8 |\n",
       "|  93 |                 8 |\n",
       "| 120 |                 7 |\n",
       "| 125 |                 7 |\n",
       "| 189 |                 7 |\n",
       "| 175 |                 7 |\n",
       "|  98 |                 7 |\n",
       "| 127 |                 6 |\n",
       "| 108 |                 6 |\n",
       "| 137 |                 6 |\n",
       "| 188 |                 6 |\n",
       "|  96 |                 5 |\n",
       "| 140 |                 5 |\n",
       "| 143 |                 5 |"
      ],
      "text/plain": [
       "<IPython.core.display.Markdown object>"
      ]
     },
     "metadata": {},
     "output_type": "display_data"
    },
    {
     "data": {
      "text/markdown": [
       "**Missing Value mobile_wt Data Train**"
      ],
      "text/plain": [
       "<IPython.core.display.Markdown object>"
      ]
     },
     "metadata": {},
     "output_type": "display_data"
    },
    {
     "data": {
      "text/plain": [
       "'Tidak ada missing value'"
      ]
     },
     "metadata": {},
     "output_type": "display_data"
    },
    {
     "data": {
      "text/markdown": [
       "**Outlier mobile_wt Data Train**"
      ],
      "text/plain": [
       "<IPython.core.display.Markdown object>"
      ]
     },
     "metadata": {},
     "output_type": "display_data"
    },
    {
     "data": {
      "text/markdown": [
       "Tidak ada outlier"
      ],
      "text/plain": [
       "<IPython.core.display.Markdown object>"
      ]
     },
     "metadata": {},
     "output_type": "display_data"
    },
    {
     "data": {
      "text/markdown": [
       "**Distribusi data**"
      ],
      "text/plain": [
       "<IPython.core.display.Markdown object>"
      ]
     },
     "metadata": {},
     "output_type": "display_data"
    },
    {
     "name": "stdout",
     "output_type": "stream",
     "text": [
      "Nilai Kurtosis\n",
      "-1.2101668323623873\n"
     ]
    },
    {
     "data": {
      "image/png": "[encoded data removed]",
      "text/plain": [
       "<Figure size 800x400 with 1 Axes>"
      ]
     },
     "metadata": {},
     "output_type": "display_data"
    },
    {
     "data": {
      "text/markdown": [
       "**Kolerasi dengan kolom 'price_range'**"
      ],
      "text/plain": [
       "<IPython.core.display.Markdown object>"
      ]
     },
     "metadata": {},
     "output_type": "display_data"
    },
    {
     "name": "stdout",
     "output_type": "stream",
     "text": [
      "-0.07476875048323661\n"
     ]
    },
    {
     "data": {
      "text/markdown": [
       "Hasil Analisis"
      ],
      "text/plain": [
       "<IPython.core.display.Markdown object>"
      ]
     },
     "metadata": {},
     "output_type": "display_data"
    },
    {
     "data": {
      "text/markdown": [
       "**Hasil Analisis**\n",
       "\n",
       "|   Nomor | Hasil Analisis                                                                                                            |\n",
       "|--------:|:--------------------------------------------------------------------------------------------------------------------------|\n",
       "|       1 | Di dapat dari statistika dasar bahwa jumlah data ada sebanyak 1400 dengan nilai minimun adalah 80 dan nilai max ada       |\n",
       "|         | lah 200. Kemudian Q1 adalah 108, Q2 adalah 139 dan Q3 adalah 169 standar deviasi adalah 35.4008 dan mean 139.376          |\n",
       "|         | Dari sini juga dapat disimpulkan bahwa IQR sebesar 161                                                                    |\n",
       "|       2 | Ada beberapa duplicate value pada tabel ini dengan yang paling banyak adalah angka 182 duplicate sebanyak 22              |\n",
       "|       3 | Tidak ada missing value, Artinya pada kolom ini semuanya mempunyai nilai                                                  |\n",
       "|       4 | Tidak ada outlier hal ini seperti yang diketahui batas bawahnya adalah Q1 - 1.5IQR yakni sebesar -133.5 dan batas atas    |\n",
       "|         | sebesar Q3 + 1.5IQR yakni sebesar 410,5 nilai terkecil adalah 80 dan nilai terbesar adalah 200 sehingga tidak ada outlier |\n",
       "|       5 | Kurtosis bernilai -1.2101668323623873 (negatif) yang artinya menunjukkan distribusi data cenderung rata                   |\n",
       "|       6 | Kolerasinya dengan kolom target sebesar -0.07476875048323661 , nilai kolerasi jauh dari angka 1 sehingga kolerasinya      |\n",
       "|         | dengan kolom target kurang kuat                                                                                           |"
      ],
      "text/plain": [
       "<IPython.core.display.Markdown object>"
      ]
     },
     "metadata": {},
     "output_type": "display_data"
    }
   ],
   "source": [
    "#Nomor 9 Kolom mobile_wt\n",
    "finalValue('mobile_wt',df)\n",
    "#Hasil Analisis\n",
    "string1 = '''Di dapat dari statistika dasar bahwa jumlah data ada sebanyak 1400 dengan nilai minimun adalah 80 dan nilai max ada\n",
    "lah 200. Kemudian Q1 adalah 108, Q2 adalah 139 dan Q3 adalah 169 standar deviasi adalah 35.4008 dan mean 139.376\n",
    "Dari sini juga dapat disimpulkan bahwa IQR sebesar 161'''\n",
    "string2 = '''Ada beberapa duplicate value pada tabel ini dengan yang paling banyak adalah angka 182 duplicate sebanyak 22 '''\n",
    "string3 = '''Tidak ada missing value, Artinya pada kolom ini semuanya mempunyai nilai'''\n",
    "string4 = '''Tidak ada outlier hal ini seperti yang diketahui batas bawahnya adalah Q1 - 1.5IQR yakni sebesar -133.5 dan batas atas\n",
    "sebesar Q3 + 1.5IQR yakni sebesar 410,5 nilai terkecil adalah 80 dan nilai terbesar adalah 200 sehingga tidak ada outlier'''\n",
    "string5 = '''Kurtosis bernilai -1.2101668323623873 (negatif) yang artinya menunjukkan distribusi data cenderung rata'''\n",
    "string6 = '''Kolerasinya dengan kolom target sebesar -0.07476875048323661 , nilai kolerasi jauh dari angka 1 sehingga kolerasinya\n",
    "dengan kolom target kurang kuat'''\n",
    "analisis(string1, string2, string3, string4, string5, string6)"
   ]
  },
  {
   "cell_type": "code",
   "execution_count": 75,
   "metadata": {},
   "outputs": [
    {
     "data": {
      "text/markdown": [
       "**Statistika Dasar n_cores**"
      ],
      "text/plain": [
       "<IPython.core.display.Markdown object>"
      ]
     },
     "metadata": {},
     "output_type": "display_data"
    },
    {
     "data": {
      "text/markdown": [
       "|       |   Statistik Dasar |\n",
       "|:------|------------------:|\n",
       "| count |        1400       |\n",
       "| mean  |           4.48143 |\n",
       "| std   |           2.27984 |\n",
       "| min   |           1       |\n",
       "| 25%   |           2       |\n",
       "| 50%   |           4       |\n",
       "| 75%   |           7       |\n",
       "| max   |           8       |"
      ],
      "text/plain": [
       "<IPython.core.display.Markdown object>"
      ]
     },
     "metadata": {},
     "output_type": "display_data"
    },
    {
     "data": {
      "text/markdown": [
       "**Duplicate Value n_cores Data Train**"
      ],
      "text/plain": [
       "<IPython.core.display.Markdown object>"
      ]
     },
     "metadata": {},
     "output_type": "display_data"
    },
    {
     "data": {
      "text/markdown": [
       "|    |   Duplicate Value |\n",
       "|---:|------------------:|\n",
       "|  4 |               198 |\n",
       "|  7 |               189 |\n",
       "|  2 |               183 |\n",
       "|  1 |               170 |\n",
       "|  5 |               170 |\n",
       "|  3 |               167 |\n",
       "|  8 |               167 |\n",
       "|  6 |               156 |"
      ],
      "text/plain": [
       "<IPython.core.display.Markdown object>"
      ]
     },
     "metadata": {},
     "output_type": "display_data"
    },
    {
     "data": {
      "text/markdown": [
       "**Missing Value n_cores Data Train**"
      ],
      "text/plain": [
       "<IPython.core.display.Markdown object>"
      ]
     },
     "metadata": {},
     "output_type": "display_data"
    },
    {
     "data": {
      "text/plain": [
       "'Tidak ada missing value'"
      ]
     },
     "metadata": {},
     "output_type": "display_data"
    },
    {
     "data": {
      "text/markdown": [
       "**Outlier n_cores Data Train**"
      ],
      "text/plain": [
       "<IPython.core.display.Markdown object>"
      ]
     },
     "metadata": {},
     "output_type": "display_data"
    },
    {
     "data": {
      "text/markdown": [
       "Tidak ada outlier"
      ],
      "text/plain": [
       "<IPython.core.display.Markdown object>"
      ]
     },
     "metadata": {},
     "output_type": "display_data"
    },
    {
     "data": {
      "text/markdown": [
       "**Distribusi data**"
      ],
      "text/plain": [
       "<IPython.core.display.Markdown object>"
      ]
     },
     "metadata": {},
     "output_type": "display_data"
    },
    {
     "name": "stdout",
     "output_type": "stream",
     "text": [
      "Nilai Kurtosis\n",
      "-1.2320948787955932\n"
     ]
    },
    {
     "data": {
      "image/png": "[encoded data removed]",
      "text/plain": [
       "<Figure size 800x400 with 1 Axes>"
      ]
     },
     "metadata": {},
     "output_type": "display_data"
    },
    {
     "data": {
      "text/markdown": [
       "**Kolerasi dengan kolom 'price_range'**"
      ],
      "text/plain": [
       "<IPython.core.display.Markdown object>"
      ]
     },
     "metadata": {},
     "output_type": "display_data"
    },
    {
     "name": "stdout",
     "output_type": "stream",
     "text": [
      "-0.0005823306285452805\n"
     ]
    },
    {
     "data": {
      "text/markdown": [
       "Hasil Analisis"
      ],
      "text/plain": [
       "<IPython.core.display.Markdown object>"
      ]
     },
     "metadata": {},
     "output_type": "display_data"
    },
    {
     "data": {
      "text/markdown": [
       "**Hasil Analisis**\n",
       "\n",
       "|   Nomor | Hasil Analisis                                                                                                         |\n",
       "|--------:|:-----------------------------------------------------------------------------------------------------------------------|\n",
       "|       1 | Di dapat dari statistika dasar bahwa jumlah data ada sebanyak 1400 dengan nilai minimun adalah 0 dan nilai max ada     |\n",
       "|         | lah 1960. Kemudian Q1 adalah 2, Q2 adalah 4 dan Q3 adalah 7 standar deviasi adalah 2.27984 dan mean 4.48143            |\n",
       "|         | Dari sini juga dapat disimpulkan bahwa IQR sebesar 5                                                                   |\n",
       "|       2 | Ada beberapa duplicate value pada tabel ini dengan yang paling banyak adalah angka 4 duplicate sebanyak 198            |\n",
       "|       3 | Tidak ada missing value, Artinya pada kolom ini semuanya mempunyai nilai                                               |\n",
       "|       4 | Tidak ada outlier hal ini seperti yang diketahui batas bawahnya adalah Q1 - 1.5IQR yakni sebesar -5,5 dan batas atas   |\n",
       "|         | sebesar Q3 + 1.5IQR yakni sebesar 14.5 nilai terkecil adalah 1 dan nilai terbesar adalah 8 sehingga tidak ada outlier  |\n",
       "|       5 | Kurtosis bernilai -1.2320948787955932 (negatif) yang artinya menunjukkan distribusi data cenderung rata                |\n",
       "|       6 | Kolerasinya dengan kolom target sebesar -0.0005823306285452805 , nilai kolerasi jauh dari angka 1 sehingga kolerasinya |\n",
       "|         | dengan kolom target kurang kuat                                                                                        |"
      ],
      "text/plain": [
       "<IPython.core.display.Markdown object>"
      ]
     },
     "metadata": {},
     "output_type": "display_data"
    }
   ],
   "source": [
    "#Nomor 10 Kolom n_cores\n",
    "finalValue('n_cores',df)\n",
    "#Hasil Analisis\n",
    "string1 = '''Di dapat dari statistika dasar bahwa jumlah data ada sebanyak 1400 dengan nilai minimun adalah 0 dan nilai max ada\n",
    "lah 1960. Kemudian Q1 adalah 2, Q2 adalah 4 dan Q3 adalah 7 standar deviasi adalah 2.27984 dan mean 4.48143\n",
    "Dari sini juga dapat disimpulkan bahwa IQR sebesar 5'''\n",
    "string2 = '''Ada beberapa duplicate value pada tabel ini dengan yang paling banyak adalah angka 4 duplicate sebanyak 198 '''\n",
    "string3 = '''Tidak ada missing value, Artinya pada kolom ini semuanya mempunyai nilai'''\n",
    "string4 = '''Tidak ada outlier hal ini seperti yang diketahui batas bawahnya adalah Q1 - 1.5IQR yakni sebesar -5,5 dan batas atas\n",
    "sebesar Q3 + 1.5IQR yakni sebesar 14.5 nilai terkecil adalah 1 dan nilai terbesar adalah 8 sehingga tidak ada outlier'''\n",
    "string5 = '''Kurtosis bernilai -1.2320948787955932 (negatif) yang artinya menunjukkan distribusi data cenderung rata'''\n",
    "string6 = '''Kolerasinya dengan kolom target sebesar -0.0005823306285452805 , nilai kolerasi jauh dari angka 1 sehingga kolerasinya\n",
    "dengan kolom target kurang kuat'''\n",
    "analisis(string1, string2, string3, string4, string5, string6)"
   ]
  },
  {
   "cell_type": "code",
   "execution_count": 76,
   "metadata": {},
   "outputs": [
    {
     "data": {
      "text/markdown": [
       "**Statistika Dasar pc**"
      ],
      "text/plain": [
       "<IPython.core.display.Markdown object>"
      ]
     },
     "metadata": {},
     "output_type": "display_data"
    },
    {
     "data": {
      "text/markdown": [
       "|       |   Statistik Dasar |\n",
       "|:------|------------------:|\n",
       "| count |        1400       |\n",
       "| mean  |           9.91714 |\n",
       "| std   |           6.08002 |\n",
       "| min   |           0       |\n",
       "| 25%   |           5       |\n",
       "| 50%   |          10       |\n",
       "| 75%   |          15       |\n",
       "| max   |          20       |"
      ],
      "text/plain": [
       "<IPython.core.display.Markdown object>"
      ]
     },
     "metadata": {},
     "output_type": "display_data"
    },
    {
     "data": {
      "text/markdown": [
       "**Duplicate Value pc Data Train**"
      ],
      "text/plain": [
       "<IPython.core.display.Markdown object>"
      ]
     },
     "metadata": {},
     "output_type": "display_data"
    },
    {
     "data": {
      "text/markdown": [
       "|    |   Duplicate Value |\n",
       "|---:|------------------:|\n",
       "| 10 |                91 |\n",
       "|  7 |                87 |\n",
       "| 20 |                82 |\n",
       "|  9 |                80 |\n",
       "|  2 |                74 |\n",
       "| 14 |                72 |\n",
       "|  1 |                71 |\n",
       "|  0 |                70 |\n",
       "|  4 |                66 |\n",
       "| 19 |                65 |\n",
       "|  3 |                65 |\n",
       "| 17 |                64 |\n",
       "| 15 |                64 |\n",
       "| 16 |                62 |\n",
       "| 12 |                60 |\n",
       "|  8 |                59 |\n",
       "| 11 |                59 |\n",
       "| 13 |                58 |\n",
       "|  6 |                57 |\n",
       "| 18 |                49 |\n",
       "|  5 |                45 |"
      ],
      "text/plain": [
       "<IPython.core.display.Markdown object>"
      ]
     },
     "metadata": {},
     "output_type": "display_data"
    },
    {
     "data": {
      "text/markdown": [
       "**Missing Value pc Data Train**"
      ],
      "text/plain": [
       "<IPython.core.display.Markdown object>"
      ]
     },
     "metadata": {},
     "output_type": "display_data"
    },
    {
     "data": {
      "text/plain": [
       "'Tidak ada missing value'"
      ]
     },
     "metadata": {},
     "output_type": "display_data"
    },
    {
     "data": {
      "text/markdown": [
       "**Outlier pc Data Train**"
      ],
      "text/plain": [
       "<IPython.core.display.Markdown object>"
      ]
     },
     "metadata": {},
     "output_type": "display_data"
    },
    {
     "data": {
      "text/markdown": [
       "Tidak ada outlier"
      ],
      "text/plain": [
       "<IPython.core.display.Markdown object>"
      ]
     },
     "metadata": {},
     "output_type": "display_data"
    },
    {
     "data": {
      "text/markdown": [
       "**Distribusi data**"
      ],
      "text/plain": [
       "<IPython.core.display.Markdown object>"
      ]
     },
     "metadata": {},
     "output_type": "display_data"
    },
    {
     "name": "stdout",
     "output_type": "stream",
     "text": [
      "Nilai Kurtosis\n",
      "-1.1640061988940513\n"
     ]
    },
    {
     "data": {
      "image/png": "[encoded data removed]",
      "text/plain": [
       "<Figure size 800x400 with 1 Axes>"
      ]
     },
     "metadata": {},
     "output_type": "display_data"
    },
    {
     "data": {
      "text/markdown": [
       "**Kolerasi dengan kolom 'price_range'**"
      ],
      "text/plain": [
       "<IPython.core.display.Markdown object>"
      ]
     },
     "metadata": {},
     "output_type": "display_data"
    },
    {
     "name": "stdout",
     "output_type": "stream",
     "text": [
      "-0.005214430491652989\n"
     ]
    },
    {
     "data": {
      "text/markdown": [
       "Hasil Analisis"
      ],
      "text/plain": [
       "<IPython.core.display.Markdown object>"
      ]
     },
     "metadata": {},
     "output_type": "display_data"
    },
    {
     "data": {
      "text/markdown": [
       "**Hasil Analisis**\n",
       "\n",
       "|   Nomor | Hasil Analisis                                                                                                        |\n",
       "|--------:|:----------------------------------------------------------------------------------------------------------------------|\n",
       "|       1 | Di dapat dari statistika dasar bahwa jumlah data ada sebanyak 1400 dengan nilai minimun adalah 0 dan nilai max ada    |\n",
       "|         | lah 20. Kemudian Q1 adalah 5, Q2 adalah 10, dan Q3 adalah 15. standar deviasi adalah 6.08002 dan mean 9.91714         |\n",
       "|         | Dari sini juga dapat disimpulkan bahwa IQR sebesar 10                                                                 |\n",
       "|       2 | Ada beberapa duplicate value pada tabel ini dengan yang paling banyak adalah angka 10 duplicate sebanyak 91           |\n",
       "|       3 | Tidak ada missing value, Artinya pada kolom ini semuanya mempunyai nilai                                              |\n",
       "|       4 | Tidak ada outlier hal ini seperti yang diketahui batas bawahnya adalah Q1 - 1.5IQR yakni sebesar -10 dan batas atas   |\n",
       "|         | sebesar Q3 + 1.5IQR yakni sebesar 30 nilai terkecil adalah 0 dan nilai terbesar adalah 20 sehingga tidak ada outlier  |\n",
       "|       5 | Kurtosis bernilai -1.1640061988940513 (negatif) yang artinya menunjukkan distribusi data cenderung rata               |\n",
       "|       6 | Kolerasinya dengan kolom target sebesar -0.005214430491652989 , nilai kolerasi jauh dari angka 1 sehingga kolerasinya |\n",
       "|         | dengan kolom target kurang kuat                                                                                       |"
      ],
      "text/plain": [
       "<IPython.core.display.Markdown object>"
      ]
     },
     "metadata": {},
     "output_type": "display_data"
    }
   ],
   "source": [
    "#Nomor 11 Kolom pc\n",
    "finalValue('pc',df)\n",
    "#Hasil Analisis\n",
    "string1 = '''Di dapat dari statistika dasar bahwa jumlah data ada sebanyak 1400 dengan nilai minimun adalah 0 dan nilai max ada\n",
    "lah 20. Kemudian Q1 adalah 5, Q2 adalah 10, dan Q3 adalah 15. standar deviasi adalah 6.08002 dan mean 9.91714\n",
    "Dari sini juga dapat disimpulkan bahwa IQR sebesar 10'''\n",
    "string2 = '''Ada beberapa duplicate value pada tabel ini dengan yang paling banyak adalah angka 10 duplicate sebanyak 91 '''\n",
    "string3 = '''Tidak ada missing value, Artinya pada kolom ini semuanya mempunyai nilai'''\n",
    "string4 = '''Tidak ada outlier hal ini seperti yang diketahui batas bawahnya adalah Q1 - 1.5IQR yakni sebesar -10 dan batas atas\n",
    "sebesar Q3 + 1.5IQR yakni sebesar 30 nilai terkecil adalah 0 dan nilai terbesar adalah 20 sehingga tidak ada outlier'''\n",
    "string5 = '''Kurtosis bernilai -1.1640061988940513 (negatif) yang artinya menunjukkan distribusi data cenderung rata'''\n",
    "string6 = '''Kolerasinya dengan kolom target sebesar -0.005214430491652989 , nilai kolerasi jauh dari angka 1 sehingga kolerasinya\n",
    "dengan kolom target kurang kuat'''\n",
    "analisis(string1, string2, string3, string4, string5, string6)"
   ]
  },
  {
   "cell_type": "code",
   "execution_count": 77,
   "id": "0d00e169",
   "metadata": {
    "scrolled": false
   },
   "outputs": [
    {
     "data": {
      "text/markdown": [
       "**Statistika Dasar px_height**"
      ],
      "text/plain": [
       "<IPython.core.display.Markdown object>"
      ]
     },
     "metadata": {},
     "output_type": "display_data"
    },
    {
     "data": {
      "text/markdown": [
       "|       |   Statistik Dasar |\n",
       "|:------|------------------:|\n",
       "| count |          1400     |\n",
       "| mean  |           643.178 |\n",
       "| std   |           444.629 |\n",
       "| min   |             0     |\n",
       "| 25%   |           273.75  |\n",
       "| 50%   |           561     |\n",
       "| 75%   |           950.25  |\n",
       "| max   |          1960     |"
      ],
      "text/plain": [
       "<IPython.core.display.Markdown object>"
      ]
     },
     "metadata": {},
     "output_type": "display_data"
    },
    {
     "data": {
      "text/markdown": [
       "**Duplicate Value px_height Data Train**"
      ],
      "text/plain": [
       "<IPython.core.display.Markdown object>"
      ]
     },
     "metadata": {},
     "output_type": "display_data"
    },
    {
     "data": {
      "text/markdown": [
       "|      |   Duplicate Value |\n",
       "|-----:|------------------:|\n",
       "|  347 |                 5 |\n",
       "|   88 |                 5 |\n",
       "|  526 |                 5 |\n",
       "|  730 |                 4 |\n",
       "|  140 |                 4 |\n",
       "|  217 |                 4 |\n",
       "|  447 |                 4 |\n",
       "|  831 |                 4 |\n",
       "|  632 |                 4 |\n",
       "|  322 |                 4 |\n",
       "|  416 |                 4 |\n",
       "|  273 |                 4 |\n",
       "|  919 |                 4 |\n",
       "|  275 |                 4 |\n",
       "|  229 |                 4 |\n",
       "|  410 |                 4 |\n",
       "|  179 |                 4 |\n",
       "|  293 |                 4 |\n",
       "| 1111 |                 3 |\n",
       "|  168 |                 3 |\n",
       "|  300 |                 3 |\n",
       "|  211 |                 3 |\n",
       "|  327 |                 3 |\n",
       "|   96 |                 3 |\n",
       "|  622 |                 3 |\n",
       "|  207 |                 3 |\n",
       "|  356 |                 3 |\n",
       "|  329 |                 3 |\n",
       "|  690 |                 3 |\n",
       "|  268 |                 3 |\n",
       "|  881 |                 3 |\n",
       "|  935 |                 3 |\n",
       "|  713 |                 3 |\n",
       "|  154 |                 3 |\n",
       "|  371 |                 3 |\n",
       "|  629 |                 3 |\n",
       "|  150 |                 3 |\n",
       "|  320 |                 3 |\n",
       "|  547 |                 3 |\n",
       "|   90 |                 3 |\n",
       "|  119 |                 3 |\n",
       "|  253 |                 3 |\n",
       "|   59 |                 3 |\n",
       "|  398 |                 3 |\n",
       "|  186 |                 3 |\n",
       "| 1055 |                 3 |\n",
       "|  335 |                 3 |\n",
       "|  358 |                 3 |\n",
       "|  798 |                 3 |\n",
       "|   58 |                 3 |\n",
       "|  271 |                 3 |\n",
       "|  204 |                 3 |\n",
       "|  262 |                 3 |\n",
       "|  518 |                 3 |\n",
       "|  431 |                 3 |\n",
       "|  651 |                 3 |\n",
       "|  419 |                 3 |\n",
       "|  584 |                 3 |\n",
       "|  380 |                 3 |\n",
       "|  395 |                 3 |\n",
       "|  332 |                 3 |\n",
       "|  344 |                 3 |\n",
       "| 1109 |                 3 |\n",
       "|  214 |                 3 |\n",
       "|  291 |                 3 |\n",
       "|  163 |                 3 |\n",
       "|  961 |                 3 |\n",
       "| 1064 |                 3 |\n",
       "|  311 |                 3 |\n",
       "|  655 |                 3 |\n",
       "|  533 |                 3 |\n",
       "|  381 |                 3 |\n",
       "|  777 |                 3 |\n",
       "|   56 |                 3 |\n",
       "| 1028 |                 3 |\n",
       "|   79 |                 3 |\n",
       "|  781 |                 3 |\n",
       "|  674 |                 3 |\n",
       "|  404 |                 3 |\n",
       "|  667 |                 3 |\n",
       "|  199 |                 3 |\n",
       "|  159 |                 3 |\n",
       "|  670 |                 3 |\n",
       "|   46 |                 3 |\n",
       "|  942 |                 3 |\n",
       "|  333 |                 3 |\n",
       "|  286 |                 3 |\n",
       "|  236 |                 3 |\n",
       "|  564 |                 3 |\n",
       "|  160 |                 3 |\n",
       "|  251 |                 3 |\n",
       "|  306 |                 3 |\n",
       "| 1331 |                 3 |\n",
       "| 1314 |                 3 |\n",
       "|   85 |                 3 |\n",
       "|   83 |                 3 |\n",
       "|  125 |                 2 |\n",
       "|  743 |                 2 |\n",
       "|  189 |                 2 |\n",
       "| 1571 |                 2 |\n",
       "|  793 |                 2 |\n",
       "|  161 |                 2 |\n",
       "|  148 |                 2 |\n",
       "|  838 |                 2 |\n",
       "|  511 |                 2 |\n",
       "|  212 |                 2 |\n",
       "|  818 |                 2 |\n",
       "|   64 |                 2 |\n",
       "|   42 |                 2 |\n",
       "|  225 |                 2 |\n",
       "|   81 |                 2 |\n",
       "| 1399 |                 2 |\n",
       "|  581 |                 2 |\n",
       "|  227 |                 2 |\n",
       "|  190 |                 2 |\n",
       "|  346 |                 2 |\n",
       "|  308 |                 2 |\n",
       "|  117 |                 2 |\n",
       "|  839 |                 2 |\n",
       "|  717 |                 2 |\n",
       "|  649 |                 2 |\n",
       "|  683 |                 2 |\n",
       "|  205 |                 2 |\n",
       "|   86 |                 2 |\n",
       "|  382 |                 2 |\n",
       "|  553 |                 2 |\n",
       "|  570 |                 2 |\n",
       "|  859 |                 2 |\n",
       "|  379 |                 2 |\n",
       "| 1054 |                 2 |\n",
       "| 1092 |                 2 |\n",
       "|  409 |                 2 |\n",
       "|  905 |                 2 |\n",
       "| 1222 |                 2 |\n",
       "|   68 |                 2 |\n",
       "|  747 |                 2 |\n",
       "|  519 |                 2 |\n",
       "|  527 |                 2 |\n",
       "|  206 |                 2 |\n",
       "|  471 |                 2 |\n",
       "| 1179 |                 2 |\n",
       "| 1172 |                 2 |\n",
       "|  741 |                 2 |\n",
       "|  681 |                 2 |\n",
       "|  386 |                 2 |\n",
       "|  223 |                 2 |\n",
       "|  181 |                 2 |\n",
       "|  954 |                 2 |\n",
       "|  754 |                 2 |\n",
       "|  338 |                 2 |\n",
       "|  757 |                 2 |\n",
       "|  202 |                 2 |\n",
       "|  299 |                 2 |\n",
       "|  599 |                 2 |\n",
       "|  433 |                 2 |\n",
       "|  233 |                 2 |\n",
       "| 1482 |                 2 |\n",
       "|  473 |                 2 |\n",
       "|  759 |                 2 |\n",
       "|  297 |                 2 |\n",
       "|  167 |                 2 |\n",
       "|   39 |                 2 |\n",
       "|  385 |                 2 |\n",
       "|  258 |                 2 |\n",
       "|  647 |                 2 |\n",
       "|  776 |                 2 |\n",
       "|   71 |                 2 |\n",
       "|  442 |                 2 |\n",
       "|  532 |                 2 |\n",
       "|  561 |                 2 |\n",
       "|  364 |                 2 |\n",
       "|  331 |                 2 |\n",
       "| 1168 |                 2 |\n",
       "|  504 |                 2 |\n",
       "|  912 |                 2 |\n",
       "|  837 |                 2 |\n",
       "|  758 |                 2 |\n",
       "|  484 |                 2 |\n",
       "|  417 |                 2 |\n",
       "|  323 |                 2 |\n",
       "|   19 |                 2 |\n",
       "|  466 |                 2 |\n",
       "|  963 |                 2 |\n",
       "|  574 |                 2 |\n",
       "| 1091 |                 2 |\n",
       "| 1194 |                 2 |\n",
       "| 1325 |                 2 |\n",
       "| 1208 |                 2 |\n",
       "|  127 |                 2 |\n",
       "|  403 |                 2 |\n",
       "| 1563 |                 2 |\n",
       "| 1187 |                 2 |\n",
       "|  902 |                 2 |\n",
       "| 1012 |                 2 |\n",
       "|  118 |                 2 |\n",
       "|   35 |                 2 |\n",
       "|  478 |                 2 |\n",
       "|   52 |                 2 |\n",
       "|  176 |                 2 |\n",
       "| 1100 |                 2 |\n",
       "|  543 |                 2 |\n",
       "|  499 |                 2 |\n",
       "|  295 |                 2 |\n",
       "|  436 |                 2 |\n",
       "|  361 |                 2 |\n",
       "|  480 |                 2 |\n",
       "| 1171 |                 2 |\n",
       "| 1052 |                 2 |\n",
       "|  313 |                 2 |\n",
       "|  126 |                 2 |\n",
       "|  290 |                 2 |\n",
       "|  492 |                 2 |\n",
       "|  699 |                 2 |\n",
       "|  209 |                 2 |\n",
       "|  767 |                 2 |\n",
       "| 1107 |                 2 |\n",
       "| 1177 |                 2 |\n",
       "|  192 |                 2 |\n",
       "|  762 |                 2 |\n",
       "|  169 |                 2 |\n",
       "| 1191 |                 2 |\n",
       "|   48 |                 2 |\n",
       "| 1086 |                 2 |\n",
       "|  522 |                 2 |\n",
       "|  366 |                 2 |\n",
       "|  861 |                 2 |\n",
       "|  284 |                 2 |\n",
       "|  885 |                 2 |\n",
       "|  937 |                 2 |\n",
       "| 1013 |                 2 |\n",
       "|  142 |                 2 |\n",
       "|  590 |                 2 |\n",
       "|  591 |                 2 |\n",
       "|  336 |                 2 |\n",
       "|  115 |                 2 |\n",
       "| 1003 |                 2 |\n",
       "|  724 |                 2 |\n",
       "| 1134 |                 2 |\n",
       "|  191 |                 2 |\n",
       "|  938 |                 2 |\n",
       "|  600 |                 2 |\n",
       "|  951 |                 2 |\n",
       "|  785 |                 2 |\n",
       "|  114 |                 2 |\n",
       "|  531 |                 2 |\n",
       "|  287 |                 2 |\n",
       "|  706 |                 2 |\n",
       "|  948 |                 2 |\n",
       "|   43 |                 2 |\n",
       "|  788 |                 2 |\n",
       "|  725 |                 2 |\n",
       "|  867 |                 2 |\n",
       "| 1058 |                 2 |\n",
       "|  897 |                 2 |\n",
       "|  468 |                 2 |\n",
       "|  773 |                 2 |\n",
       "|  263 |                 2 |\n",
       "| 1362 |                 2 |\n",
       "|  267 |                 2 |\n",
       "|  111 |                 2 |\n",
       "|  607 |                 2 |\n",
       "|  173 |                 2 |\n",
       "|  461 |                 2 |\n",
       "| 1226 |                 2 |\n",
       "| 1419 |                 2 |\n",
       "|  412 |                 2 |\n",
       "|  765 |                 2 |\n",
       "| 1230 |                 2 |\n",
       "|  405 |                 2 |\n",
       "|  982 |                 2 |\n",
       "|  105 |                 2 |\n",
       "|  491 |                 2 |\n",
       "|  486 |                 2 |\n",
       "|  430 |                 2 |\n",
       "|  281 |                 2 |\n",
       "|  782 |                 2 |\n",
       "| 1209 |                 2 |\n",
       "| 1233 |                 2 |\n",
       "| 1392 |                 2 |\n",
       "|  983 |                 2 |\n",
       "|  231 |                 2 |\n",
       "|  494 |                 2 |\n",
       "|  742 |                 2 |\n",
       "|  174 |                 2 |\n",
       "|  485 |                 2 |\n",
       "|  560 |                 2 |\n",
       "| 1116 |                 2 |\n",
       "|  920 |                 2 |\n",
       "|  193 |                 2 |\n",
       "|  606 |                 2 |\n",
       "|  626 |                 2 |\n",
       "|   77 |                 2 |\n",
       "|  623 |                 2 |\n",
       "|  249 |                 2 |\n",
       "|  165 |                 2 |\n",
       "|  312 |                 2 |\n",
       "|  157 |                 2 |\n",
       "|  103 |                 2 |\n",
       "|  875 |                 2 |\n",
       "|  314 |                 2 |\n",
       "|  901 |                 2 |\n",
       "| 1698 |                 2 |\n",
       "|  710 |                 2 |\n",
       "|  819 |                 2 |\n",
       "| 1081 |                 2 |\n",
       "|  854 |                 2 |\n",
       "|   91 |                 2 |\n",
       "|  238 |                 2 |\n",
       "|  120 |                 2 |\n",
       "|  512 |                 2 |\n",
       "| 1001 |                 2 |\n",
       "|  925 |                 2 |\n",
       "|  541 |                 2 |\n",
       "| 1125 |                 2 |\n",
       "|    8 |                 2 |\n",
       "|  129 |                 2 |\n",
       "|  712 |                 2 |\n",
       "| 1175 |                 2 |\n",
       "|  276 |                 2 |\n",
       "|  985 |                 2 |\n",
       "| 1025 |                 2 |\n",
       "|  774 |                 2 |\n",
       "| 1495 |                 2 |\n",
       "|  614 |                 2 |\n",
       "|  650 |                 2 |\n",
       "|  177 |                 2 |\n",
       "|  394 |                 2 |\n",
       "|  187 |                 2 |\n",
       "|  146 |                 2 |\n",
       "|  274 |                 2 |\n",
       "|  235 |                 2 |\n",
       "|  605 |                 2 |\n",
       "|  800 |                 2 |\n",
       "|  501 |                 2 |\n",
       "|  449 |                 2 |\n",
       "|  833 |                 2 |\n",
       "|  138 |                 2 |\n",
       "|  178 |                 2 |\n",
       "| 1024 |                 2 |\n",
       "|   98 |                 2 |\n",
       "|   65 |                 2 |\n",
       "|  550 |                 2 |\n",
       "|  687 |                 2 |\n",
       "| 1010 |                 2 |\n",
       "|  454 |                 2 |\n",
       "|   55 |                 2 |\n",
       "|  707 |                 2 |\n",
       "|  134 |                 2 |"
      ],
      "text/plain": [
       "<IPython.core.display.Markdown object>"
      ]
     },
     "metadata": {},
     "output_type": "display_data"
    },
    {
     "data": {
      "text/markdown": [
       "**Missing Value px_height Data Train**"
      ],
      "text/plain": [
       "<IPython.core.display.Markdown object>"
      ]
     },
     "metadata": {},
     "output_type": "display_data"
    },
    {
     "data": {
      "text/plain": [
       "'Tidak ada missing value'"
      ]
     },
     "metadata": {},
     "output_type": "display_data"
    },
    {
     "data": {
      "text/markdown": [
       "**Outlier px_height Data Train**"
      ],
      "text/plain": [
       "<IPython.core.display.Markdown object>"
      ]
     },
     "metadata": {},
     "output_type": "display_data"
    },
    {
     "data": {
      "text/markdown": [
       "Tidak ada outlier"
      ],
      "text/plain": [
       "<IPython.core.display.Markdown object>"
      ]
     },
     "metadata": {},
     "output_type": "display_data"
    },
    {
     "data": {
      "text/markdown": [
       "**Distribusi data**"
      ],
      "text/plain": [
       "<IPython.core.display.Markdown object>"
      ]
     },
     "metadata": {},
     "output_type": "display_data"
    },
    {
     "name": "stdout",
     "output_type": "stream",
     "text": [
      "Nilai Kurtosis\n",
      "-0.31938304471706\n"
     ]
    },
    {
     "data": {
      "image/png": "[encoded data removed]",
      "text/plain": [
       "<Figure size 800x400 with 1 Axes>"
      ]
     },
     "metadata": {},
     "output_type": "display_data"
    },
    {
     "data": {
      "text/markdown": [
       "**Kolerasi dengan kolom 'price_range'**"
      ],
      "text/plain": [
       "<IPython.core.display.Markdown object>"
      ]
     },
     "metadata": {},
     "output_type": "display_data"
    },
    {
     "name": "stdout",
     "output_type": "stream",
     "text": [
      "0.15883273548307963\n"
     ]
    },
    {
     "data": {
      "text/markdown": [
       "Hasil Analisis"
      ],
      "text/plain": [
       "<IPython.core.display.Markdown object>"
      ]
     },
     "metadata": {},
     "output_type": "display_data"
    },
    {
     "data": {
      "text/markdown": [
       "**Hasil Analisis**\n",
       "\n",
       "|   Nomor | Hasil Analisis                                                                                                           |\n",
       "|--------:|:-------------------------------------------------------------------------------------------------------------------------|\n",
       "|       1 | Di dapat dari statistika dasar bahwa jumlah data ada sebanyak 1400 dengan nilai minimun adalah 0 dan nilai max ada       |\n",
       "|         | lah 1960. Kemudian Q1 adalah 273.75, Q2 adalah 561 dan Q3 adalah 950.25 standar deviasi adalah 444.629 dan mean 643.178  |\n",
       "|         | Dari sini juga dapat disimpulkan bahwa IQR sebesar 676,5                                                                 |\n",
       "|       2 | Ada beberapa duplicate value pada tabel ini dengan yang paling banyak adalah angka 347, 88, dan 526 duplicate sebanyak 5 |\n",
       "|       3 | Tidak ada missing value, Artinya pada kolom ini semuanya mempunyai nilai                                                 |\n",
       "|       4 | Tidak ada outlier hal ini seperti yang diketahui batas bawahnya adalah Q1 - 1.5IQR yakni sebesar -741 dan batas atas     |\n",
       "|         | sebesar Q3 + 1.5IQR yakni sebesar 1965 nilai terkecil adalah 0 dan nilai terbesar adalah 1960 sehingga tidak ada outlier |\n",
       "|       5 | Kurtosis bernilai -0.31938304471706 (negatif) yang artinya menunjukkan distribusi data cenderung rata                    |\n",
       "|       6 | Kolerasinya dengan kolom target sebesar 0.15883273548307963 , nilai kolerasi jauh dari angka 1 sehingga kolerasinya      |\n",
       "|         | dengan kolom target kurang kuat                                                                                          |"
      ],
      "text/plain": [
       "<IPython.core.display.Markdown object>"
      ]
     },
     "metadata": {},
     "output_type": "display_data"
    }
   ],
   "source": [
    "#Nomor 12 Kolom px_height\n",
    "finalValue('px_height',df)\n",
    "#Hasil Analisis\n",
    "string1 = '''Di dapat dari statistika dasar bahwa jumlah data ada sebanyak 1400 dengan nilai minimun adalah 0 dan nilai max ada\n",
    "lah 1960. Kemudian Q1 adalah 273.75, Q2 adalah 561 dan Q3 adalah 950.25 standar deviasi adalah 444.629 dan mean 643.178\n",
    "Dari sini juga dapat disimpulkan bahwa IQR sebesar 676,5'''\n",
    "string2 = '''Ada beberapa duplicate value pada tabel ini dengan yang paling banyak adalah angka 347, 88, dan 526 duplicate sebanyak 5 '''\n",
    "string3 = '''Tidak ada missing value, Artinya pada kolom ini semuanya mempunyai nilai'''\n",
    "string4 = '''Tidak ada outlier hal ini seperti yang diketahui batas bawahnya adalah Q1 - 1.5IQR yakni sebesar -741 dan batas atas\n",
    "sebesar Q3 + 1.5IQR yakni sebesar 1965 nilai terkecil adalah 0 dan nilai terbesar adalah 1960 sehingga tidak ada outlier'''\n",
    "string5 = '''Kurtosis bernilai -0.31938304471706 (negatif) yang artinya menunjukkan distribusi data cenderung rata'''\n",
    "string6 = '''Kolerasinya dengan kolom target sebesar 0.15883273548307963 , nilai kolerasi jauh dari angka 1 sehingga kolerasinya\n",
    "dengan kolom target kurang kuat'''\n",
    "analisis(string1, string2, string3, string4, string5, string6)"
   ]
  },
  {
   "cell_type": "code",
   "execution_count": 78,
   "id": "75e681ba",
   "metadata": {},
   "outputs": [
    {
     "data": {
      "text/markdown": [
       "**Statistika Dasar px_width**"
      ],
      "text/plain": [
       "<IPython.core.display.Markdown object>"
      ]
     },
     "metadata": {},
     "output_type": "display_data"
    },
    {
     "data": {
      "text/markdown": [
       "|       |   Statistik Dasar |\n",
       "|:------|------------------:|\n",
       "| count |          1400     |\n",
       "| mean  |          1251.72  |\n",
       "| std   |           428.983 |\n",
       "| min   |           500     |\n",
       "| 25%   |           876.5   |\n",
       "| 50%   |          1247     |\n",
       "| 75%   |          1627.5   |\n",
       "| max   |          1998     |"
      ],
      "text/plain": [
       "<IPython.core.display.Markdown object>"
      ]
     },
     "metadata": {},
     "output_type": "display_data"
    },
    {
     "data": {
      "text/markdown": [
       "**Duplicate Value px_width Data Train**"
      ],
      "text/plain": [
       "<IPython.core.display.Markdown object>"
      ]
     },
     "metadata": {},
     "output_type": "display_data"
    },
    {
     "data": {
      "text/markdown": [
       "|      |   Duplicate Value |\n",
       "|-----:|------------------:|\n",
       "| 1247 |                 6 |\n",
       "| 1463 |                 5 |\n",
       "| 1234 |                 5 |\n",
       "| 1923 |                 5 |\n",
       "|  882 |                 4 |\n",
       "| 1759 |                 4 |\n",
       "| 1670 |                 4 |\n",
       "| 1011 |                 4 |\n",
       "| 1564 |                 4 |\n",
       "|  891 |                 4 |\n",
       "| 1767 |                 4 |\n",
       "|  831 |                 4 |\n",
       "| 1079 |                 4 |\n",
       "| 1353 |                 4 |\n",
       "| 1418 |                 4 |\n",
       "| 1393 |                 4 |\n",
       "| 1299 |                 4 |\n",
       "| 1026 |                 4 |\n",
       "| 1203 |                 4 |\n",
       "| 1226 |                 4 |\n",
       "| 1469 |                 4 |\n",
       "|  822 |                 4 |\n",
       "|  874 |                 4 |\n",
       "| 1666 |                 4 |\n",
       "| 1383 |                 4 |\n",
       "|  642 |                 3 |\n",
       "|  816 |                 3 |\n",
       "| 1988 |                 3 |\n",
       "|  817 |                 3 |\n",
       "| 1435 |                 3 |\n",
       "| 1726 |                 3 |\n",
       "| 1055 |                 3 |\n",
       "| 1849 |                 3 |\n",
       "| 1596 |                 3 |\n",
       "| 1118 |                 3 |\n",
       "| 1304 |                 3 |\n",
       "| 1545 |                 3 |\n",
       "| 1182 |                 3 |\n",
       "| 1264 |                 3 |\n",
       "| 1162 |                 3 |\n",
       "|  823 |                 3 |\n",
       "| 1910 |                 3 |\n",
       "| 1933 |                 3 |\n",
       "| 1262 |                 3 |\n",
       "|  583 |                 3 |\n",
       "|  510 |                 3 |\n",
       "|  676 |                 3 |\n",
       "| 1152 |                 3 |\n",
       "|  915 |                 3 |\n",
       "| 1330 |                 3 |\n",
       "| 1504 |                 3 |\n",
       "| 1786 |                 3 |\n",
       "| 1046 |                 3 |\n",
       "| 1208 |                 3 |\n",
       "| 1713 |                 3 |\n",
       "| 1018 |                 3 |\n",
       "|  736 |                 3 |\n",
       "| 1813 |                 3 |\n",
       "|  559 |                 3 |\n",
       "| 1554 |                 3 |\n",
       "| 1814 |                 3 |\n",
       "|  989 |                 3 |\n",
       "|  963 |                 3 |\n",
       "| 1717 |                 3 |\n",
       "| 1595 |                 3 |\n",
       "| 1724 |                 3 |\n",
       "| 1089 |                 3 |\n",
       "| 1029 |                 3 |\n",
       "|  804 |                 3 |\n",
       "| 1224 |                 3 |\n",
       "| 1663 |                 3 |\n",
       "| 1742 |                 3 |\n",
       "| 1931 |                 3 |\n",
       "|  563 |                 3 |\n",
       "| 1212 |                 3 |\n",
       "| 1873 |                 3 |\n",
       "| 1477 |                 3 |\n",
       "|  679 |                 3 |\n",
       "|  818 |                 3 |\n",
       "|  970 |                 3 |\n",
       "| 1836 |                 3 |\n",
       "|  627 |                 3 |\n",
       "| 1178 |                 3 |\n",
       "| 1441 |                 3 |\n",
       "| 1744 |                 3 |\n",
       "| 1179 |                 3 |\n",
       "| 1317 |                 3 |\n",
       "| 1345 |                 3 |\n",
       "| 1411 |                 3 |\n",
       "|  881 |                 3 |\n",
       "| 1429 |                 3 |\n",
       "|  952 |                 3 |\n",
       "|  682 |                 3 |\n",
       "| 1854 |                 3 |\n",
       "| 1009 |                 3 |\n",
       "|  654 |                 3 |\n",
       "|  522 |                 3 |\n",
       "|  519 |                 3 |\n",
       "| 1723 |                 2 |\n",
       "| 1897 |                 2 |\n",
       "| 1967 |                 2 |\n",
       "| 1704 |                 2 |\n",
       "| 1578 |                 2 |\n",
       "| 1929 |                 2 |\n",
       "| 1235 |                 2 |\n",
       "| 1294 |                 2 |\n",
       "|  932 |                 2 |\n",
       "| 1963 |                 2 |\n",
       "|  603 |                 2 |\n",
       "| 1377 |                 2 |\n",
       "|  956 |                 2 |\n",
       "| 1076 |                 2 |\n",
       "|  727 |                 2 |\n",
       "| 1805 |                 2 |\n",
       "| 1876 |                 2 |\n",
       "| 1629 |                 2 |\n",
       "|  670 |                 2 |\n",
       "| 1004 |                 2 |\n",
       "|  527 |                 2 |\n",
       "| 1073 |                 2 |\n",
       "| 1316 |                 2 |\n",
       "| 1641 |                 2 |\n",
       "|  564 |                 2 |\n",
       "| 1532 |                 2 |\n",
       "| 1974 |                 2 |\n",
       "|  616 |                 2 |\n",
       "|  663 |                 2 |\n",
       "| 1292 |                 2 |\n",
       "| 1947 |                 2 |\n",
       "|  728 |                 2 |\n",
       "| 1019 |                 2 |\n",
       "| 1796 |                 2 |\n",
       "| 1727 |                 2 |\n",
       "|  836 |                 2 |\n",
       "|  899 |                 2 |\n",
       "| 1398 |                 2 |\n",
       "|  759 |                 2 |\n",
       "| 1143 |                 2 |\n",
       "| 1905 |                 2 |\n",
       "|  557 |                 2 |\n",
       "| 1968 |                 2 |\n",
       "|  884 |                 2 |\n",
       "|  599 |                 2 |\n",
       "| 1656 |                 2 |\n",
       "|  747 |                 2 |\n",
       "|  967 |                 2 |\n",
       "| 1702 |                 2 |\n",
       "| 1206 |                 2 |\n",
       "| 1491 |                 2 |\n",
       "| 1291 |                 2 |\n",
       "| 1127 |                 2 |\n",
       "|  710 |                 2 |\n",
       "| 1728 |                 2 |\n",
       "| 1643 |                 2 |\n",
       "|  675 |                 2 |\n",
       "| 1155 |                 2 |\n",
       "| 1658 |                 2 |\n",
       "| 1623 |                 2 |\n",
       "| 1040 |                 2 |\n",
       "| 1309 |                 2 |\n",
       "| 1331 |                 2 |\n",
       "|  999 |                 2 |\n",
       "| 1311 |                 2 |\n",
       "| 1777 |                 2 |\n",
       "|  539 |                 2 |\n",
       "| 1517 |                 2 |\n",
       "| 1205 |                 2 |\n",
       "| 1382 |                 2 |\n",
       "| 1613 |                 2 |\n",
       "| 1648 |                 2 |\n",
       "| 1758 |                 2 |\n",
       "| 1032 |                 2 |\n",
       "|  507 |                 2 |\n",
       "| 1165 |                 2 |\n",
       "| 1989 |                 2 |\n",
       "| 1673 |                 2 |\n",
       "|  938 |                 2 |\n",
       "|  681 |                 2 |\n",
       "| 1781 |                 2 |\n",
       "|  873 |                 2 |\n",
       "| 1078 |                 2 |\n",
       "| 1958 |                 2 |\n",
       "| 1677 |                 2 |\n",
       "|  819 |                 2 |\n",
       "|  893 |                 2 |\n",
       "| 1497 |                 2 |\n",
       "|  969 |                 2 |\n",
       "| 1416 |                 2 |\n",
       "| 1084 |                 2 |\n",
       "| 1951 |                 2 |\n",
       "| 1942 |                 2 |\n",
       "| 1005 |                 2 |\n",
       "| 1437 |                 2 |\n",
       "|  623 |                 2 |\n",
       "| 1917 |                 2 |\n",
       "| 1975 |                 2 |\n",
       "| 1832 |                 2 |\n",
       "|  877 |                 2 |\n",
       "|  990 |                 2 |\n",
       "|  513 |                 2 |\n",
       "|  590 |                 2 |\n",
       "|  800 |                 2 |\n",
       "| 1539 |                 2 |\n",
       "|  683 |                 2 |\n",
       "| 1471 |                 2 |\n",
       "| 1090 |                 2 |\n",
       "| 1062 |                 2 |\n",
       "| 1190 |                 2 |\n",
       "| 1551 |                 2 |\n",
       "| 1985 |                 2 |\n",
       "|  775 |                 2 |\n",
       "| 1604 |                 2 |\n",
       "| 1769 |                 2 |\n",
       "| 1352 |                 2 |\n",
       "| 1163 |                 2 |\n",
       "| 1238 |                 2 |\n",
       "|  530 |                 2 |\n",
       "| 1492 |                 2 |\n",
       "| 1698 |                 2 |\n",
       "|  687 |                 2 |\n",
       "| 1445 |                 2 |\n",
       "| 1259 |                 2 |\n",
       "|  550 |                 2 |\n",
       "| 1448 |                 2 |\n",
       "| 1229 |                 2 |\n",
       "|  740 |                 2 |\n",
       "|  644 |                 2 |\n",
       "| 1256 |                 2 |\n",
       "|  709 |                 2 |\n",
       "| 1882 |                 2 |\n",
       "|  832 |                 2 |\n",
       "|  751 |                 2 |\n",
       "| 1916 |                 2 |\n",
       "| 1809 |                 2 |\n",
       "| 1442 |                 2 |\n",
       "|  855 |                 2 |\n",
       "|  870 |                 2 |\n",
       "| 1983 |                 2 |\n",
       "|  724 |                 2 |\n",
       "|  794 |                 2 |\n",
       "| 1838 |                 2 |\n",
       "| 1827 |                 2 |\n",
       "|  565 |                 2 |\n",
       "| 1579 |                 2 |\n",
       "| 1739 |                 2 |\n",
       "| 1499 |                 2 |\n",
       "|  774 |                 2 |\n",
       "| 1482 |                 2 |\n",
       "|  974 |                 2 |\n",
       "|  997 |                 2 |\n",
       "|  684 |                 2 |\n",
       "|  922 |                 2 |\n",
       "| 1452 |                 2 |\n",
       "| 1803 |                 2 |\n",
       "| 1039 |                 2 |\n",
       "| 1456 |                 2 |\n",
       "| 1811 |                 2 |\n",
       "|  643 |                 2 |\n",
       "| 1389 |                 2 |\n",
       "| 1638 |                 2 |\n",
       "| 1219 |                 2 |\n",
       "| 1651 |                 2 |\n",
       "| 1167 |                 2 |\n",
       "| 1682 |                 2 |\n",
       "| 1615 |                 2 |\n",
       "| 1293 |                 2 |\n",
       "| 1308 |                 2 |\n",
       "|  898 |                 2 |\n",
       "|  613 |                 2 |\n",
       "| 1007 |                 2 |\n",
       "| 1195 |                 2 |\n",
       "| 1413 |                 2 |\n",
       "| 1263 |                 2 |\n",
       "|  742 |                 2 |\n",
       "| 1099 |                 2 |\n",
       "|  697 |                 2 |\n",
       "| 1191 |                 2 |\n",
       "|  614 |                 2 |\n",
       "|  721 |                 2 |\n",
       "|  714 |                 2 |\n",
       "| 1088 |                 2 |\n",
       "| 1686 |                 2 |\n",
       "|  660 |                 2 |\n",
       "| 1506 |                 2 |\n",
       "| 1484 |                 2 |\n",
       "|  793 |                 2 |\n",
       "| 1970 |                 2 |\n",
       "| 1434 |                 2 |\n",
       "| 1500 |                 2 |\n",
       "| 1553 |                 2 |\n",
       "| 1249 |                 2 |\n",
       "| 1433 |                 2 |\n",
       "| 1948 |                 2 |\n",
       "| 1334 |                 2 |\n",
       "|  821 |                 2 |\n",
       "| 1376 |                 2 |\n",
       "| 1652 |                 2 |\n",
       "| 1654 |                 2 |\n",
       "| 1520 |                 2 |\n",
       "| 1350 |                 2 |\n",
       "|  705 |                 2 |\n",
       "|  730 |                 2 |\n",
       "| 1123 |                 2 |\n",
       "|  986 |                 2 |\n",
       "| 1924 |                 2 |\n",
       "| 1177 |                 2 |\n",
       "| 1850 |                 2 |\n",
       "| 1261 |                 2 |\n",
       "| 1025 |                 2 |\n",
       "| 1583 |                 2 |\n",
       "| 1633 |                 2 |\n",
       "| 1793 |                 2 |\n",
       "| 1131 |                 2 |\n",
       "| 1248 |                 2 |\n",
       "| 1244 |                 2 |\n",
       "| 1791 |                 2 |\n",
       "| 1606 |                 2 |\n",
       "| 1364 |                 2 |\n",
       "| 1465 |                 2 |\n",
       "| 1746 |                 2 |\n",
       "|  516 |                 2 |\n",
       "|  807 |                 2 |\n",
       "| 1782 |                 2 |\n",
       "| 1688 |                 2 |\n",
       "| 1529 |                 2 |\n",
       "| 1710 |                 2 |\n",
       "| 1552 |                 2 |\n",
       "| 1543 |                 2 |\n",
       "| 1738 |                 2 |\n",
       "| 1199 |                 2 |\n",
       "| 1151 |                 2 |\n",
       "|  849 |                 2 |\n",
       "| 1284 |                 2 |\n",
       "| 1617 |                 2 |\n",
       "|  939 |                 2 |\n",
       "| 1420 |                 2 |\n",
       "|  741 |                 2 |\n",
       "| 1858 |                 2 |\n",
       "|  517 |                 2 |\n",
       "| 1591 |                 2 |\n",
       "|  512 |                 2 |\n",
       "|  501 |                 2 |\n",
       "| 1230 |                 2 |\n",
       "|  860 |                 2 |\n",
       "|  621 |                 2 |\n",
       "|  745 |                 2 |\n",
       "| 1614 |                 2 |\n",
       "| 1976 |                 2 |\n",
       "| 1159 |                 2 |\n",
       "| 1020 |                 2 |\n",
       "| 1385 |                 2 |\n",
       "|  790 |                 2 |\n",
       "| 1175 |                 2 |\n",
       "|  655 |                 2 |\n",
       "|  734 |                 2 |\n",
       "| 1409 |                 2 |\n",
       "|  912 |                 2 |\n",
       "| 1472 |                 2 |\n",
       "| 1919 |                 2 |\n",
       "|  806 |                 2 |\n",
       "| 1747 |                 2 |\n",
       "| 1473 |                 2 |\n",
       "|  906 |                 2 |\n",
       "|  764 |                 2 |"
      ],
      "text/plain": [
       "<IPython.core.display.Markdown object>"
      ]
     },
     "metadata": {},
     "output_type": "display_data"
    },
    {
     "data": {
      "text/markdown": [
       "**Missing Value px_width Data Train**"
      ],
      "text/plain": [
       "<IPython.core.display.Markdown object>"
      ]
     },
     "metadata": {},
     "output_type": "display_data"
    },
    {
     "data": {
      "text/plain": [
       "'Tidak ada missing value'"
      ]
     },
     "metadata": {},
     "output_type": "display_data"
    },
    {
     "data": {
      "text/markdown": [
       "**Outlier px_width Data Train**"
      ],
      "text/plain": [
       "<IPython.core.display.Markdown object>"
      ]
     },
     "metadata": {},
     "output_type": "display_data"
    },
    {
     "data": {
      "text/markdown": [
       "Tidak ada outlier"
      ],
      "text/plain": [
       "<IPython.core.display.Markdown object>"
      ]
     },
     "metadata": {},
     "output_type": "display_data"
    },
    {
     "data": {
      "text/markdown": [
       "**Distribusi data**"
      ],
      "text/plain": [
       "<IPython.core.display.Markdown object>"
      ]
     },
     "metadata": {},
     "output_type": "display_data"
    },
    {
     "name": "stdout",
     "output_type": "stream",
     "text": [
      "Nilai Kurtosis\n",
      "-1.1761112837507963\n"
     ]
    },
    {
     "data": {
      "image/png": "[encoded data removed]",
      "text/plain": [
       "<Figure size 800x400 with 1 Axes>"
      ]
     },
     "metadata": {},
     "output_type": "display_data"
    },
    {
     "data": {
      "text/markdown": [
       "**Kolerasi dengan kolom 'price_range'**"
      ],
      "text/plain": [
       "<IPython.core.display.Markdown object>"
      ]
     },
     "metadata": {},
     "output_type": "display_data"
    },
    {
     "name": "stdout",
     "output_type": "stream",
     "text": [
      "0.1787126901102656\n"
     ]
    },
    {
     "data": {
      "text/markdown": [
       "Hasil Analisis"
      ],
      "text/plain": [
       "<IPython.core.display.Markdown object>"
      ]
     },
     "metadata": {},
     "output_type": "display_data"
    },
    {
     "data": {
      "text/markdown": [
       "**Hasil Analisis**\n",
       "\n",
       "|   Nomor | Hasil Analisis                                                                                                             |\n",
       "|--------:|:---------------------------------------------------------------------------------------------------------------------------|\n",
       "|       1 | Di dapat dari statistika dasar bahwa jumlah data ada sebanyak 1400 dengan nilai minimun adalah 500 dan nilai max ada       |\n",
       "|         | lah 1990. Kemudian Q1 adalah 876.5, Q2 adalah 1247 dan Q3 adalah 1627.5 standar deviasi adalah 428.983 dan mean 1251.72    |\n",
       "|         | Dari sini juga dapat disimpulkan bahwa IQR sebesar 751                                                                     |\n",
       "|       2 | Ada beberapa duplicate value pada tabel ini dengan yang paling banyak adalah angka 1247 duplicate sebanyak 6 kemudian      |\n",
       "|         | 1463, 1234, 1923 duplikat sebanyak 5                                                                                       |\n",
       "|       3 | Tidak ada missing value, Artinya pada kolom ini semuanya mempunyai nilai                                                   |\n",
       "|       4 | Tidak ada outlier hal ini seperti yang diketahui batas bawahnya adalah Q1 - 1.5IQR yakni sebesar -250 dan batas atas       |\n",
       "|         | sebesar Q3 + 1.5IQR yakni sebesar 2754 nilai terkecil adalah 500 dan nilai terbesar adalah 1990 sehingga tidak ada outlier |\n",
       "|       5 | Kurtosis bernilai -1.1761112837507963 (negatif) yang artinya menunjukkan distribusi data cenderung rata                    |\n",
       "|       6 | Kolerasinya dengan kolom target sebesar 0.1787126901102656 , nilai kolerasi jauh dari angka 1 sehingga kolerasinya         |\n",
       "|         | dengan kolom target kurang kuat tapi jika dibandingkan dengan px_height keterkaitannya sedikit lebih kuat                  |"
      ],
      "text/plain": [
       "<IPython.core.display.Markdown object>"
      ]
     },
     "metadata": {},
     "output_type": "display_data"
    }
   ],
   "source": [
    "#Nomor 13 Kolom px_width\n",
    "finalValue('px_width',df)\n",
    "#Hasil Analisis\n",
    "string1 = '''Di dapat dari statistika dasar bahwa jumlah data ada sebanyak 1400 dengan nilai minimun adalah 500 dan nilai max ada\n",
    "lah 1990. Kemudian Q1 adalah 876.5, Q2 adalah 1247 dan Q3 adalah 1627.5 standar deviasi adalah 428.983 dan mean 1251.72\n",
    "Dari sini juga dapat disimpulkan bahwa IQR sebesar 751'''\n",
    "string2 = '''Ada beberapa duplicate value pada tabel ini dengan yang paling banyak adalah angka 1247 duplicate sebanyak 6 kemudian\n",
    "1463, 1234, 1923 duplikat sebanyak 5'''\n",
    "string3 = '''Tidak ada missing value, Artinya pada kolom ini semuanya mempunyai nilai'''\n",
    "string4 = '''Tidak ada outlier hal ini seperti yang diketahui batas bawahnya adalah Q1 - 1.5IQR yakni sebesar -250 dan batas atas\n",
    "sebesar Q3 + 1.5IQR yakni sebesar 2754 nilai terkecil adalah 500 dan nilai terbesar adalah 1990 sehingga tidak ada outlier'''\n",
    "string5 = '''Kurtosis bernilai -1.1761112837507963 (negatif) yang artinya menunjukkan distribusi data cenderung rata'''\n",
    "string6 = '''Kolerasinya dengan kolom target sebesar 0.1787126901102656 , nilai kolerasi jauh dari angka 1 sehingga kolerasinya\n",
    "dengan kolom target kurang kuat tapi jika dibandingkan dengan px_height keterkaitannya sedikit lebih kuat'''\n",
    "analisis(string1, string2, string3, string4, string5, string6)"
   ]
  },
  {
   "cell_type": "code",
   "execution_count": 79,
   "id": "d800efcd",
   "metadata": {},
   "outputs": [
    {
     "data": {
      "text/markdown": [
       "**Statistika Dasar ram**"
      ],
      "text/plain": [
       "<IPython.core.display.Markdown object>"
      ]
     },
     "metadata": {},
     "output_type": "display_data"
    },
    {
     "data": {
      "text/markdown": [
       "|       |   Statistik Dasar |\n",
       "|:------|------------------:|\n",
       "| count |           1400    |\n",
       "| mean  |           2106.73 |\n",
       "| std   |           1078.35 |\n",
       "| min   |            256    |\n",
       "| 25%   |           1201    |\n",
       "| 50%   |           2102    |\n",
       "| 75%   |           3035.75 |\n",
       "| max   |           3998    |"
      ],
      "text/plain": [
       "<IPython.core.display.Markdown object>"
      ]
     },
     "metadata": {},
     "output_type": "display_data"
    },
    {
     "data": {
      "text/markdown": [
       "**Duplicate Value ram Data Train**"
      ],
      "text/plain": [
       "<IPython.core.display.Markdown object>"
      ]
     },
     "metadata": {},
     "output_type": "display_data"
    },
    {
     "data": {
      "text/markdown": [
       "|      |   Duplicate Value |\n",
       "|-----:|------------------:|\n",
       "| 1229 |                 4 |\n",
       "| 3142 |                 4 |\n",
       "|  595 |                 3 |\n",
       "| 2190 |                 3 |\n",
       "| 2107 |                 3 |\n",
       "| 2678 |                 3 |\n",
       "| 3865 |                 3 |\n",
       "| 1303 |                 3 |\n",
       "| 1974 |                 3 |\n",
       "| 3488 |                 3 |\n",
       "| 1457 |                 3 |\n",
       "| 2973 |                 3 |\n",
       "| 1869 |                 3 |\n",
       "|  606 |                 3 |\n",
       "| 2598 |                 3 |\n",
       "|  315 |                 3 |\n",
       "| 3206 |                 3 |\n",
       "| 1037 |                 3 |\n",
       "| 1998 |                 3 |\n",
       "| 2563 |                 3 |\n",
       "| 1300 |                 3 |\n",
       "| 3117 |                 3 |\n",
       "| 2488 |                 3 |\n",
       "| 1713 |                 3 |\n",
       "| 2700 |                 3 |\n",
       "| 3210 |                 3 |\n",
       "| 1663 |                 2 |\n",
       "|  398 |                 2 |\n",
       "| 1482 |                 2 |\n",
       "| 2885 |                 2 |\n",
       "| 3038 |                 2 |\n",
       "| 1069 |                 2 |\n",
       "|  696 |                 2 |\n",
       "| 3256 |                 2 |\n",
       "| 3796 |                 2 |\n",
       "|  690 |                 2 |\n",
       "| 3927 |                 2 |\n",
       "| 2020 |                 2 |\n",
       "| 1543 |                 2 |\n",
       "| 2457 |                 2 |\n",
       "|  820 |                 2 |\n",
       "|  545 |                 2 |\n",
       "| 1464 |                 2 |\n",
       "| 3755 |                 2 |\n",
       "| 1944 |                 2 |\n",
       "|  751 |                 2 |\n",
       "| 2651 |                 2 |\n",
       "|  869 |                 2 |\n",
       "| 3799 |                 2 |\n",
       "| 1201 |                 2 |\n",
       "| 2940 |                 2 |\n",
       "| 1214 |                 2 |\n",
       "| 1687 |                 2 |\n",
       "| 2419 |                 2 |\n",
       "| 1853 |                 2 |\n",
       "| 1947 |                 2 |\n",
       "| 1704 |                 2 |\n",
       "| 1973 |                 2 |\n",
       "| 3242 |                 2 |\n",
       "| 3104 |                 2 |\n",
       "| 1816 |                 2 |\n",
       "| 3685 |                 2 |\n",
       "| 2385 |                 2 |\n",
       "| 3358 |                 2 |\n",
       "| 1799 |                 2 |\n",
       "| 3836 |                 2 |\n",
       "|  643 |                 2 |\n",
       "| 3701 |                 2 |\n",
       "| 2050 |                 2 |\n",
       "|  905 |                 2 |\n",
       "|  854 |                 2 |\n",
       "|  582 |                 2 |\n",
       "|  575 |                 2 |\n",
       "| 2454 |                 2 |\n",
       "| 2268 |                 2 |\n",
       "|  728 |                 2 |\n",
       "|  604 |                 2 |\n",
       "| 1675 |                 2 |\n",
       "| 2003 |                 2 |\n",
       "| 2855 |                 2 |\n",
       "| 2614 |                 2 |\n",
       "| 2727 |                 2 |\n",
       "|  714 |                 2 |\n",
       "| 1308 |                 2 |\n",
       "| 3278 |                 2 |\n",
       "| 3902 |                 2 |\n",
       "| 3872 |                 2 |\n",
       "| 2192 |                 2 |\n",
       "|  392 |                 2 |\n",
       "| 2338 |                 2 |\n",
       "| 2736 |                 2 |\n",
       "| 1052 |                 2 |\n",
       "| 1724 |                 2 |\n",
       "| 1324 |                 2 |\n",
       "| 1906 |                 2 |\n",
       "| 2052 |                 2 |\n",
       "| 2775 |                 2 |\n",
       "|  590 |                 2 |\n",
       "| 1882 |                 2 |\n",
       "|  278 |                 2 |\n",
       "| 1655 |                 2 |\n",
       "| 3771 |                 2 |\n",
       "| 3703 |                 2 |\n",
       "| 2674 |                 2 |\n",
       "| 2016 |                 2 |\n",
       "| 3587 |                 2 |\n",
       "|  619 |                 2 |\n",
       "| 3764 |                 2 |\n",
       "| 2376 |                 2 |\n",
       "|  707 |                 2 |\n",
       "| 1354 |                 2 |\n",
       "| 2039 |                 2 |\n",
       "| 3941 |                 2 |\n",
       "| 2248 |                 2 |\n",
       "| 3271 |                 2 |\n",
       "| 2908 |                 2 |\n",
       "| 1591 |                 2 |\n",
       "|  941 |                 2 |\n",
       "|  770 |                 2 |\n",
       "| 3914 |                 2 |\n",
       "| 3204 |                 2 |\n",
       "| 1424 |                 2 |\n",
       "| 3366 |                 2 |\n",
       "| 1326 |                 2 |\n",
       "| 2981 |                 2 |\n",
       "| 3132 |                 2 |\n",
       "| 2337 |                 2 |\n",
       "| 2977 |                 2 |\n",
       "| 3518 |                 2 |\n",
       "| 1851 |                 2 |\n",
       "|  841 |                 2 |\n",
       "| 3397 |                 2 |\n",
       "|  663 |                 2 |\n",
       "|  587 |                 2 |\n",
       "|  629 |                 2 |\n",
       "| 3707 |                 2 |\n",
       "|  461 |                 2 |\n",
       "| 1733 |                 2 |\n",
       "| 1519 |                 2 |\n",
       "| 2870 |                 2 |\n",
       "| 3646 |                 2 |\n",
       "| 1181 |                 2 |\n",
       "| 3078 |                 2 |\n",
       "| 2782 |                 2 |\n",
       "| 2438 |                 2 |\n",
       "| 1637 |                 2 |\n",
       "| 2343 |                 2 |\n",
       "|  819 |                 2 |\n",
       "| 3472 |                 2 |\n",
       "| 2819 |                 2 |\n",
       "| 1414 |                 2 |\n",
       "| 1155 |                 2 |\n",
       "| 3139 |                 2 |\n",
       "| 3451 |                 2 |\n",
       "| 3153 |                 2 |\n",
       "| 1234 |                 2 |\n",
       "| 2227 |                 2 |\n",
       "| 2378 |                 2 |\n",
       "| 2844 |                 2 |\n",
       "| 2965 |                 2 |\n",
       "| 1571 |                 2 |\n",
       "| 3917 |                 2 |\n",
       "| 2156 |                 2 |\n",
       "|  624 |                 2 |\n",
       "| 3458 |                 2 |\n",
       "|  462 |                 2 |\n",
       "| 2466 |                 2 |\n",
       "| 2711 |                 2 |\n",
       "| 1653 |                 2 |\n",
       "| 1017 |                 2 |\n",
       "| 2096 |                 2 |\n",
       "|  980 |                 2 |\n",
       "| 3654 |                 2 |\n",
       "|  348 |                 2 |\n",
       "| 2495 |                 2 |\n",
       "| 2073 |                 2 |\n",
       "| 2610 |                 2 |\n",
       "| 2219 |                 2 |\n",
       "| 3566 |                 2 |\n",
       "| 2456 |                 2 |\n",
       "|  666 |                 2 |\n",
       "|  725 |                 2 |\n",
       "| 1152 |                 2 |\n",
       "| 2437 |                 2 |\n",
       "| 1641 |                 2 |\n",
       "| 3684 |                 2 |\n",
       "| 1440 |                 2 |\n",
       "| 3355 |                 2 |\n",
       "| 2278 |                 2 |\n",
       "| 3169 |                 2 |\n",
       "| 2948 |                 2 |\n",
       "|  417 |                 2 |\n",
       "|  990 |                 2 |\n",
       "| 2253 |                 2 |\n",
       "| 2944 |                 2 |\n",
       "| 3534 |                 2 |\n",
       "| 2066 |                 2 |\n",
       "| 3845 |                 2 |\n",
       "| 3317 |                 2 |\n",
       "|  323 |                 2 |\n",
       "| 1693 |                 2 |\n",
       "| 2528 |                 2 |"
      ],
      "text/plain": [
       "<IPython.core.display.Markdown object>"
      ]
     },
     "metadata": {},
     "output_type": "display_data"
    },
    {
     "data": {
      "text/markdown": [
       "**Missing Value ram Data Train**"
      ],
      "text/plain": [
       "<IPython.core.display.Markdown object>"
      ]
     },
     "metadata": {},
     "output_type": "display_data"
    },
    {
     "data": {
      "text/plain": [
       "'Tidak ada missing value'"
      ]
     },
     "metadata": {},
     "output_type": "display_data"
    },
    {
     "data": {
      "text/markdown": [
       "**Outlier ram Data Train**"
      ],
      "text/plain": [
       "<IPython.core.display.Markdown object>"
      ]
     },
     "metadata": {},
     "output_type": "display_data"
    },
    {
     "data": {
      "text/markdown": [
       "Tidak ada outlier"
      ],
      "text/plain": [
       "<IPython.core.display.Markdown object>"
      ]
     },
     "metadata": {},
     "output_type": "display_data"
    },
    {
     "data": {
      "text/markdown": [
       "**Distribusi data**"
      ],
      "text/plain": [
       "<IPython.core.display.Markdown object>"
      ]
     },
     "metadata": {},
     "output_type": "display_data"
    },
    {
     "name": "stdout",
     "output_type": "stream",
     "text": [
      "Nilai Kurtosis\n",
      "-1.18619191592568\n"
     ]
    },
    {
     "data": {
      "image/png": "[encoded data removed]",
      "text/plain": [
       "<Figure size 800x400 with 1 Axes>"
      ]
     },
     "metadata": {},
     "output_type": "display_data"
    },
    {
     "data": {
      "text/markdown": [
       "**Kolerasi dengan kolom 'price_range'**"
      ],
      "text/plain": [
       "<IPython.core.display.Markdown object>"
      ]
     },
     "metadata": {},
     "output_type": "display_data"
    },
    {
     "name": "stdout",
     "output_type": "stream",
     "text": [
      "0.9183192307843839\n"
     ]
    },
    {
     "data": {
      "text/markdown": [
       "Hasil Analisis"
      ],
      "text/plain": [
       "<IPython.core.display.Markdown object>"
      ]
     },
     "metadata": {},
     "output_type": "display_data"
    },
    {
     "data": {
      "text/markdown": [
       "**Hasil Analisis**\n",
       "\n",
       "|   Nomor | Hasil Analisis                                                                                                               |\n",
       "|--------:|:-----------------------------------------------------------------------------------------------------------------------------|\n",
       "|       1 | Di dapat dari statistika dasar bahwa jumlah data ada sebanyak 1400 dengan nilai minimun adalah 256 dan nilai max ada         |\n",
       "|         | lah 3998. Kemudian Q1 adalah 1201, Q2 adalah 2102 dan Q3 adalah 3035.75 standar deviasi adalah 1078.35 dan mean 2106.73      |\n",
       "|         | Dari sini juga dapat disimpulkan bahwa IQR sebesar 1834.75                                                                   |\n",
       "|       2 | Ada beberapa duplicate value pada tabel ini dengan yang paling banyak adalah angka 1229, 3142 duplicate sebanyak 4           |\n",
       "|       3 | Tidak ada missing value, Artinya pada kolom ini semuanya mempunyai nilai                                                     |\n",
       "|       4 | Tidak ada outlier hal ini seperti yang diketahui batas bawahnya adalah Q1 - 1.5IQR yakni sebesar -1551.125 dan batas atas    |\n",
       "|         | sebesar Q3 + 1.5IQR yakni sebesar 4870.5 nilai terkecil adalah 256 dan nilai terbesar adalah 3998 sehingga tidak ada outlier |\n",
       "|       5 | Kurtosis bernilai -1.18619191592568 (negatif) yang artinya menunjukkan distribusi data cenderung rata                        |\n",
       "|       6 | Kolerasinya dengan kolom target sebesar 0.9183192307843839 , nilai kolerasi dekat dari angka 1 sehingga kolerasinya          |\n",
       "|         | cukup kuat                                                                                                                   |"
      ],
      "text/plain": [
       "<IPython.core.display.Markdown object>"
      ]
     },
     "metadata": {},
     "output_type": "display_data"
    }
   ],
   "source": [
    "#Nomor 14 Kolom ram\n",
    "finalValue('ram',df)\n",
    "#Hasil Analisis\n",
    "string1 = '''Di dapat dari statistika dasar bahwa jumlah data ada sebanyak 1400 dengan nilai minimun adalah 256 dan nilai max ada\n",
    "lah 3998. Kemudian Q1 adalah 1201, Q2 adalah 2102 dan Q3 adalah 3035.75 standar deviasi adalah 1078.35 dan mean 2106.73\n",
    "Dari sini juga dapat disimpulkan bahwa IQR sebesar 1834.75'''\n",
    "string2 = '''Ada beberapa duplicate value pada tabel ini dengan yang paling banyak adalah angka 1229, 3142 duplicate sebanyak 4 '''\n",
    "string3 = '''Tidak ada missing value, Artinya pada kolom ini semuanya mempunyai nilai'''\n",
    "string4 = '''Tidak ada outlier hal ini seperti yang diketahui batas bawahnya adalah Q1 - 1.5IQR yakni sebesar -1551.125 dan batas atas\n",
    "sebesar Q3 + 1.5IQR yakni sebesar 4870.5 nilai terkecil adalah 256 dan nilai terbesar adalah 3998 sehingga tidak ada outlier'''\n",
    "string5 = '''Kurtosis bernilai -1.18619191592568 (negatif) yang artinya menunjukkan distribusi data cenderung rata'''\n",
    "string6 = '''Kolerasinya dengan kolom target sebesar 0.9183192307843839 , nilai kolerasi dekat dari angka 1 sehingga kolerasinya\n",
    "cukup kuat'''\n",
    "analisis(string1, string2, string3, string4, string5, string6)"
   ]
  },
  {
   "cell_type": "code",
   "execution_count": 80,
   "id": "b559fee3",
   "metadata": {},
   "outputs": [
    {
     "data": {
      "text/markdown": [
       "**Statistika Dasar sc_h**"
      ],
      "text/plain": [
       "<IPython.core.display.Markdown object>"
      ]
     },
     "metadata": {},
     "output_type": "display_data"
    },
    {
     "data": {
      "text/markdown": [
       "|       |   Statistik Dasar |\n",
       "|:------|------------------:|\n",
       "| count |         1400      |\n",
       "| mean  |           12.2857 |\n",
       "| std   |            4.2042 |\n",
       "| min   |            5      |\n",
       "| 25%   |            9      |\n",
       "| 50%   |           12      |\n",
       "| 75%   |           16      |\n",
       "| max   |           19      |"
      ],
      "text/plain": [
       "<IPython.core.display.Markdown object>"
      ]
     },
     "metadata": {},
     "output_type": "display_data"
    },
    {
     "data": {
      "text/markdown": [
       "**Duplicate Value sc_h Data Train**"
      ],
      "text/plain": [
       "<IPython.core.display.Markdown object>"
      ]
     },
     "metadata": {},
     "output_type": "display_data"
    },
    {
     "data": {
      "text/markdown": [
       "|    |   Duplicate Value |\n",
       "|---:|------------------:|\n",
       "| 17 |               134 |\n",
       "|  7 |               108 |\n",
       "| 12 |               107 |\n",
       "| 14 |               100 |\n",
       "| 15 |               100 |\n",
       "| 16 |                99 |\n",
       "| 13 |                95 |\n",
       "| 10 |                94 |\n",
       "| 11 |                88 |\n",
       "| 19 |                84 |\n",
       "| 18 |                82 |\n",
       "|  6 |                81 |\n",
       "|  9 |                80 |\n",
       "|  8 |                79 |\n",
       "|  5 |                69 |"
      ],
      "text/plain": [
       "<IPython.core.display.Markdown object>"
      ]
     },
     "metadata": {},
     "output_type": "display_data"
    },
    {
     "data": {
      "text/markdown": [
       "**Missing Value sc_h Data Train**"
      ],
      "text/plain": [
       "<IPython.core.display.Markdown object>"
      ]
     },
     "metadata": {},
     "output_type": "display_data"
    },
    {
     "data": {
      "text/plain": [
       "'Tidak ada missing value'"
      ]
     },
     "metadata": {},
     "output_type": "display_data"
    },
    {
     "data": {
      "text/markdown": [
       "**Outlier sc_h Data Train**"
      ],
      "text/plain": [
       "<IPython.core.display.Markdown object>"
      ]
     },
     "metadata": {},
     "output_type": "display_data"
    },
    {
     "data": {
      "text/markdown": [
       "Tidak ada outlier"
      ],
      "text/plain": [
       "<IPython.core.display.Markdown object>"
      ]
     },
     "metadata": {},
     "output_type": "display_data"
    },
    {
     "data": {
      "text/markdown": [
       "**Distribusi data**"
      ],
      "text/plain": [
       "<IPython.core.display.Markdown object>"
      ]
     },
     "metadata": {},
     "output_type": "display_data"
    },
    {
     "name": "stdout",
     "output_type": "stream",
     "text": [
      "Nilai Kurtosis\n",
      "-1.1833343207794749\n"
     ]
    },
    {
     "data": {
      "image/png": "[encoded data removed]",
      "text/plain": [
       "<Figure size 800x400 with 1 Axes>"
      ]
     },
     "metadata": {},
     "output_type": "display_data"
    },
    {
     "data": {
      "text/markdown": [
       "**Kolerasi dengan kolom 'price_range'**"
      ],
      "text/plain": [
       "<IPython.core.display.Markdown object>"
      ]
     },
     "metadata": {},
     "output_type": "display_data"
    },
    {
     "name": "stdout",
     "output_type": "stream",
     "text": [
      "0.012148883173074988\n"
     ]
    },
    {
     "data": {
      "text/markdown": [
       "Hasil Analisis"
      ],
      "text/plain": [
       "<IPython.core.display.Markdown object>"
      ]
     },
     "metadata": {},
     "output_type": "display_data"
    },
    {
     "data": {
      "text/markdown": [
       "**Hasil Analisis**\n",
       "\n",
       "|   Nomor | Hasil Analisis                                                                                                         |\n",
       "|--------:|:-----------------------------------------------------------------------------------------------------------------------|\n",
       "|       1 | Di dapat dari statistika dasar bahwa jumlah data ada sebanyak 1400 dengan nilai minimun adalah 5 dan nilai max ada     |\n",
       "|         | lah 19. Kemudian Q1 adalah 9, Q2 adalah 12 dan Q3 adalah 16 standar deviasi adalah 4.2042 dan mean 12.2857             |\n",
       "|         | Dari sini juga dapat disimpulkan bahwa IQR sebesar 7                                                                   |\n",
       "|       2 | Ada beberapa duplicate value pada tabel ini dengan yang paling banyak adalah angka 17 duplicate sebanyak 134,          |\n",
       "|         | 7 duplicate sebanyak 108 dan sebagainya dapat dilihat lengkap pada tabel duplicate value                               |\n",
       "|       3 | Tidak ada missing value, Artinya pada kolom ini semuanya mempunyai nilai                                               |\n",
       "|       4 | Tidak ada outlier hal ini seperti yang diketahui batas bawahnya adalah Q1 - 1.5IQR yakni sebesar -1.5 dan batas atas   |\n",
       "|         | sebesar Q3 + 1.5IQR yakni sebesar 26.5 nilai terkecil adalah 5 dan nilai terbesar adalah 19 sehingga tidak ada outlier |\n",
       "|       5 | Kurtosis bernilai -1.1833343207794749 (negatif) yang artinya menunjukkan distribusi data cenderung rata                |\n",
       "|       6 | Kolerasinya dengan kolom target sebesar 0.012148883173074988, nilai kolerasi jauh dari angka 1 malah mendekati angka 0 |\n",
       "|         | sehingga kolerasinya tidak kuat                                                                                        |"
      ],
      "text/plain": [
       "<IPython.core.display.Markdown object>"
      ]
     },
     "metadata": {},
     "output_type": "display_data"
    }
   ],
   "source": [
    "#Nomor 15 kolom sc_h\n",
    "finalValue('sc_h',df)\n",
    "#Hasil Analisis\n",
    "string1 = '''Di dapat dari statistika dasar bahwa jumlah data ada sebanyak 1400 dengan nilai minimun adalah 5 dan nilai max ada\n",
    "lah 19. Kemudian Q1 adalah 9, Q2 adalah 12 dan Q3 adalah 16 standar deviasi adalah 4.2042 dan mean 12.2857\n",
    "Dari sini juga dapat disimpulkan bahwa IQR sebesar 7'''\n",
    "string2 = '''Ada beberapa duplicate value pada tabel ini dengan yang paling banyak adalah angka 17 duplicate sebanyak 134, \n",
    "7 duplicate sebanyak 108 dan sebagainya dapat dilihat lengkap pada tabel duplicate value'''\n",
    "string3 = '''Tidak ada missing value, Artinya pada kolom ini semuanya mempunyai nilai'''\n",
    "string4 = '''Tidak ada outlier hal ini seperti yang diketahui batas bawahnya adalah Q1 - 1.5IQR yakni sebesar -1.5 dan batas atas\n",
    "sebesar Q3 + 1.5IQR yakni sebesar 26.5 nilai terkecil adalah 5 dan nilai terbesar adalah 19 sehingga tidak ada outlier'''\n",
    "string5 = '''Kurtosis bernilai -1.1833343207794749 (negatif) yang artinya menunjukkan distribusi data cenderung rata'''\n",
    "string6 = '''Kolerasinya dengan kolom target sebesar 0.012148883173074988, nilai kolerasi jauh dari angka 1 malah mendekati angka 0\n",
    "sehingga kolerasinya tidak kuat'''\n",
    "analisis(string1, string2, string3, string4, string5, string6)"
   ]
  },
  {
   "cell_type": "code",
   "execution_count": 81,
   "id": "601e0ec6",
   "metadata": {},
   "outputs": [
    {
     "data": {
      "text/markdown": [
       "**Statistika Dasar sc_w**"
      ],
      "text/plain": [
       "<IPython.core.display.Markdown object>"
      ]
     },
     "metadata": {},
     "output_type": "display_data"
    },
    {
     "data": {
      "text/markdown": [
       "|       |   Statistik Dasar |\n",
       "|:------|------------------:|\n",
       "| count |        1400       |\n",
       "| mean  |           5.665   |\n",
       "| std   |           4.37223 |\n",
       "| min   |           0       |\n",
       "| 25%   |           2       |\n",
       "| 50%   |           5       |\n",
       "| 75%   |           9       |\n",
       "| max   |          18       |"
      ],
      "text/plain": [
       "<IPython.core.display.Markdown object>"
      ]
     },
     "metadata": {},
     "output_type": "display_data"
    },
    {
     "data": {
      "text/markdown": [
       "**Duplicate Value sc_w Data Train**"
      ],
      "text/plain": [
       "<IPython.core.display.Markdown object>"
      ]
     },
     "metadata": {},
     "output_type": "display_data"
    },
    {
     "data": {
      "text/markdown": [
       "|    |   Duplicate Value |\n",
       "|---:|------------------:|\n",
       "|  1 |               151 |\n",
       "|  3 |               144 |\n",
       "|  0 |               137 |\n",
       "|  4 |               136 |\n",
       "|  5 |               108 |\n",
       "|  2 |               104 |\n",
       "|  7 |                96 |\n",
       "|  8 |                88 |\n",
       "|  6 |                81 |\n",
       "| 10 |                73 |\n",
       "|  9 |                67 |\n",
       "| 11 |                50 |\n",
       "| 12 |                45 |\n",
       "| 13 |                38 |\n",
       "| 16 |                23 |\n",
       "| 15 |                21 |\n",
       "| 14 |                19 |\n",
       "| 17 |                14 |\n",
       "| 18 |                 5 |"
      ],
      "text/plain": [
       "<IPython.core.display.Markdown object>"
      ]
     },
     "metadata": {},
     "output_type": "display_data"
    },
    {
     "data": {
      "text/markdown": [
       "**Missing Value sc_w Data Train**"
      ],
      "text/plain": [
       "<IPython.core.display.Markdown object>"
      ]
     },
     "metadata": {},
     "output_type": "display_data"
    },
    {
     "data": {
      "text/plain": [
       "'Tidak ada missing value'"
      ]
     },
     "metadata": {},
     "output_type": "display_data"
    },
    {
     "data": {
      "text/markdown": [
       "**Outlier sc_w Data Train**"
      ],
      "text/plain": [
       "<IPython.core.display.Markdown object>"
      ]
     },
     "metadata": {},
     "output_type": "display_data"
    },
    {
     "data": {
      "text/markdown": [
       "Tidak ada outlier"
      ],
      "text/plain": [
       "<IPython.core.display.Markdown object>"
      ]
     },
     "metadata": {},
     "output_type": "display_data"
    },
    {
     "data": {
      "text/markdown": [
       "**Distribusi data**"
      ],
      "text/plain": [
       "<IPython.core.display.Markdown object>"
      ]
     },
     "metadata": {},
     "output_type": "display_data"
    },
    {
     "name": "stdout",
     "output_type": "stream",
     "text": [
      "Nilai Kurtosis\n",
      "-0.33772957471254195\n"
     ]
    },
    {
     "data": {
      "image/png": "[encoded data removed]",
      "text/plain": [
       "<Figure size 800x400 with 1 Axes>"
      ]
     },
     "metadata": {},
     "output_type": "display_data"
    },
    {
     "data": {
      "text/markdown": [
       "**Kolerasi dengan kolom 'price_range'**"
      ],
      "text/plain": [
       "<IPython.core.display.Markdown object>"
      ]
     },
     "metadata": {},
     "output_type": "display_data"
    },
    {
     "name": "stdout",
     "output_type": "stream",
     "text": [
      "0.019911698810365006\n"
     ]
    },
    {
     "data": {
      "text/markdown": [
       "Hasil Analisis"
      ],
      "text/plain": [
       "<IPython.core.display.Markdown object>"
      ]
     },
     "metadata": {},
     "output_type": "display_data"
    },
    {
     "data": {
      "text/markdown": [
       "**Hasil Analisis**\n",
       "\n",
       "|   Nomor | Hasil Analisis                                                                                                         |\n",
       "|--------:|:-----------------------------------------------------------------------------------------------------------------------|\n",
       "|       1 | Di dapat dari statistika dasar bahwa jumlah data ada sebanyak 1400 dengan nilai minimun adalah 0 dan nilai max ada     |\n",
       "|         | lah 18. Kemudian Q1 adalah 2, Q2 adalah 5 dan Q3 adalah 9 standar deviasi adalah 4.37223 dan mean 5.665                |\n",
       "|         | Dari sini juga dapat disimpulkan bahwa IQR sebesar 7                                                                   |\n",
       "|       2 | Ada beberapa duplicate value pada tabel ini dengan yang paling banyak adalah angka 1 duplicate sebanyak 151,           |\n",
       "|         | 3 duplicate sebanyak 144 dan sebagainya dapat dilihat lengkap pada tabel duplicate value                               |\n",
       "|       3 | Tidak ada missing value, Artinya pada kolom ini semuanya mempunyai nilai                                               |\n",
       "|       4 | Tidak ada outlier hal ini seperti yang diketahui batas bawahnya adalah Q1 - 1.5IQR yakni sebesar -8.5 dan batas atas   |\n",
       "|         | sebesar Q3 + 1.5IQR yakni sebesar 19.5 nilai terkecil adalah 0 dan nilai terbesar adalah 18 sehingga tidak ada outlier |\n",
       "|       5 | Kurtosis bernilai -0.33772957471254195(negatif) yang artinya menunjukkan distribusi data cenderung rata                |\n",
       "|       6 | Kolerasinya dengan kolom target sebesar 0.019911698810365006, nilai kolerasi jauh dari angka 1 malah mendekati angka 0 |\n",
       "|         | sehingga kolerasinya tidak kuat                                                                                        |"
      ],
      "text/plain": [
       "<IPython.core.display.Markdown object>"
      ]
     },
     "metadata": {},
     "output_type": "display_data"
    }
   ],
   "source": [
    "#Nomor 16 kolom sc_w\n",
    "finalValue('sc_w',df)\n",
    "#Hasil Analisis\n",
    "string1 = '''Di dapat dari statistika dasar bahwa jumlah data ada sebanyak 1400 dengan nilai minimun adalah 0 dan nilai max ada\n",
    "lah 18. Kemudian Q1 adalah 2, Q2 adalah 5 dan Q3 adalah 9 standar deviasi adalah 4.37223 dan mean 5.665\n",
    "Dari sini juga dapat disimpulkan bahwa IQR sebesar 7'''\n",
    "string2 = '''Ada beberapa duplicate value pada tabel ini dengan yang paling banyak adalah angka 1 duplicate sebanyak 151, \n",
    "3 duplicate sebanyak 144 dan sebagainya dapat dilihat lengkap pada tabel duplicate value'''\n",
    "string3 = '''Tidak ada missing value, Artinya pada kolom ini semuanya mempunyai nilai'''\n",
    "string4 = '''Tidak ada outlier hal ini seperti yang diketahui batas bawahnya adalah Q1 - 1.5IQR yakni sebesar -8.5 dan batas atas\n",
    "sebesar Q3 + 1.5IQR yakni sebesar 19.5 nilai terkecil adalah 0 dan nilai terbesar adalah 18 sehingga tidak ada outlier'''\n",
    "string5 = '''Kurtosis bernilai -0.33772957471254195(negatif) yang artinya menunjukkan distribusi data cenderung rata'''\n",
    "string6 = '''Kolerasinya dengan kolom target sebesar 0.019911698810365006, nilai kolerasi jauh dari angka 1 malah mendekati angka 0\n",
    "sehingga kolerasinya tidak kuat'''\n",
    "analisis(string1, string2, string3, string4, string5, string6)"
   ]
  },
  {
   "cell_type": "code",
   "execution_count": 82,
   "id": "ef493b77",
   "metadata": {},
   "outputs": [
    {
     "data": {
      "text/markdown": [
       "**Statistika Dasar talk_time**"
      ],
      "text/plain": [
       "<IPython.core.display.Markdown object>"
      ]
     },
     "metadata": {},
     "output_type": "display_data"
    },
    {
     "data": {
      "text/markdown": [
       "|       |   Statistik Dasar |\n",
       "|:------|------------------:|\n",
       "| count |        1400       |\n",
       "| mean  |          11.0421  |\n",
       "| std   |           5.39905 |\n",
       "| min   |           2       |\n",
       "| 25%   |           6       |\n",
       "| 50%   |          11       |\n",
       "| 75%   |          16       |\n",
       "| max   |          20       |"
      ],
      "text/plain": [
       "<IPython.core.display.Markdown object>"
      ]
     },
     "metadata": {},
     "output_type": "display_data"
    },
    {
     "data": {
      "text/markdown": [
       "**Duplicate Value talk_time Data Train**"
      ],
      "text/plain": [
       "<IPython.core.display.Markdown object>"
      ]
     },
     "metadata": {},
     "output_type": "display_data"
    },
    {
     "data": {
      "text/markdown": [
       "|    |   Duplicate Value |\n",
       "|---:|------------------:|\n",
       "| 15 |                86 |\n",
       "| 16 |                82 |\n",
       "|  4 |                81 |\n",
       "|  7 |                81 |\n",
       "| 19 |                80 |\n",
       "|  8 |                79 |\n",
       "|  9 |                78 |\n",
       "| 12 |                78 |\n",
       "| 18 |                77 |\n",
       "| 14 |                77 |\n",
       "|  6 |                77 |\n",
       "| 11 |                73 |\n",
       "|  2 |                69 |\n",
       "| 10 |                68 |\n",
       "| 13 |                65 |\n",
       "|  5 |                63 |\n",
       "|  3 |                63 |\n",
       "| 20 |                63 |\n",
       "| 17 |                60 |"
      ],
      "text/plain": [
       "<IPython.core.display.Markdown object>"
      ]
     },
     "metadata": {},
     "output_type": "display_data"
    },
    {
     "data": {
      "text/markdown": [
       "**Missing Value talk_time Data Train**"
      ],
      "text/plain": [
       "<IPython.core.display.Markdown object>"
      ]
     },
     "metadata": {},
     "output_type": "display_data"
    },
    {
     "data": {
      "text/plain": [
       "'Tidak ada missing value'"
      ]
     },
     "metadata": {},
     "output_type": "display_data"
    },
    {
     "data": {
      "text/markdown": [
       "**Outlier talk_time Data Train**"
      ],
      "text/plain": [
       "<IPython.core.display.Markdown object>"
      ]
     },
     "metadata": {},
     "output_type": "display_data"
    },
    {
     "data": {
      "text/markdown": [
       "Tidak ada outlier"
      ],
      "text/plain": [
       "<IPython.core.display.Markdown object>"
      ]
     },
     "metadata": {},
     "output_type": "display_data"
    },
    {
     "data": {
      "text/markdown": [
       "**Distribusi data**"
      ],
      "text/plain": [
       "<IPython.core.display.Markdown object>"
      ]
     },
     "metadata": {},
     "output_type": "display_data"
    },
    {
     "name": "stdout",
     "output_type": "stream",
     "text": [
      "Nilai Kurtosis\n",
      "-1.192047843180249\n"
     ]
    },
    {
     "data": {
      "image/png": "[encoded data removed]",
      "text/plain": [
       "<Figure size 800x400 with 1 Axes>"
      ]
     },
     "metadata": {},
     "output_type": "display_data"
    },
    {
     "data": {
      "text/markdown": [
       "**Kolerasi dengan kolom 'price_range'**"
      ],
      "text/plain": [
       "<IPython.core.display.Markdown object>"
      ]
     },
     "metadata": {},
     "output_type": "display_data"
    },
    {
     "name": "stdout",
     "output_type": "stream",
     "text": [
      "0.011112731754754877\n"
     ]
    },
    {
     "data": {
      "text/markdown": [
       "Hasil Analisis"
      ],
      "text/plain": [
       "<IPython.core.display.Markdown object>"
      ]
     },
     "metadata": {},
     "output_type": "display_data"
    },
    {
     "data": {
      "text/markdown": [
       "**Hasil Analisis**\n",
       "\n",
       "|   Nomor | Hasil Analisis                                                                                                         |\n",
       "|--------:|:-----------------------------------------------------------------------------------------------------------------------|\n",
       "|       1 | Di dapat dari statistika dasar bahwa jumlah data ada sebanyak 1400 dengan nilai minimun adalah 2 dan nilai max ada     |\n",
       "|         | lah 20. Kemudian Q1 adalah 6, Q2 adalah 11 dan Q3 adalah 16 standar deviasi adalah 5.39905 dan mean 11.0421            |\n",
       "|         | Dari sini juga dapat disimpulkan bahwa IQR sebesar 10                                                                  |\n",
       "|       2 | Ada beberapa duplicate value pada tabel ini dengan yang paling banyak adalah angka 15 duplicate sebanyak 86,           |\n",
       "|         | 16 duplicate sebanyak 82 dan sebagainya dapat dilihat lengkap pada tabel duplicate value                               |\n",
       "|       3 | Tidak ada missing value, Artinya pada kolom ini semuanya mempunyai nilai                                               |\n",
       "|       4 | Tidak ada outlier hal ini seperti yang diketahui batas bawahnya adalah Q1 - 1.5IQR yakni sebesar -9 dan batas atas     |\n",
       "|         | sebesar Q3 + 1.5IQR yakni sebesar 31 nilai terkecil adalah 2 dan nilai terbesar adalah 20 sehingga tidak ada outlier   |\n",
       "|       5 | Kurtosis bernilai -1.192047843180249(negatif) yang artinya menunjukkan distribusi data cenderung rata                  |\n",
       "|       6 | Kolerasinya dengan kolom target sebesar 0.011112731754754877, nilai kolerasi jauh dari angka 1 malah mendekati angka 0 |\n",
       "|         | sehingga kolerasinya tidak kuat                                                                                        |"
      ],
      "text/plain": [
       "<IPython.core.display.Markdown object>"
      ]
     },
     "metadata": {},
     "output_type": "display_data"
    }
   ],
   "source": [
    "#Nomor 17 kolom talk_time\n",
    "finalValue('talk_time',df)\n",
    "#Hasil Analisis\n",
    "string1 = '''Di dapat dari statistika dasar bahwa jumlah data ada sebanyak 1400 dengan nilai minimun adalah 2 dan nilai max ada\n",
    "lah 20. Kemudian Q1 adalah 6, Q2 adalah 11 dan Q3 adalah 16 standar deviasi adalah 5.39905 dan mean 11.0421\n",
    "Dari sini juga dapat disimpulkan bahwa IQR sebesar 10'''\n",
    "string2 = '''Ada beberapa duplicate value pada tabel ini dengan yang paling banyak adalah angka 15 duplicate sebanyak 86, \n",
    "16 duplicate sebanyak 82 dan sebagainya dapat dilihat lengkap pada tabel duplicate value'''\n",
    "string3 = '''Tidak ada missing value, Artinya pada kolom ini semuanya mempunyai nilai'''\n",
    "string4 = '''Tidak ada outlier hal ini seperti yang diketahui batas bawahnya adalah Q1 - 1.5IQR yakni sebesar -9 dan batas atas\n",
    "sebesar Q3 + 1.5IQR yakni sebesar 31 nilai terkecil adalah 2 dan nilai terbesar adalah 20 sehingga tidak ada outlier'''\n",
    "string5 = '''Kurtosis bernilai -1.192047843180249(negatif) yang artinya menunjukkan distribusi data cenderung rata'''\n",
    "string6 = '''Kolerasinya dengan kolom target sebesar 0.011112731754754877, nilai kolerasi jauh dari angka 1 malah mendekati angka 0\n",
    "sehingga kolerasinya tidak kuat'''\n",
    "analisis(string1, string2, string3, string4, string5, string6)"
   ]
  },
  {
   "cell_type": "code",
   "execution_count": 83,
   "id": "d393da6e",
   "metadata": {},
   "outputs": [
    {
     "data": {
      "text/markdown": [
       "**Statistika Dasar three_g**"
      ],
      "text/plain": [
       "<IPython.core.display.Markdown object>"
      ]
     },
     "metadata": {},
     "output_type": "display_data"
    },
    {
     "data": {
      "text/markdown": [
       "|        |   Statistik Dasar |\n",
       "|:-------|------------------:|\n",
       "| count  |              1400 |\n",
       "| unique |                 2 |\n",
       "| top    |                 1 |\n",
       "| freq   |              1065 |"
      ],
      "text/plain": [
       "<IPython.core.display.Markdown object>"
      ]
     },
     "metadata": {},
     "output_type": "display_data"
    },
    {
     "data": {
      "text/markdown": [
       "**Duplicate Value three_g Data Train**"
      ],
      "text/plain": [
       "<IPython.core.display.Markdown object>"
      ]
     },
     "metadata": {},
     "output_type": "display_data"
    },
    {
     "data": {
      "text/markdown": [
       "|       |   Duplicate Value |\n",
       "|:------|------------------:|\n",
       "| True  |              1065 |\n",
       "| False |               335 |"
      ],
      "text/plain": [
       "<IPython.core.display.Markdown object>"
      ]
     },
     "metadata": {},
     "output_type": "display_data"
    },
    {
     "data": {
      "text/markdown": [
       "**Missing Value three_g Data Train**"
      ],
      "text/plain": [
       "<IPython.core.display.Markdown object>"
      ]
     },
     "metadata": {},
     "output_type": "display_data"
    },
    {
     "data": {
      "text/plain": [
       "'Tidak ada missing value'"
      ]
     },
     "metadata": {},
     "output_type": "display_data"
    },
    {
     "data": {
      "text/markdown": [
       "**Outlier three_g Data Train**"
      ],
      "text/plain": [
       "<IPython.core.display.Markdown object>"
      ]
     },
     "metadata": {},
     "output_type": "display_data"
    },
    {
     "data": {
      "text/markdown": [
       "Tidak ada outlier"
      ],
      "text/plain": [
       "<IPython.core.display.Markdown object>"
      ]
     },
     "metadata": {},
     "output_type": "display_data"
    },
    {
     "data": {
      "text/markdown": [
       "**Distribusi data**"
      ],
      "text/plain": [
       "<IPython.core.display.Markdown object>"
      ]
     },
     "metadata": {},
     "output_type": "display_data"
    },
    {
     "data": {
      "image/png": "[encoded data removed]",
      "text/plain": [
       "<Figure size 600x400 with 1 Axes>"
      ]
     },
     "metadata": {},
     "output_type": "display_data"
    },
    {
     "data": {
      "text/markdown": [
       "**Kolerasi dengan kolom 'price_range'**"
      ],
      "text/plain": [
       "<IPython.core.display.Markdown object>"
      ]
     },
     "metadata": {},
     "output_type": "display_data"
    },
    {
     "name": "stdout",
     "output_type": "stream",
     "text": [
      "0.02709762831217497\n"
     ]
    },
    {
     "data": {
      "text/markdown": [
       "Hasil Analisis"
      ],
      "text/plain": [
       "<IPython.core.display.Markdown object>"
      ]
     },
     "metadata": {},
     "output_type": "display_data"
    },
    {
     "data": {
      "text/markdown": [
       "**Hasil Analisis**\n",
       "\n",
       "|   Nomor | Hasil Analisis                                                                                                                               |\n",
       "|--------:|:---------------------------------------------------------------------------------------------------------------------------------------------|\n",
       "|       1 | Tipe data kolom ini adalah boolean sehingga statistika dasar yang didapat adalah sebagai berikut jumlah data ada sebanyak 1400               |\n",
       "|         | dengan nilai unique sebanyak 2 yang artinya hanya ada kemungkinan dua nilai dan nilai yang paling sering muncul adalah 1(True) sebanyak 1065 |\n",
       "|       2 | Karena hanya terdiri dari dua kategori pasti ada duplicate value yakni 1(True) sebanyak 1065 dan 0(False) sebanyak 335                       |\n",
       "|       3 | Tidak ada missing value, Artinya pada kolom ini semuanya mempunyai nilai                                                                     |\n",
       "|       4 | Tidak ada outlier karena semua data nilainya kalo tidak 1(True) dia akan 0(False) tidak ada yang di luar itu                                 |\n",
       "|       5 | Tidak memiliki nilai kurtosis karena tipe data bukan numerik                                                                                 |\n",
       "|       6 | Kolerasinya dengan kolom target sebesar 0.02709762831217497, nilai kolerasi jauh dari angka 1 malah mendekati angka 0                        |\n",
       "|         | sehingga kolerasinya tidak kuat                                                                                                              |"
      ],
      "text/plain": [
       "<IPython.core.display.Markdown object>"
      ]
     },
     "metadata": {},
     "output_type": "display_data"
    }
   ],
   "source": [
    "#Nomor 18 kolom three_g \n",
    "finalValue('three_g',df)\n",
    "#Hasil Analisis\n",
    "string1 = '''Tipe data kolom ini adalah boolean sehingga statistika dasar yang didapat adalah sebagai berikut jumlah data ada sebanyak 1400 \n",
    "dengan nilai unique sebanyak 2 yang artinya hanya ada kemungkinan dua nilai dan nilai yang paling sering muncul adalah 1(True) sebanyak 1065'''\n",
    "string2 = '''Karena hanya terdiri dari dua kategori pasti ada duplicate value yakni 1(True) sebanyak 1065 dan 0(False) sebanyak 335'''\n",
    "string3 = '''Tidak ada missing value, Artinya pada kolom ini semuanya mempunyai nilai'''\n",
    "string4 = '''Tidak ada outlier karena semua data nilainya kalo tidak 1(True) dia akan 0(False) tidak ada yang di luar itu'''\n",
    "string5 = '''Tidak memiliki nilai kurtosis karena tipe data bukan numerik'''\n",
    "string6 = '''Kolerasinya dengan kolom target sebesar 0.02709762831217497, nilai kolerasi jauh dari angka 1 malah mendekati angka 0\n",
    "sehingga kolerasinya tidak kuat'''\n",
    "analisis(string1, string2, string3, string4, string5, string6)"
   ]
  },
  {
   "cell_type": "code",
   "execution_count": 84,
   "id": "fdf03df4",
   "metadata": {},
   "outputs": [
    {
     "data": {
      "text/markdown": [
       "**Statistika Dasar touch_screen**"
      ],
      "text/plain": [
       "<IPython.core.display.Markdown object>"
      ]
     },
     "metadata": {},
     "output_type": "display_data"
    },
    {
     "data": {
      "text/markdown": [
       "|        |   Statistik Dasar |\n",
       "|:-------|------------------:|\n",
       "| count  |              1400 |\n",
       "| unique |                 2 |\n",
       "| top    |                 0 |\n",
       "| freq   |               715 |"
      ],
      "text/plain": [
       "<IPython.core.display.Markdown object>"
      ]
     },
     "metadata": {},
     "output_type": "display_data"
    },
    {
     "data": {
      "text/markdown": [
       "**Duplicate Value touch_screen Data Train**"
      ],
      "text/plain": [
       "<IPython.core.display.Markdown object>"
      ]
     },
     "metadata": {},
     "output_type": "display_data"
    },
    {
     "data": {
      "text/markdown": [
       "|       |   Duplicate Value |\n",
       "|:------|------------------:|\n",
       "| False |               715 |\n",
       "| True  |               685 |"
      ],
      "text/plain": [
       "<IPython.core.display.Markdown object>"
      ]
     },
     "metadata": {},
     "output_type": "display_data"
    },
    {
     "data": {
      "text/markdown": [
       "**Missing Value touch_screen Data Train**"
      ],
      "text/plain": [
       "<IPython.core.display.Markdown object>"
      ]
     },
     "metadata": {},
     "output_type": "display_data"
    },
    {
     "data": {
      "text/plain": [
       "'Tidak ada missing value'"
      ]
     },
     "metadata": {},
     "output_type": "display_data"
    },
    {
     "data": {
      "text/markdown": [
       "**Outlier touch_screen Data Train**"
      ],
      "text/plain": [
       "<IPython.core.display.Markdown object>"
      ]
     },
     "metadata": {},
     "output_type": "display_data"
    },
    {
     "data": {
      "text/markdown": [
       "Tidak ada outlier"
      ],
      "text/plain": [
       "<IPython.core.display.Markdown object>"
      ]
     },
     "metadata": {},
     "output_type": "display_data"
    },
    {
     "data": {
      "text/markdown": [
       "**Distribusi data**"
      ],
      "text/plain": [
       "<IPython.core.display.Markdown object>"
      ]
     },
     "metadata": {},
     "output_type": "display_data"
    },
    {
     "data": {
      "image/png": "[encoded data removed]",
      "text/plain": [
       "<Figure size 600x400 with 1 Axes>"
      ]
     },
     "metadata": {},
     "output_type": "display_data"
    },
    {
     "data": {
      "text/markdown": [
       "**Kolerasi dengan kolom 'price_range'**"
      ],
      "text/plain": [
       "<IPython.core.display.Markdown object>"
      ]
     },
     "metadata": {},
     "output_type": "display_data"
    },
    {
     "name": "stdout",
     "output_type": "stream",
     "text": [
      "-0.029842480103711946\n"
     ]
    },
    {
     "data": {
      "text/markdown": [
       "Hasil Analisis"
      ],
      "text/plain": [
       "<IPython.core.display.Markdown object>"
      ]
     },
     "metadata": {},
     "output_type": "display_data"
    },
    {
     "data": {
      "text/markdown": [
       "**Hasil Analisis**\n",
       "\n",
       "|   Nomor | Hasil Analisis                                                                                                                               |\n",
       "|--------:|:---------------------------------------------------------------------------------------------------------------------------------------------|\n",
       "|       1 | Tipe data kolom ini adalah boolean sehingga statistika dasar yang didapat adalah sebagai berikut jumlah data ada sebanyak 1400               |\n",
       "|         | dengan nilai unique sebanyak 2 yang artinya hanya ada kemungkinan dua nilai dan nilai yang paling sering muncul adalah 0(False) sebanyak 715 |\n",
       "|       2 | Karena hanya terdiri dari dua kategori pasti ada duplicate value yakni 1(True) sebanyak 685 dan 0(False) sebanyak 715                        |\n",
       "|       3 | Tidak ada missing value, Artinya pada kolom ini semuanya mempunyai nilai                                                                     |\n",
       "|       4 | Tidak ada outlier karena semua data nilainya kalo tidak 1(True) dia akan 0(False) tidak ada yang di luar itu                                 |\n",
       "|       5 | Tidak memiliki nilai kurtosis karena tipe data bukan numerik                                                                                 |\n",
       "|       6 | Kolerasinya dengan kolom target sebesar -0.029842480103711946, nilai kolerasi jauh dari angka -1 malah mendekati angka 0                     |\n",
       "|         | sehingga kolerasinya tidak kuat, tapi karena nilai ini negatif kemungkinan berpengaruhnya berbanding terbalik terhadap kolom target          |\n",
       "|         | tapi pengaruhnya tidak kuat                                                                                                                  |"
      ],
      "text/plain": [
       "<IPython.core.display.Markdown object>"
      ]
     },
     "metadata": {},
     "output_type": "display_data"
    }
   ],
   "source": [
    "#Nomor 19 kolom touch_screen\n",
    "finalValue('touch_screen',df)\n",
    "#Hasil Analisis\n",
    "string1 = '''Tipe data kolom ini adalah boolean sehingga statistika dasar yang didapat adalah sebagai berikut jumlah data ada sebanyak 1400 \n",
    "dengan nilai unique sebanyak 2 yang artinya hanya ada kemungkinan dua nilai dan nilai yang paling sering muncul adalah 0(False) sebanyak 715'''\n",
    "string2 = '''Karena hanya terdiri dari dua kategori pasti ada duplicate value yakni 1(True) sebanyak 685 dan 0(False) sebanyak 715'''\n",
    "string3 = '''Tidak ada missing value, Artinya pada kolom ini semuanya mempunyai nilai'''\n",
    "string4 = '''Tidak ada outlier karena semua data nilainya kalo tidak 1(True) dia akan 0(False) tidak ada yang di luar itu'''\n",
    "string5 = '''Tidak memiliki nilai kurtosis karena tipe data bukan numerik'''\n",
    "string6 = '''Kolerasinya dengan kolom target sebesar -0.029842480103711946, nilai kolerasi jauh dari angka -1 malah mendekati angka 0\n",
    "sehingga kolerasinya tidak kuat, tapi karena nilai ini negatif kemungkinan berpengaruhnya berbanding terbalik terhadap kolom target\n",
    "tapi pengaruhnya tidak kuat'''\n",
    "analisis(string1, string2, string3, string4, string5, string6)"
   ]
  },
  {
   "cell_type": "code",
   "execution_count": 85,
   "id": "67a41f10",
   "metadata": {},
   "outputs": [
    {
     "data": {
      "text/markdown": [
       "**Statistika Dasar wifi**"
      ],
      "text/plain": [
       "<IPython.core.display.Markdown object>"
      ]
     },
     "metadata": {},
     "output_type": "display_data"
    },
    {
     "data": {
      "text/markdown": [
       "|        |   Statistik Dasar |\n",
       "|:-------|------------------:|\n",
       "| count  |              1400 |\n",
       "| unique |                 2 |\n",
       "| top    |                 0 |\n",
       "| freq   |               707 |"
      ],
      "text/plain": [
       "<IPython.core.display.Markdown object>"
      ]
     },
     "metadata": {},
     "output_type": "display_data"
    },
    {
     "data": {
      "text/markdown": [
       "**Duplicate Value wifi Data Train**"
      ],
      "text/plain": [
       "<IPython.core.display.Markdown object>"
      ]
     },
     "metadata": {},
     "output_type": "display_data"
    },
    {
     "data": {
      "text/markdown": [
       "|       |   Duplicate Value |\n",
       "|:------|------------------:|\n",
       "| False |               707 |\n",
       "| True  |               693 |"
      ],
      "text/plain": [
       "<IPython.core.display.Markdown object>"
      ]
     },
     "metadata": {},
     "output_type": "display_data"
    },
    {
     "data": {
      "text/markdown": [
       "**Missing Value wifi Data Train**"
      ],
      "text/plain": [
       "<IPython.core.display.Markdown object>"
      ]
     },
     "metadata": {},
     "output_type": "display_data"
    },
    {
     "data": {
      "text/plain": [
       "'Tidak ada missing value'"
      ]
     },
     "metadata": {},
     "output_type": "display_data"
    },
    {
     "data": {
      "text/markdown": [
       "**Outlier wifi Data Train**"
      ],
      "text/plain": [
       "<IPython.core.display.Markdown object>"
      ]
     },
     "metadata": {},
     "output_type": "display_data"
    },
    {
     "data": {
      "text/markdown": [
       "Tidak ada outlier"
      ],
      "text/plain": [
       "<IPython.core.display.Markdown object>"
      ]
     },
     "metadata": {},
     "output_type": "display_data"
    },
    {
     "data": {
      "text/markdown": [
       "**Distribusi data**"
      ],
      "text/plain": [
       "<IPython.core.display.Markdown object>"
      ]
     },
     "metadata": {},
     "output_type": "display_data"
    },
    {
     "data": {
      "image/png": "[encoded data removed]",
      "text/plain": [
       "<Figure size 600x400 with 1 Axes>"
      ]
     },
     "metadata": {},
     "output_type": "display_data"
    },
    {
     "data": {
      "text/markdown": [
       "**Kolerasi dengan kolom 'price_range'**"
      ],
      "text/plain": [
       "<IPython.core.display.Markdown object>"
      ]
     },
     "metadata": {},
     "output_type": "display_data"
    },
    {
     "name": "stdout",
     "output_type": "stream",
     "text": [
      "0.03432935762117287\n"
     ]
    },
    {
     "data": {
      "text/markdown": [
       "Hasil Analisis"
      ],
      "text/plain": [
       "<IPython.core.display.Markdown object>"
      ]
     },
     "metadata": {},
     "output_type": "display_data"
    },
    {
     "data": {
      "text/markdown": [
       "**Hasil Analisis**\n",
       "\n",
       "|   Nomor | Hasil Analisis                                                                                                                               |\n",
       "|--------:|:---------------------------------------------------------------------------------------------------------------------------------------------|\n",
       "|       1 | Tipe data kolom ini adalah boolean sehingga statistika dasar yang didapat adalah sebagai berikut jumlah data ada sebanyak 1400               |\n",
       "|         | dengan nilai unique sebanyak 2 yang artinya hanya ada kemungkinan dua nilai dan nilai yang paling sering muncul adalah 0(False) sebanyak 707 |\n",
       "|       2 | Karena hanya terdiri dari dua kategori pasti ada duplicate value yakni 1(True) sebanyak 693 dan 0(False) sebanyak 707                        |\n",
       "|       3 | Tidak ada missing value, Artinya pada kolom ini semuanya mempunyai nilai                                                                     |\n",
       "|       4 | Tidak ada outlier karena semua data nilainya kalo tidak 1(True) dia akan 0(False) tidak ada yang di luar itu                                 |\n",
       "|       5 | Tidak memiliki nilai kurtosis karena tipe data bukan numerik                                                                                 |\n",
       "|       6 | Kolerasinya dengan kolom target sebesar 0.03432935762117287, nilai kolerasi jauh dari angka 1 malah mendekati angka 0                        |\n",
       "|         | sehingga kolerasinya tidak kuat                                                                                                              |"
      ],
      "text/plain": [
       "<IPython.core.display.Markdown object>"
      ]
     },
     "metadata": {},
     "output_type": "display_data"
    }
   ],
   "source": [
    "#Nomor 20 kolom wifi\n",
    "finalValue('wifi',df)\n",
    "#Hasil Analisis\n",
    "string1 = '''Tipe data kolom ini adalah boolean sehingga statistika dasar yang didapat adalah sebagai berikut jumlah data ada sebanyak 1400 \n",
    "dengan nilai unique sebanyak 2 yang artinya hanya ada kemungkinan dua nilai dan nilai yang paling sering muncul adalah 0(False) sebanyak 707'''\n",
    "string2 = '''Karena hanya terdiri dari dua kategori pasti ada duplicate value yakni 1(True) sebanyak 693 dan 0(False) sebanyak 707'''\n",
    "string3 = '''Tidak ada missing value, Artinya pada kolom ini semuanya mempunyai nilai'''\n",
    "string4 = '''Tidak ada outlier karena semua data nilainya kalo tidak 1(True) dia akan 0(False) tidak ada yang di luar itu'''\n",
    "string5 = '''Tidak memiliki nilai kurtosis karena tipe data bukan numerik'''\n",
    "string6 = '''Kolerasinya dengan kolom target sebesar 0.03432935762117287, nilai kolerasi jauh dari angka 1 malah mendekati angka 0\n",
    "sehingga kolerasinya tidak kuat'''\n",
    "analisis(string1, string2, string3, string4, string5, string6)"
   ]
  },
  {
   "cell_type": "code",
   "execution_count": 86,
   "id": "ef3d1710",
   "metadata": {},
   "outputs": [
    {
     "data": {
      "text/markdown": [
       "**Statistika Dasar price_range**"
      ],
      "text/plain": [
       "<IPython.core.display.Markdown object>"
      ]
     },
     "metadata": {},
     "output_type": "display_data"
    },
    {
     "data": {
      "text/markdown": [
       "|       |   Statistik Dasar |\n",
       "|:------|------------------:|\n",
       "| count |        1400       |\n",
       "| mean  |           1.47786 |\n",
       "| std   |           1.11757 |\n",
       "| min   |           0       |\n",
       "| 25%   |           0       |\n",
       "| 50%   |           1       |\n",
       "| 75%   |           2       |\n",
       "| max   |           3       |"
      ],
      "text/plain": [
       "<IPython.core.display.Markdown object>"
      ]
     },
     "metadata": {},
     "output_type": "display_data"
    },
    {
     "data": {
      "text/markdown": [
       "**Duplicate Value price_range Data Train**"
      ],
      "text/plain": [
       "<IPython.core.display.Markdown object>"
      ]
     },
     "metadata": {},
     "output_type": "display_data"
    },
    {
     "data": {
      "text/markdown": [
       "|    |   Duplicate Value |\n",
       "|---:|------------------:|\n",
       "|  0 |               358 |\n",
       "|  1 |               356 |\n",
       "|  2 |               345 |\n",
       "|  3 |               341 |"
      ],
      "text/plain": [
       "<IPython.core.display.Markdown object>"
      ]
     },
     "metadata": {},
     "output_type": "display_data"
    },
    {
     "data": {
      "text/markdown": [
       "**Missing Value price_range Data Train**"
      ],
      "text/plain": [
       "<IPython.core.display.Markdown object>"
      ]
     },
     "metadata": {},
     "output_type": "display_data"
    },
    {
     "data": {
      "text/plain": [
       "'Tidak ada missing value'"
      ]
     },
     "metadata": {},
     "output_type": "display_data"
    },
    {
     "data": {
      "text/markdown": [
       "**Outlier price_range Data Train**"
      ],
      "text/plain": [
       "<IPython.core.display.Markdown object>"
      ]
     },
     "metadata": {},
     "output_type": "display_data"
    },
    {
     "data": {
      "text/markdown": [
       "Tidak ada outlier"
      ],
      "text/plain": [
       "<IPython.core.display.Markdown object>"
      ]
     },
     "metadata": {},
     "output_type": "display_data"
    },
    {
     "data": {
      "text/markdown": [
       "**Distribusi data**"
      ],
      "text/plain": [
       "<IPython.core.display.Markdown object>"
      ]
     },
     "metadata": {},
     "output_type": "display_data"
    },
    {
     "name": "stdout",
     "output_type": "stream",
     "text": [
      "Nilai Kurtosis\n",
      "-1.3572745403899689\n"
     ]
    },
    {
     "data": {
      "image/png": "[encoded data removed]",
      "text/plain": [
       "<Figure size 800x400 with 1 Axes>"
      ]
     },
     "metadata": {},
     "output_type": "display_data"
    },
    {
     "data": {
      "text/markdown": [
       "**Kolerasi dengan kolom 'price_range'**"
      ],
      "text/plain": [
       "<IPython.core.display.Markdown object>"
      ]
     },
     "metadata": {},
     "output_type": "display_data"
    },
    {
     "name": "stdout",
     "output_type": "stream",
     "text": [
      "0.9999999999999998\n"
     ]
    },
    {
     "data": {
      "text/markdown": [
       "Hasil Analisis"
      ],
      "text/plain": [
       "<IPython.core.display.Markdown object>"
      ]
     },
     "metadata": {},
     "output_type": "display_data"
    },
    {
     "data": {
      "text/markdown": [
       "**Hasil Analisis**\n",
       "\n",
       "|   Nomor | Hasil Analisis                                                                                                              |\n",
       "|--------:|:----------------------------------------------------------------------------------------------------------------------------|\n",
       "|       1 | Di dapat dari statistika dasar bahwa jumlah data ada sebanyak 1400 dengan nilai minimun adalah 0 dan nilai max ada          |\n",
       "|         | lah 3. Kemudian Q1 adalah 0, Q2 adalah 1 dan Q3 adalah 2 standar deviasi adalah 1.11757 dan mean 1.47786                    |\n",
       "|         | Dari sini juga dapat disimpulkan bahwa IQR sebesar 1                                                                        |\n",
       "|       2 | Ada beberapa duplicate value pada tabel ini dengan yang paling banyak adalah angka 0 duplicate sebanyak 358, 1              |\n",
       "|         | duplicate sebanyak 356, 2 duplicate sebanyak 345 dan 3 duplicate sebanyak 341                                               |\n",
       "|       3 | Tidak ada missing value, Artinya pada kolom ini semuanya mempunyai nilai                                                    |\n",
       "|       4 | Tidak ada outlier hal ini seperti yang diketahui batas bawahnya adalah Q1 - 1.5IQR yakni sebesar -741 dan batas atas        |\n",
       "|         | sebesar Q3 + 1.5IQR yakni sebesar 1965 nilai terkecil adalah 0 dan nilai terbesar adalah 1960 sehingga tidak ada outlier    |\n",
       "|       5 | Kurtosis bernilai -1.3572745403899689 (negatif) yang artinya menunjukkan distribusi data cenderung rata                     |\n",
       "|       6 | Kolerasinya dengan kolom target sebesar 0.9999999999999998 sangat kuat karena memang kolom target disini adalah price_range |\n",
       "|         | itu sendiri                                                                                                                 |"
      ],
      "text/plain": [
       "<IPython.core.display.Markdown object>"
      ]
     },
     "metadata": {},
     "output_type": "display_data"
    }
   ],
   "source": [
    "#Nomor 21 kolom price_range\n",
    "finalValue('price_range',df)\n",
    "#Hasil Analisis\n",
    "string1 = '''Di dapat dari statistika dasar bahwa jumlah data ada sebanyak 1400 dengan nilai minimun adalah 0 dan nilai max ada\n",
    "lah 3. Kemudian Q1 adalah 0, Q2 adalah 1 dan Q3 adalah 2 standar deviasi adalah 1.11757 dan mean 1.47786\n",
    "Dari sini juga dapat disimpulkan bahwa IQR sebesar 1'''\n",
    "string2 = '''Ada beberapa duplicate value pada tabel ini dengan yang paling banyak adalah angka 0 duplicate sebanyak 358, 1 \n",
    "duplicate sebanyak 356, 2 duplicate sebanyak 345 dan 3 duplicate sebanyak 341'''\n",
    "string3 = '''Tidak ada missing value, Artinya pada kolom ini semuanya mempunyai nilai'''\n",
    "string4 = '''Tidak ada outlier hal ini seperti yang diketahui batas bawahnya adalah Q1 - 1.5IQR yakni sebesar -741 dan batas atas\n",
    "sebesar Q3 + 1.5IQR yakni sebesar 1965 nilai terkecil adalah 0 dan nilai terbesar adalah 1960 sehingga tidak ada outlier'''\n",
    "string5 = '''Kurtosis bernilai -1.3572745403899689 (negatif) yang artinya menunjukkan distribusi data cenderung rata'''\n",
    "string6 = '''Kolerasinya dengan kolom target sebesar 0.9999999999999998 sangat kuat karena memang kolom target disini adalah price_range\n",
    "itu sendiri'''\n",
    "analisis(string1, string2, string3, string4, string5, string6)"
   ]
  },
  {
   "cell_type": "code",
   "execution_count": null,
   "id": "21450f3a",
   "metadata": {},
   "outputs": [],
   "source": []
  },
  {
   "cell_type": "code",
   "execution_count": null,
   "id": "7391f02b",
   "metadata": {},
   "outputs": [],
   "source": []
  }
 ],
 "metadata": {
  "kernelspec": {
   "display_name": "Python 3 (ipykernel)",
   "language": "python",
   "name": "python3"
  },
  "language_info": {
   "codemirror_mode": {
    "name": "ipython",
    "version": 3
   },
   "file_extension": ".py",
   "mimetype": "text/x-python",
   "name": "python",
   "nbconvert_exporter": "python",
   "pygments_lexer": "ipython3",
   "version": "3.11.5"
  }
 },
 "nbformat": 4,
 "nbformat_minor": 5
}
